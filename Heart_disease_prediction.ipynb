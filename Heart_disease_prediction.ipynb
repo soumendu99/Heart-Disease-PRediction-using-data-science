{
  "cells": [
    {
      "cell_type": "markdown",
      "metadata": {
        "id": "view-in-github",
        "colab_type": "text"
      },
      "source": [
        "<a href=\"https://colab.research.google.com/github/soumendu99/Heart-Disease-PRediction-using-data-science/blob/main/Heart_disease_prediction.ipynb\" target=\"_parent\"><img src=\"https://colab.research.google.com/assets/colab-badge.svg\" alt=\"Open In Colab\"/></a>"
      ]
    },
    {
      "cell_type": "code",
      "source": [
        "import six\n",
        "import sys\n",
        "sys.modules['sklearn.externals.six'] = six\n",
        "!pip install mlrose\n",
        "import mlrose"
      ],
      "metadata": {
        "colab": {
          "base_uri": "https://localhost:8080/"
        },
        "id": "kGQLKfkuAloK",
        "outputId": "db198d51-6664-4f98-f430-fdd131e395fa"
      },
      "id": "kGQLKfkuAloK",
      "execution_count": 1,
      "outputs": [
        {
          "output_type": "stream",
          "name": "stdout",
          "text": [
            "Looking in indexes: https://pypi.org/simple, https://us-python.pkg.dev/colab-wheels/public/simple/\n",
            "Collecting mlrose\n",
            "  Downloading mlrose-1.3.0-py3-none-any.whl (27 kB)\n",
            "Collecting sklearn\n",
            "  Downloading sklearn-0.0.post1.tar.gz (3.6 kB)\n",
            "Requirement already satisfied: scipy in /usr/local/lib/python3.7/dist-packages (from mlrose) (1.7.3)\n",
            "Requirement already satisfied: numpy in /usr/local/lib/python3.7/dist-packages (from mlrose) (1.21.6)\n",
            "Building wheels for collected packages: sklearn\n",
            "  Building wheel for sklearn (setup.py) ... \u001b[?25l\u001b[?25hdone\n",
            "  Created wheel for sklearn: filename=sklearn-0.0.post1-py3-none-any.whl size=2344 sha256=13ab382aca1f1724298126eff9730d393d9e30cbea7069bdd9cce92aa25318f4\n",
            "  Stored in directory: /root/.cache/pip/wheels/42/56/cc/4a8bf86613aafd5b7f1b310477667c1fca5c51c3ae4124a003\n",
            "Successfully built sklearn\n",
            "Installing collected packages: sklearn, mlrose\n",
            "Successfully installed mlrose-1.3.0 sklearn-0.0.post1\n"
          ]
        }
      ]
    },
    {
      "cell_type": "code",
      "execution_count": 94,
      "id": "596411f1",
      "metadata": {
        "id": "596411f1"
      },
      "outputs": [],
      "source": [
        "import pandas as pd\n",
        "import numpy as np\n",
        "import seaborn as sns\n",
        "import matplotlib.pyplot as plt"
      ]
    },
    {
      "cell_type": "code",
      "execution_count": 3,
      "id": "ebba9043",
      "metadata": {
        "id": "ebba9043"
      },
      "outputs": [],
      "source": [
        "#read_data"
      ]
    },
    {
      "cell_type": "code",
      "source": [
        "from google.colab import files\n",
        "uploaded = files.upload()"
      ],
      "metadata": {
        "colab": {
          "base_uri": "https://localhost:8080/",
          "height": 73
        },
        "id": "vQRRLmRA9--n",
        "outputId": "ac4e2143-a2c4-42b3-8d5d-eb13346a0116"
      },
      "id": "vQRRLmRA9--n",
      "execution_count": 4,
      "outputs": [
        {
          "output_type": "display_data",
          "data": {
            "text/plain": [
              "<IPython.core.display.HTML object>"
            ],
            "text/html": [
              "\n",
              "     <input type=\"file\" id=\"files-f7f96830-0e66-4530-9daa-1ec7bce4643e\" name=\"files[]\" multiple disabled\n",
              "        style=\"border:none\" />\n",
              "     <output id=\"result-f7f96830-0e66-4530-9daa-1ec7bce4643e\">\n",
              "      Upload widget is only available when the cell has been executed in the\n",
              "      current browser session. Please rerun this cell to enable.\n",
              "      </output>\n",
              "      <script>// Copyright 2017 Google LLC\n",
              "//\n",
              "// Licensed under the Apache License, Version 2.0 (the \"License\");\n",
              "// you may not use this file except in compliance with the License.\n",
              "// You may obtain a copy of the License at\n",
              "//\n",
              "//      http://www.apache.org/licenses/LICENSE-2.0\n",
              "//\n",
              "// Unless required by applicable law or agreed to in writing, software\n",
              "// distributed under the License is distributed on an \"AS IS\" BASIS,\n",
              "// WITHOUT WARRANTIES OR CONDITIONS OF ANY KIND, either express or implied.\n",
              "// See the License for the specific language governing permissions and\n",
              "// limitations under the License.\n",
              "\n",
              "/**\n",
              " * @fileoverview Helpers for google.colab Python module.\n",
              " */\n",
              "(function(scope) {\n",
              "function span(text, styleAttributes = {}) {\n",
              "  const element = document.createElement('span');\n",
              "  element.textContent = text;\n",
              "  for (const key of Object.keys(styleAttributes)) {\n",
              "    element.style[key] = styleAttributes[key];\n",
              "  }\n",
              "  return element;\n",
              "}\n",
              "\n",
              "// Max number of bytes which will be uploaded at a time.\n",
              "const MAX_PAYLOAD_SIZE = 100 * 1024;\n",
              "\n",
              "function _uploadFiles(inputId, outputId) {\n",
              "  const steps = uploadFilesStep(inputId, outputId);\n",
              "  const outputElement = document.getElementById(outputId);\n",
              "  // Cache steps on the outputElement to make it available for the next call\n",
              "  // to uploadFilesContinue from Python.\n",
              "  outputElement.steps = steps;\n",
              "\n",
              "  return _uploadFilesContinue(outputId);\n",
              "}\n",
              "\n",
              "// This is roughly an async generator (not supported in the browser yet),\n",
              "// where there are multiple asynchronous steps and the Python side is going\n",
              "// to poll for completion of each step.\n",
              "// This uses a Promise to block the python side on completion of each step,\n",
              "// then passes the result of the previous step as the input to the next step.\n",
              "function _uploadFilesContinue(outputId) {\n",
              "  const outputElement = document.getElementById(outputId);\n",
              "  const steps = outputElement.steps;\n",
              "\n",
              "  const next = steps.next(outputElement.lastPromiseValue);\n",
              "  return Promise.resolve(next.value.promise).then((value) => {\n",
              "    // Cache the last promise value to make it available to the next\n",
              "    // step of the generator.\n",
              "    outputElement.lastPromiseValue = value;\n",
              "    return next.value.response;\n",
              "  });\n",
              "}\n",
              "\n",
              "/**\n",
              " * Generator function which is called between each async step of the upload\n",
              " * process.\n",
              " * @param {string} inputId Element ID of the input file picker element.\n",
              " * @param {string} outputId Element ID of the output display.\n",
              " * @return {!Iterable<!Object>} Iterable of next steps.\n",
              " */\n",
              "function* uploadFilesStep(inputId, outputId) {\n",
              "  const inputElement = document.getElementById(inputId);\n",
              "  inputElement.disabled = false;\n",
              "\n",
              "  const outputElement = document.getElementById(outputId);\n",
              "  outputElement.innerHTML = '';\n",
              "\n",
              "  const pickedPromise = new Promise((resolve) => {\n",
              "    inputElement.addEventListener('change', (e) => {\n",
              "      resolve(e.target.files);\n",
              "    });\n",
              "  });\n",
              "\n",
              "  const cancel = document.createElement('button');\n",
              "  inputElement.parentElement.appendChild(cancel);\n",
              "  cancel.textContent = 'Cancel upload';\n",
              "  const cancelPromise = new Promise((resolve) => {\n",
              "    cancel.onclick = () => {\n",
              "      resolve(null);\n",
              "    };\n",
              "  });\n",
              "\n",
              "  // Wait for the user to pick the files.\n",
              "  const files = yield {\n",
              "    promise: Promise.race([pickedPromise, cancelPromise]),\n",
              "    response: {\n",
              "      action: 'starting',\n",
              "    }\n",
              "  };\n",
              "\n",
              "  cancel.remove();\n",
              "\n",
              "  // Disable the input element since further picks are not allowed.\n",
              "  inputElement.disabled = true;\n",
              "\n",
              "  if (!files) {\n",
              "    return {\n",
              "      response: {\n",
              "        action: 'complete',\n",
              "      }\n",
              "    };\n",
              "  }\n",
              "\n",
              "  for (const file of files) {\n",
              "    const li = document.createElement('li');\n",
              "    li.append(span(file.name, {fontWeight: 'bold'}));\n",
              "    li.append(span(\n",
              "        `(${file.type || 'n/a'}) - ${file.size} bytes, ` +\n",
              "        `last modified: ${\n",
              "            file.lastModifiedDate ? file.lastModifiedDate.toLocaleDateString() :\n",
              "                                    'n/a'} - `));\n",
              "    const percent = span('0% done');\n",
              "    li.appendChild(percent);\n",
              "\n",
              "    outputElement.appendChild(li);\n",
              "\n",
              "    const fileDataPromise = new Promise((resolve) => {\n",
              "      const reader = new FileReader();\n",
              "      reader.onload = (e) => {\n",
              "        resolve(e.target.result);\n",
              "      };\n",
              "      reader.readAsArrayBuffer(file);\n",
              "    });\n",
              "    // Wait for the data to be ready.\n",
              "    let fileData = yield {\n",
              "      promise: fileDataPromise,\n",
              "      response: {\n",
              "        action: 'continue',\n",
              "      }\n",
              "    };\n",
              "\n",
              "    // Use a chunked sending to avoid message size limits. See b/62115660.\n",
              "    let position = 0;\n",
              "    do {\n",
              "      const length = Math.min(fileData.byteLength - position, MAX_PAYLOAD_SIZE);\n",
              "      const chunk = new Uint8Array(fileData, position, length);\n",
              "      position += length;\n",
              "\n",
              "      const base64 = btoa(String.fromCharCode.apply(null, chunk));\n",
              "      yield {\n",
              "        response: {\n",
              "          action: 'append',\n",
              "          file: file.name,\n",
              "          data: base64,\n",
              "        },\n",
              "      };\n",
              "\n",
              "      let percentDone = fileData.byteLength === 0 ?\n",
              "          100 :\n",
              "          Math.round((position / fileData.byteLength) * 100);\n",
              "      percent.textContent = `${percentDone}% done`;\n",
              "\n",
              "    } while (position < fileData.byteLength);\n",
              "  }\n",
              "\n",
              "  // All done.\n",
              "  yield {\n",
              "    response: {\n",
              "      action: 'complete',\n",
              "    }\n",
              "  };\n",
              "}\n",
              "\n",
              "scope.google = scope.google || {};\n",
              "scope.google.colab = scope.google.colab || {};\n",
              "scope.google.colab._files = {\n",
              "  _uploadFiles,\n",
              "  _uploadFilesContinue,\n",
              "};\n",
              "})(self);\n",
              "</script> "
            ]
          },
          "metadata": {}
        },
        {
          "output_type": "stream",
          "name": "stdout",
          "text": [
            "Saving heart.csv to heart.csv\n"
          ]
        }
      ]
    },
    {
      "cell_type": "code",
      "source": [
        "import io\n",
        "file = pd.read_csv(io.BytesIO(uploaded['heart.csv']))\n",
        "file.head()"
      ],
      "metadata": {
        "colab": {
          "base_uri": "https://localhost:8080/",
          "height": 206
        },
        "id": "6PZeUkCx-KkY",
        "outputId": "748d30ce-cf49-4a23-a3a5-006082b4d886"
      },
      "id": "6PZeUkCx-KkY",
      "execution_count": 5,
      "outputs": [
        {
          "output_type": "execute_result",
          "data": {
            "text/plain": [
              "   age  sex  cp  trestbps  chol  fbs  restecg  thalach  exang  oldpeak  slope  \\\n",
              "0   52    1   0       125   212    0        1      168      0      1.0      2   \n",
              "1   53    1   0       140   203    1        0      155      1      3.1      0   \n",
              "2   70    1   0       145   174    0        1      125      1      2.6      0   \n",
              "3   61    1   0       148   203    0        1      161      0      0.0      2   \n",
              "4   62    0   0       138   294    1        1      106      0      1.9      1   \n",
              "\n",
              "   ca  thal  target  \n",
              "0   2     3       0  \n",
              "1   0     3       0  \n",
              "2   0     3       0  \n",
              "3   1     3       0  \n",
              "4   3     2       0  "
            ],
            "text/html": [
              "\n",
              "  <div id=\"df-8bad7142-8b1c-4c63-b97d-e59bdafa7d93\">\n",
              "    <div class=\"colab-df-container\">\n",
              "      <div>\n",
              "<style scoped>\n",
              "    .dataframe tbody tr th:only-of-type {\n",
              "        vertical-align: middle;\n",
              "    }\n",
              "\n",
              "    .dataframe tbody tr th {\n",
              "        vertical-align: top;\n",
              "    }\n",
              "\n",
              "    .dataframe thead th {\n",
              "        text-align: right;\n",
              "    }\n",
              "</style>\n",
              "<table border=\"1\" class=\"dataframe\">\n",
              "  <thead>\n",
              "    <tr style=\"text-align: right;\">\n",
              "      <th></th>\n",
              "      <th>age</th>\n",
              "      <th>sex</th>\n",
              "      <th>cp</th>\n",
              "      <th>trestbps</th>\n",
              "      <th>chol</th>\n",
              "      <th>fbs</th>\n",
              "      <th>restecg</th>\n",
              "      <th>thalach</th>\n",
              "      <th>exang</th>\n",
              "      <th>oldpeak</th>\n",
              "      <th>slope</th>\n",
              "      <th>ca</th>\n",
              "      <th>thal</th>\n",
              "      <th>target</th>\n",
              "    </tr>\n",
              "  </thead>\n",
              "  <tbody>\n",
              "    <tr>\n",
              "      <th>0</th>\n",
              "      <td>52</td>\n",
              "      <td>1</td>\n",
              "      <td>0</td>\n",
              "      <td>125</td>\n",
              "      <td>212</td>\n",
              "      <td>0</td>\n",
              "      <td>1</td>\n",
              "      <td>168</td>\n",
              "      <td>0</td>\n",
              "      <td>1.0</td>\n",
              "      <td>2</td>\n",
              "      <td>2</td>\n",
              "      <td>3</td>\n",
              "      <td>0</td>\n",
              "    </tr>\n",
              "    <tr>\n",
              "      <th>1</th>\n",
              "      <td>53</td>\n",
              "      <td>1</td>\n",
              "      <td>0</td>\n",
              "      <td>140</td>\n",
              "      <td>203</td>\n",
              "      <td>1</td>\n",
              "      <td>0</td>\n",
              "      <td>155</td>\n",
              "      <td>1</td>\n",
              "      <td>3.1</td>\n",
              "      <td>0</td>\n",
              "      <td>0</td>\n",
              "      <td>3</td>\n",
              "      <td>0</td>\n",
              "    </tr>\n",
              "    <tr>\n",
              "      <th>2</th>\n",
              "      <td>70</td>\n",
              "      <td>1</td>\n",
              "      <td>0</td>\n",
              "      <td>145</td>\n",
              "      <td>174</td>\n",
              "      <td>0</td>\n",
              "      <td>1</td>\n",
              "      <td>125</td>\n",
              "      <td>1</td>\n",
              "      <td>2.6</td>\n",
              "      <td>0</td>\n",
              "      <td>0</td>\n",
              "      <td>3</td>\n",
              "      <td>0</td>\n",
              "    </tr>\n",
              "    <tr>\n",
              "      <th>3</th>\n",
              "      <td>61</td>\n",
              "      <td>1</td>\n",
              "      <td>0</td>\n",
              "      <td>148</td>\n",
              "      <td>203</td>\n",
              "      <td>0</td>\n",
              "      <td>1</td>\n",
              "      <td>161</td>\n",
              "      <td>0</td>\n",
              "      <td>0.0</td>\n",
              "      <td>2</td>\n",
              "      <td>1</td>\n",
              "      <td>3</td>\n",
              "      <td>0</td>\n",
              "    </tr>\n",
              "    <tr>\n",
              "      <th>4</th>\n",
              "      <td>62</td>\n",
              "      <td>0</td>\n",
              "      <td>0</td>\n",
              "      <td>138</td>\n",
              "      <td>294</td>\n",
              "      <td>1</td>\n",
              "      <td>1</td>\n",
              "      <td>106</td>\n",
              "      <td>0</td>\n",
              "      <td>1.9</td>\n",
              "      <td>1</td>\n",
              "      <td>3</td>\n",
              "      <td>2</td>\n",
              "      <td>0</td>\n",
              "    </tr>\n",
              "  </tbody>\n",
              "</table>\n",
              "</div>\n",
              "      <button class=\"colab-df-convert\" onclick=\"convertToInteractive('df-8bad7142-8b1c-4c63-b97d-e59bdafa7d93')\"\n",
              "              title=\"Convert this dataframe to an interactive table.\"\n",
              "              style=\"display:none;\">\n",
              "        \n",
              "  <svg xmlns=\"http://www.w3.org/2000/svg\" height=\"24px\"viewBox=\"0 0 24 24\"\n",
              "       width=\"24px\">\n",
              "    <path d=\"M0 0h24v24H0V0z\" fill=\"none\"/>\n",
              "    <path d=\"M18.56 5.44l.94 2.06.94-2.06 2.06-.94-2.06-.94-.94-2.06-.94 2.06-2.06.94zm-11 1L8.5 8.5l.94-2.06 2.06-.94-2.06-.94L8.5 2.5l-.94 2.06-2.06.94zm10 10l.94 2.06.94-2.06 2.06-.94-2.06-.94-.94-2.06-.94 2.06-2.06.94z\"/><path d=\"M17.41 7.96l-1.37-1.37c-.4-.4-.92-.59-1.43-.59-.52 0-1.04.2-1.43.59L10.3 9.45l-7.72 7.72c-.78.78-.78 2.05 0 2.83L4 21.41c.39.39.9.59 1.41.59.51 0 1.02-.2 1.41-.59l7.78-7.78 2.81-2.81c.8-.78.8-2.07 0-2.86zM5.41 20L4 18.59l7.72-7.72 1.47 1.35L5.41 20z\"/>\n",
              "  </svg>\n",
              "      </button>\n",
              "      \n",
              "  <style>\n",
              "    .colab-df-container {\n",
              "      display:flex;\n",
              "      flex-wrap:wrap;\n",
              "      gap: 12px;\n",
              "    }\n",
              "\n",
              "    .colab-df-convert {\n",
              "      background-color: #E8F0FE;\n",
              "      border: none;\n",
              "      border-radius: 50%;\n",
              "      cursor: pointer;\n",
              "      display: none;\n",
              "      fill: #1967D2;\n",
              "      height: 32px;\n",
              "      padding: 0 0 0 0;\n",
              "      width: 32px;\n",
              "    }\n",
              "\n",
              "    .colab-df-convert:hover {\n",
              "      background-color: #E2EBFA;\n",
              "      box-shadow: 0px 1px 2px rgba(60, 64, 67, 0.3), 0px 1px 3px 1px rgba(60, 64, 67, 0.15);\n",
              "      fill: #174EA6;\n",
              "    }\n",
              "\n",
              "    [theme=dark] .colab-df-convert {\n",
              "      background-color: #3B4455;\n",
              "      fill: #D2E3FC;\n",
              "    }\n",
              "\n",
              "    [theme=dark] .colab-df-convert:hover {\n",
              "      background-color: #434B5C;\n",
              "      box-shadow: 0px 1px 3px 1px rgba(0, 0, 0, 0.15);\n",
              "      filter: drop-shadow(0px 1px 2px rgba(0, 0, 0, 0.3));\n",
              "      fill: #FFFFFF;\n",
              "    }\n",
              "  </style>\n",
              "\n",
              "      <script>\n",
              "        const buttonEl =\n",
              "          document.querySelector('#df-8bad7142-8b1c-4c63-b97d-e59bdafa7d93 button.colab-df-convert');\n",
              "        buttonEl.style.display =\n",
              "          google.colab.kernel.accessAllowed ? 'block' : 'none';\n",
              "\n",
              "        async function convertToInteractive(key) {\n",
              "          const element = document.querySelector('#df-8bad7142-8b1c-4c63-b97d-e59bdafa7d93');\n",
              "          const dataTable =\n",
              "            await google.colab.kernel.invokeFunction('convertToInteractive',\n",
              "                                                     [key], {});\n",
              "          if (!dataTable) return;\n",
              "\n",
              "          const docLinkHtml = 'Like what you see? Visit the ' +\n",
              "            '<a target=\"_blank\" href=https://colab.research.google.com/notebooks/data_table.ipynb>data table notebook</a>'\n",
              "            + ' to learn more about interactive tables.';\n",
              "          element.innerHTML = '';\n",
              "          dataTable['output_type'] = 'display_data';\n",
              "          await google.colab.output.renderOutput(dataTable, element);\n",
              "          const docLink = document.createElement('div');\n",
              "          docLink.innerHTML = docLinkHtml;\n",
              "          element.appendChild(docLink);\n",
              "        }\n",
              "      </script>\n",
              "    </div>\n",
              "  </div>\n",
              "  "
            ]
          },
          "metadata": {},
          "execution_count": 5
        }
      ]
    },
    {
      "cell_type": "code",
      "source": [
        "plt.figure(figsize=(16,12))\n",
        "sns.heatmap(file.corr(),annot=True)\n",
        "plt.title('Heat Map')\n",
        "plt.show()"
      ],
      "metadata": {
        "colab": {
          "base_uri": "https://localhost:8080/",
          "height": 716
        },
        "id": "TXto7rFAL5n8",
        "outputId": "5f350c64-58b4-4848-83a8-619971ff348c"
      },
      "id": "TXto7rFAL5n8",
      "execution_count": 192,
      "outputs": [
        {
          "output_type": "display_data",
          "data": {
            "text/plain": [
              "<Figure size 1152x864 with 2 Axes>"
            ],
            "image/png": "[encoded data removed]"
          },
          "metadata": {
            "needs_background": "light"
          }
        }
      ]
    },
    {
      "cell_type": "code",
      "source": [
        "file['target'].value_counts()"
      ],
      "metadata": {
        "colab": {
          "base_uri": "https://localhost:8080/"
        },
        "id": "pkdZdX_JPSy4",
        "outputId": "09216e54-8e52-4e32-a2f7-8e84aa57734e"
      },
      "id": "pkdZdX_JPSy4",
      "execution_count": 203,
      "outputs": [
        {
          "output_type": "execute_result",
          "data": {
            "text/plain": [
              "1    517\n",
              "0    492\n",
              "Name: target, dtype: int64"
            ]
          },
          "metadata": {},
          "execution_count": 203
        }
      ]
    },
    {
      "cell_type": "markdown",
      "source": [
        "0--> Healthy Heart\n"
      ],
      "metadata": {
        "id": "tucNTskBPnLd"
      },
      "id": "tucNTskBPnLd"
    },
    {
      "cell_type": "markdown",
      "source": [
        "1-->Defective Heart"
      ],
      "metadata": {
        "id": "spJztLL4QDGf"
      },
      "id": "spJztLL4QDGf"
    },
    {
      "cell_type": "code",
      "execution_count": 6,
      "id": "5ad034ec",
      "metadata": {
        "id": "5ad034ec"
      },
      "outputs": [],
      "source": [
        "#Data_Exploration"
      ]
    },
    {
      "cell_type": "code",
      "execution_count": 7,
      "id": "64cacecc",
      "metadata": {
        "id": "64cacecc",
        "outputId": "8382f122-e1de-484e-9680-79dc938b7b4d",
        "colab": {
          "base_uri": "https://localhost:8080/"
        }
      },
      "outputs": [
        {
          "output_type": "stream",
          "name": "stdout",
          "text": [
            "<class 'pandas.core.frame.DataFrame'>\n",
            "RangeIndex: 1025 entries, 0 to 1024\n",
            "Data columns (total 14 columns):\n",
            " #   Column    Non-Null Count  Dtype  \n",
            "---  ------    --------------  -----  \n",
            " 0   age       1025 non-null   int64  \n",
            " 1   sex       1025 non-null   int64  \n",
            " 2   cp        1025 non-null   int64  \n",
            " 3   trestbps  1025 non-null   int64  \n",
            " 4   chol      1025 non-null   int64  \n",
            " 5   fbs       1025 non-null   int64  \n",
            " 6   restecg   1025 non-null   int64  \n",
            " 7   thalach   1025 non-null   int64  \n",
            " 8   exang     1025 non-null   int64  \n",
            " 9   oldpeak   1025 non-null   float64\n",
            " 10  slope     1025 non-null   int64  \n",
            " 11  ca        1025 non-null   int64  \n",
            " 12  thal      1025 non-null   int64  \n",
            " 13  target    1025 non-null   int64  \n",
            "dtypes: float64(1), int64(13)\n",
            "memory usage: 112.2 KB\n"
          ]
        }
      ],
      "source": [
        "file.info()"
      ]
    },
    {
      "cell_type": "code",
      "execution_count": 8,
      "id": "a1ee54b1",
      "metadata": {
        "id": "a1ee54b1",
        "outputId": "69de53a2-37bb-40f9-c0db-7bf4aca4be60",
        "colab": {
          "base_uri": "https://localhost:8080/"
        }
      },
      "outputs": [
        {
          "output_type": "execute_result",
          "data": {
            "text/plain": [
              "age         0\n",
              "sex         0\n",
              "cp          0\n",
              "trestbps    0\n",
              "chol        0\n",
              "fbs         0\n",
              "restecg     0\n",
              "thalach     0\n",
              "exang       0\n",
              "oldpeak     0\n",
              "slope       0\n",
              "ca          0\n",
              "thal        0\n",
              "target      0\n",
              "dtype: int64"
            ]
          },
          "metadata": {},
          "execution_count": 8
        }
      ],
      "source": [
        "file.isnull().sum()"
      ]
    },
    {
      "cell_type": "code",
      "execution_count": 9,
      "id": "5ad78b81",
      "metadata": {
        "id": "5ad78b81",
        "outputId": "3bb16a78-8d1a-4d15-9583-80c14a5c1cb7",
        "colab": {
          "base_uri": "https://localhost:8080/",
          "height": 364
        }
      },
      "outputs": [
        {
          "output_type": "execute_result",
          "data": {
            "text/plain": [
              "               age          sex           cp     trestbps        chol  \\\n",
              "count  1025.000000  1025.000000  1025.000000  1025.000000  1025.00000   \n",
              "mean     54.434146     0.695610     0.942439   131.611707   246.00000   \n",
              "std       9.072290     0.460373     1.029641    17.516718    51.59251   \n",
              "min      29.000000     0.000000     0.000000    94.000000   126.00000   \n",
              "25%      48.000000     0.000000     0.000000   120.000000   211.00000   \n",
              "50%      56.000000     1.000000     1.000000   130.000000   240.00000   \n",
              "75%      61.000000     1.000000     2.000000   140.000000   275.00000   \n",
              "max      77.000000     1.000000     3.000000   200.000000   564.00000   \n",
              "\n",
              "               fbs      restecg      thalach        exang      oldpeak  \\\n",
              "count  1025.000000  1025.000000  1025.000000  1025.000000  1025.000000   \n",
              "mean      0.149268     0.529756   149.114146     0.336585     1.071512   \n",
              "std       0.356527     0.527878    23.005724     0.472772     1.175053   \n",
              "min       0.000000     0.000000    71.000000     0.000000     0.000000   \n",
              "25%       0.000000     0.000000   132.000000     0.000000     0.000000   \n",
              "50%       0.000000     1.000000   152.000000     0.000000     0.800000   \n",
              "75%       0.000000     1.000000   166.000000     1.000000     1.800000   \n",
              "max       1.000000     2.000000   202.000000     1.000000     6.200000   \n",
              "\n",
              "             slope           ca         thal       target  \n",
              "count  1025.000000  1025.000000  1025.000000  1025.000000  \n",
              "mean      1.385366     0.754146     2.323902     0.513171  \n",
              "std       0.617755     1.030798     0.620660     0.500070  \n",
              "min       0.000000     0.000000     0.000000     0.000000  \n",
              "25%       1.000000     0.000000     2.000000     0.000000  \n",
              "50%       1.000000     0.000000     2.000000     1.000000  \n",
              "75%       2.000000     1.000000     3.000000     1.000000  \n",
              "max       2.000000     4.000000     3.000000     1.000000  "
            ],
            "text/html": [
              "\n",
              "  <div id=\"df-ed5e3bd6-d177-4034-b74b-ac2e5c28b333\">\n",
              "    <div class=\"colab-df-container\">\n",
              "      <div>\n",
              "<style scoped>\n",
              "    .dataframe tbody tr th:only-of-type {\n",
              "        vertical-align: middle;\n",
              "    }\n",
              "\n",
              "    .dataframe tbody tr th {\n",
              "        vertical-align: top;\n",
              "    }\n",
              "\n",
              "    .dataframe thead th {\n",
              "        text-align: right;\n",
              "    }\n",
              "</style>\n",
              "<table border=\"1\" class=\"dataframe\">\n",
              "  <thead>\n",
              "    <tr style=\"text-align: right;\">\n",
              "      <th></th>\n",
              "      <th>age</th>\n",
              "      <th>sex</th>\n",
              "      <th>cp</th>\n",
              "      <th>trestbps</th>\n",
              "      <th>chol</th>\n",
              "      <th>fbs</th>\n",
              "      <th>restecg</th>\n",
              "      <th>thalach</th>\n",
              "      <th>exang</th>\n",
              "      <th>oldpeak</th>\n",
              "      <th>slope</th>\n",
              "      <th>ca</th>\n",
              "      <th>thal</th>\n",
              "      <th>target</th>\n",
              "    </tr>\n",
              "  </thead>\n",
              "  <tbody>\n",
              "    <tr>\n",
              "      <th>count</th>\n",
              "      <td>1025.000000</td>\n",
              "      <td>1025.000000</td>\n",
              "      <td>1025.000000</td>\n",
              "      <td>1025.000000</td>\n",
              "      <td>1025.00000</td>\n",
              "      <td>1025.000000</td>\n",
              "      <td>1025.000000</td>\n",
              "      <td>1025.000000</td>\n",
              "      <td>1025.000000</td>\n",
              "      <td>1025.000000</td>\n",
              "      <td>1025.000000</td>\n",
              "      <td>1025.000000</td>\n",
              "      <td>1025.000000</td>\n",
              "      <td>1025.000000</td>\n",
              "    </tr>\n",
              "    <tr>\n",
              "      <th>mean</th>\n",
              "      <td>54.434146</td>\n",
              "      <td>0.695610</td>\n",
              "      <td>0.942439</td>\n",
              "      <td>131.611707</td>\n",
              "      <td>246.00000</td>\n",
              "      <td>0.149268</td>\n",
              "      <td>0.529756</td>\n",
              "      <td>149.114146</td>\n",
              "      <td>0.336585</td>\n",
              "      <td>1.071512</td>\n",
              "      <td>1.385366</td>\n",
              "      <td>0.754146</td>\n",
              "      <td>2.323902</td>\n",
              "      <td>0.513171</td>\n",
              "    </tr>\n",
              "    <tr>\n",
              "      <th>std</th>\n",
              "      <td>9.072290</td>\n",
              "      <td>0.460373</td>\n",
              "      <td>1.029641</td>\n",
              "      <td>17.516718</td>\n",
              "      <td>51.59251</td>\n",
              "      <td>0.356527</td>\n",
              "      <td>0.527878</td>\n",
              "      <td>23.005724</td>\n",
              "      <td>0.472772</td>\n",
              "      <td>1.175053</td>\n",
              "      <td>0.617755</td>\n",
              "      <td>1.030798</td>\n",
              "      <td>0.620660</td>\n",
              "      <td>0.500070</td>\n",
              "    </tr>\n",
              "    <tr>\n",
              "      <th>min</th>\n",
              "      <td>29.000000</td>\n",
              "      <td>0.000000</td>\n",
              "      <td>0.000000</td>\n",
              "      <td>94.000000</td>\n",
              "      <td>126.00000</td>\n",
              "      <td>0.000000</td>\n",
              "      <td>0.000000</td>\n",
              "      <td>71.000000</td>\n",
              "      <td>0.000000</td>\n",
              "      <td>0.000000</td>\n",
              "      <td>0.000000</td>\n",
              "      <td>0.000000</td>\n",
              "      <td>0.000000</td>\n",
              "      <td>0.000000</td>\n",
              "    </tr>\n",
              "    <tr>\n",
              "      <th>25%</th>\n",
              "      <td>48.000000</td>\n",
              "      <td>0.000000</td>\n",
              "      <td>0.000000</td>\n",
              "      <td>120.000000</td>\n",
              "      <td>211.00000</td>\n",
              "      <td>0.000000</td>\n",
              "      <td>0.000000</td>\n",
              "      <td>132.000000</td>\n",
              "      <td>0.000000</td>\n",
              "      <td>0.000000</td>\n",
              "      <td>1.000000</td>\n",
              "      <td>0.000000</td>\n",
              "      <td>2.000000</td>\n",
              "      <td>0.000000</td>\n",
              "    </tr>\n",
              "    <tr>\n",
              "      <th>50%</th>\n",
              "      <td>56.000000</td>\n",
              "      <td>1.000000</td>\n",
              "      <td>1.000000</td>\n",
              "      <td>130.000000</td>\n",
              "      <td>240.00000</td>\n",
              "      <td>0.000000</td>\n",
              "      <td>1.000000</td>\n",
              "      <td>152.000000</td>\n",
              "      <td>0.000000</td>\n",
              "      <td>0.800000</td>\n",
              "      <td>1.000000</td>\n",
              "      <td>0.000000</td>\n",
              "      <td>2.000000</td>\n",
              "      <td>1.000000</td>\n",
              "    </tr>\n",
              "    <tr>\n",
              "      <th>75%</th>\n",
              "      <td>61.000000</td>\n",
              "      <td>1.000000</td>\n",
              "      <td>2.000000</td>\n",
              "      <td>140.000000</td>\n",
              "      <td>275.00000</td>\n",
              "      <td>0.000000</td>\n",
              "      <td>1.000000</td>\n",
              "      <td>166.000000</td>\n",
              "      <td>1.000000</td>\n",
              "      <td>1.800000</td>\n",
              "      <td>2.000000</td>\n",
              "      <td>1.000000</td>\n",
              "      <td>3.000000</td>\n",
              "      <td>1.000000</td>\n",
              "    </tr>\n",
              "    <tr>\n",
              "      <th>max</th>\n",
              "      <td>77.000000</td>\n",
              "      <td>1.000000</td>\n",
              "      <td>3.000000</td>\n",
              "      <td>200.000000</td>\n",
              "      <td>564.00000</td>\n",
              "      <td>1.000000</td>\n",
              "      <td>2.000000</td>\n",
              "      <td>202.000000</td>\n",
              "      <td>1.000000</td>\n",
              "      <td>6.200000</td>\n",
              "      <td>2.000000</td>\n",
              "      <td>4.000000</td>\n",
              "      <td>3.000000</td>\n",
              "      <td>1.000000</td>\n",
              "    </tr>\n",
              "  </tbody>\n",
              "</table>\n",
              "</div>\n",
              "      <button class=\"colab-df-convert\" onclick=\"convertToInteractive('df-ed5e3bd6-d177-4034-b74b-ac2e5c28b333')\"\n",
              "              title=\"Convert this dataframe to an interactive table.\"\n",
              "              style=\"display:none;\">\n",
              "        \n",
              "  <svg xmlns=\"http://www.w3.org/2000/svg\" height=\"24px\"viewBox=\"0 0 24 24\"\n",
              "       width=\"24px\">\n",
              "    <path d=\"M0 0h24v24H0V0z\" fill=\"none\"/>\n",
              "    <path d=\"M18.56 5.44l.94 2.06.94-2.06 2.06-.94-2.06-.94-.94-2.06-.94 2.06-2.06.94zm-11 1L8.5 8.5l.94-2.06 2.06-.94-2.06-.94L8.5 2.5l-.94 2.06-2.06.94zm10 10l.94 2.06.94-2.06 2.06-.94-2.06-.94-.94-2.06-.94 2.06-2.06.94z\"/><path d=\"M17.41 7.96l-1.37-1.37c-.4-.4-.92-.59-1.43-.59-.52 0-1.04.2-1.43.59L10.3 9.45l-7.72 7.72c-.78.78-.78 2.05 0 2.83L4 21.41c.39.39.9.59 1.41.59.51 0 1.02-.2 1.41-.59l7.78-7.78 2.81-2.81c.8-.78.8-2.07 0-2.86zM5.41 20L4 18.59l7.72-7.72 1.47 1.35L5.41 20z\"/>\n",
              "  </svg>\n",
              "      </button>\n",
              "      \n",
              "  <style>\n",
              "    .colab-df-container {\n",
              "      display:flex;\n",
              "      flex-wrap:wrap;\n",
              "      gap: 12px;\n",
              "    }\n",
              "\n",
              "    .colab-df-convert {\n",
              "      background-color: #E8F0FE;\n",
              "      border: none;\n",
              "      border-radius: 50%;\n",
              "      cursor: pointer;\n",
              "      display: none;\n",
              "      fill: #1967D2;\n",
              "      height: 32px;\n",
              "      padding: 0 0 0 0;\n",
              "      width: 32px;\n",
              "    }\n",
              "\n",
              "    .colab-df-convert:hover {\n",
              "      background-color: #E2EBFA;\n",
              "      box-shadow: 0px 1px 2px rgba(60, 64, 67, 0.3), 0px 1px 3px 1px rgba(60, 64, 67, 0.15);\n",
              "      fill: #174EA6;\n",
              "    }\n",
              "\n",
              "    [theme=dark] .colab-df-convert {\n",
              "      background-color: #3B4455;\n",
              "      fill: #D2E3FC;\n",
              "    }\n",
              "\n",
              "    [theme=dark] .colab-df-convert:hover {\n",
              "      background-color: #434B5C;\n",
              "      box-shadow: 0px 1px 3px 1px rgba(0, 0, 0, 0.15);\n",
              "      filter: drop-shadow(0px 1px 2px rgba(0, 0, 0, 0.3));\n",
              "      fill: #FFFFFF;\n",
              "    }\n",
              "  </style>\n",
              "\n",
              "      <script>\n",
              "        const buttonEl =\n",
              "          document.querySelector('#df-ed5e3bd6-d177-4034-b74b-ac2e5c28b333 button.colab-df-convert');\n",
              "        buttonEl.style.display =\n",
              "          google.colab.kernel.accessAllowed ? 'block' : 'none';\n",
              "\n",
              "        async function convertToInteractive(key) {\n",
              "          const element = document.querySelector('#df-ed5e3bd6-d177-4034-b74b-ac2e5c28b333');\n",
              "          const dataTable =\n",
              "            await google.colab.kernel.invokeFunction('convertToInteractive',\n",
              "                                                     [key], {});\n",
              "          if (!dataTable) return;\n",
              "\n",
              "          const docLinkHtml = 'Like what you see? Visit the ' +\n",
              "            '<a target=\"_blank\" href=https://colab.research.google.com/notebooks/data_table.ipynb>data table notebook</a>'\n",
              "            + ' to learn more about interactive tables.';\n",
              "          element.innerHTML = '';\n",
              "          dataTable['output_type'] = 'display_data';\n",
              "          await google.colab.output.renderOutput(dataTable, element);\n",
              "          const docLink = document.createElement('div');\n",
              "          docLink.innerHTML = docLinkHtml;\n",
              "          element.appendChild(docLink);\n",
              "        }\n",
              "      </script>\n",
              "    </div>\n",
              "  </div>\n",
              "  "
            ]
          },
          "metadata": {},
          "execution_count": 9
        }
      ],
      "source": [
        "file.describe()"
      ]
    },
    {
      "cell_type": "code",
      "execution_count": 10,
      "id": "d18bbb85",
      "metadata": {
        "id": "d18bbb85",
        "outputId": "ed442a3f-c4da-4b8c-fb10-3758586bb351",
        "colab": {
          "base_uri": "https://localhost:8080/"
        }
      },
      "outputs": [
        {
          "output_type": "execute_result",
          "data": {
            "text/plain": [
              "Index(['age', 'sex', 'cp', 'trestbps', 'chol', 'fbs', 'restecg', 'thalach',\n",
              "       'exang', 'oldpeak', 'slope', 'ca', 'thal', 'target'],\n",
              "      dtype='object')"
            ]
          },
          "metadata": {},
          "execution_count": 10
        }
      ],
      "source": [
        "file.columns"
      ]
    },
    {
      "cell_type": "code",
      "execution_count": 11,
      "id": "5f22d62a",
      "metadata": {
        "id": "5f22d62a"
      },
      "outputs": [],
      "source": [
        "#Data_Preprocessing"
      ]
    },
    {
      "cell_type": "code",
      "execution_count": 14,
      "id": "d50cc7c4",
      "metadata": {
        "id": "d50cc7c4",
        "outputId": "c54dc1ed-f255-48bd-d98c-9814cbe9e83c",
        "colab": {
          "base_uri": "https://localhost:8080/",
          "height": 609
        }
      },
      "outputs": [
        {
          "output_type": "execute_result",
          "data": {
            "text/plain": [
              "<matplotlib.axes._subplots.AxesSubplot at 0x7f4f23937610>"
            ]
          },
          "metadata": {},
          "execution_count": 14
        },
        {
          "output_type": "display_data",
          "data": {
            "text/plain": [
              "<Figure size 1440x720 with 1 Axes>"
            ],
            "image/png": "[encoded data removed]"
          },
          "metadata": {
            "needs_background": "light"
          }
        }
      ],
      "source": [
        "file.boxplot(figsize=(20,10))"
      ]
    },
    {
      "cell_type": "code",
      "execution_count": 13,
      "id": "ef6aa67c",
      "metadata": {
        "id": "ef6aa67c"
      },
      "outputs": [],
      "source": [
        "q1,q3=np.percentile(file['chol'],[25,75])\n",
        "iqr=q3-q1\n",
        "up=q3+iqr*1.5\n",
        "lw=q1-iqr*1.5\n",
        "upper=np.where(file['chol']>up)\n",
        "lower=np.where(file['chol']<lw)\n",
        "file.drop(upper[0],inplace=True)\n",
        "file.drop(lower[0],inplace=True)"
      ]
    },
    {
      "cell_type": "code",
      "execution_count": 15,
      "id": "d05b3dbd",
      "metadata": {
        "id": "d05b3dbd"
      },
      "outputs": [],
      "source": [
        "from sklearn import metrics\n",
        "from sklearn.preprocessing import StandardScaler\n",
        "from sklearn.model_selection import train_test_split"
      ]
    },
    {
      "cell_type": "code",
      "execution_count": null,
      "id": "ad74e4ee",
      "metadata": {
        "id": "ad74e4ee"
      },
      "outputs": [],
      "source": [
        "x=file.iloc[:,:-1]\n",
        "y=file.iloc[:,-1]"
      ]
    },
    {
      "cell_type": "code",
      "execution_count": 106,
      "id": "993a3645",
      "metadata": {
        "id": "993a3645"
      },
      "outputs": [],
      "source": [
        "xtrain,xtest,ytrain,ytest=train_test_split(x,y,test_size=0.3,random_state=0)"
      ]
    },
    {
      "cell_type": "code",
      "execution_count": 107,
      "id": "89281b6a",
      "metadata": {
        "id": "89281b6a"
      },
      "outputs": [],
      "source": [
        "ss=StandardScaler()\n",
        "xtrain=ss.fit_transform(xtrain)\n",
        "xtest=ss.transform(xtest)"
      ]
    },
    {
      "cell_type": "code",
      "execution_count": 108,
      "id": "f2bac7e5",
      "metadata": {
        "id": "f2bac7e5"
      },
      "outputs": [],
      "source": [
        "#Logistic Regression"
      ]
    },
    {
      "cell_type": "code",
      "execution_count": 109,
      "id": "1a26295a",
      "metadata": {
        "id": "1a26295a"
      },
      "outputs": [],
      "source": [
        "from sklearn.linear_model import LogisticRegression"
      ]
    },
    {
      "cell_type": "code",
      "execution_count": 110,
      "id": "8bdcb4d4",
      "metadata": {
        "id": "8bdcb4d4",
        "outputId": "3612497c-0547-446b-878d-fa5af5fdc31e",
        "colab": {
          "base_uri": "https://localhost:8080/"
        }
      },
      "outputs": [
        {
          "output_type": "execute_result",
          "data": {
            "text/plain": [
              "array([1, 1, 1, 0, 1, 1, 0, 1, 1, 1, 1, 1, 1, 1, 0, 0, 1, 1, 0, 1, 0, 1,\n",
              "       0, 1, 0, 1, 1, 0, 0, 0, 0, 0, 1, 1, 1, 1, 0, 1, 0, 1, 0, 1, 0, 0,\n",
              "       1, 1, 1, 1, 0, 0, 1, 1, 1, 1, 0, 1, 0, 1, 1, 0, 1, 0, 1, 1, 1, 1,\n",
              "       0, 1, 1, 1, 0, 0, 1, 1, 1, 1, 0, 0, 1, 1, 0, 0, 1, 0, 0, 0, 1, 0,\n",
              "       0, 0, 0, 1, 1, 0, 0, 0, 0, 0, 0, 0, 1, 0, 1, 0, 0, 0, 1, 0, 1, 1,\n",
              "       1, 1, 1, 1, 0, 1, 1, 0, 1, 0, 0, 0, 1, 1, 1, 1, 1, 0, 1, 1, 1, 1,\n",
              "       0, 0, 0, 1, 1, 0, 1, 1, 0, 0, 0, 1, 1, 1, 0, 1, 0, 1, 0, 0, 1, 0,\n",
              "       1, 1, 0, 0, 1, 1, 1, 1, 0, 0, 0, 1, 0, 0, 1, 0, 1, 1, 1, 0, 1, 1,\n",
              "       1, 1, 1, 1, 0, 0, 1, 1, 0, 0, 0, 1, 1, 1, 1, 0, 1, 1, 0, 1, 0, 0,\n",
              "       1, 1, 1, 0, 1, 1, 1, 0, 0, 1, 1, 1, 1, 1, 0, 0, 0, 0, 1, 0, 0, 1,\n",
              "       0, 1, 1, 0, 1, 1, 1, 0, 0, 1, 1, 1, 0, 0, 1, 1, 1, 1, 1, 1, 0, 0,\n",
              "       1, 0, 1, 1, 1, 1, 0, 1, 0, 1, 1, 1, 0, 0, 0, 0, 0, 0, 0, 0, 0, 0,\n",
              "       1, 1, 1, 0, 0, 1, 1, 1, 1, 1, 0, 1, 1, 0, 0, 1, 0, 0, 1, 1, 1, 0,\n",
              "       1, 0, 0, 1, 1, 1, 1, 0, 0, 1, 1, 1, 1, 1, 1, 0, 1])"
            ]
          },
          "metadata": {},
          "execution_count": 110
        }
      ],
      "source": [
        "lgr=LogisticRegression()\n",
        "lgr_fit=lgr.fit(xtrain,ytrain)\n",
        "lgr_predict=lgr_fit.predict(xtest)\n",
        "lgr_predict"
      ]
    },
    {
      "cell_type": "code",
      "execution_count": 111,
      "id": "11f0ed9c",
      "metadata": {
        "id": "11f0ed9c",
        "outputId": "547b5ce3-4c45-44ec-db21-df939c3757fe",
        "colab": {
          "base_uri": "https://localhost:8080/"
        }
      },
      "outputs": [
        {
          "output_type": "stream",
          "name": "stdout",
          "text": [
            "f1_score: [0.77818182 0.81570997]\n",
            "accuracy score: 0.7986798679867987\n",
            "confusion_matrix: \n",
            " [[107  39]\n",
            " [ 22 135]]\n"
          ]
        }
      ],
      "source": [
        "print('f1_score:',metrics.f1_score(ytest,lgr_predict,average=None))\n",
        "print('accuracy score:',metrics.accuracy_score(ytest,lgr_predict))\n",
        "print('confusion_matrix:','\\n',metrics.confusion_matrix(ytest,lgr_predict))\n"
      ]
    },
    {
      "cell_type": "code",
      "execution_count": 23,
      "id": "333a38df",
      "metadata": {
        "id": "333a38df"
      },
      "outputs": [],
      "source": [
        "#Decison tree"
      ]
    },
    {
      "cell_type": "code",
      "execution_count": 24,
      "id": "a2d9ace0",
      "metadata": {
        "id": "a2d9ace0"
      },
      "outputs": [],
      "source": [
        "from sklearn.tree import DecisionTreeClassifier"
      ]
    },
    {
      "cell_type": "code",
      "execution_count": 26,
      "id": "cf6c36a0",
      "metadata": {
        "id": "cf6c36a0",
        "outputId": "8f18b5fe-cea3-4b75-acba-bd103dd983d3",
        "colab": {
          "base_uri": "https://localhost:8080/"
        }
      },
      "outputs": [
        {
          "output_type": "execute_result",
          "data": {
            "text/plain": [
              "array([1, 1, 1, 0, 1, 0, 0, 1, 1, 1, 1, 0, 0, 1, 0, 0, 1, 1, 0, 1, 1, 0,\n",
              "       0, 0, 0, 0, 1, 0, 0, 0, 0, 0, 1, 1, 1, 0, 0, 1, 0, 1, 0, 0, 0, 0,\n",
              "       0, 1, 1, 1, 1, 1, 0, 1, 0, 0, 0, 0, 1, 1, 1, 0, 1, 0, 1, 1, 1, 0,\n",
              "       1, 1, 1, 1, 0, 0, 0, 1, 1, 1, 0, 0, 0, 1, 0, 0, 0, 1, 0, 0, 1, 0,\n",
              "       0, 0, 0, 0, 1, 0, 0, 1, 1, 0, 0, 0, 1, 0, 1, 0, 0, 0, 1, 0, 1, 1,\n",
              "       0, 1, 1, 1, 0, 1, 0, 1, 1, 0, 0, 0, 1, 1, 0, 1, 1, 0, 1, 1, 1, 1,\n",
              "       1, 0, 0, 1, 1, 0, 0, 1, 0, 0, 0, 1, 1, 1, 0, 1, 0, 0, 0, 0, 1, 0,\n",
              "       1, 1, 0, 0, 1, 1, 0, 1, 0, 0, 1, 1, 0, 0, 0, 0, 1, 1, 1, 0, 1, 1,\n",
              "       1, 1, 1, 1, 0, 0, 1, 1, 0, 0, 0, 0, 1, 1, 1, 0, 1, 1, 0, 1, 1, 0,\n",
              "       1, 1, 1, 0, 0, 1, 0, 0, 0, 1, 1, 0, 1, 1, 0, 1, 1, 0, 1, 0, 0, 1,\n",
              "       0, 1, 1, 0, 1, 1, 1, 0, 0, 0, 1, 0, 0, 0, 1, 1, 1, 1, 1, 0, 0, 0,\n",
              "       1, 0, 1, 1, 1, 1, 0, 1, 0, 0, 0, 1, 0, 1, 0, 1, 0, 1, 1, 0, 1, 1,\n",
              "       0, 1, 1, 0, 0, 0, 1, 1, 1, 1, 0, 1, 1, 1, 0, 0, 0, 0, 1, 1, 1, 0,\n",
              "       0, 0, 0, 1, 0, 1, 1, 0, 1, 1, 1, 1, 1, 1, 1, 0, 1])"
            ]
          },
          "metadata": {},
          "execution_count": 26
        }
      ],
      "source": [
        "dt=DecisionTreeClassifier(criterion='entropy')\n",
        "dt_fit=dt.fit(xtrain,ytrain)\n",
        "dt_predict=dt_fit.predict(xtest)\n",
        "dt_predict"
      ]
    },
    {
      "cell_type": "code",
      "execution_count": 27,
      "id": "26adaffe",
      "metadata": {
        "id": "26adaffe"
      },
      "outputs": [],
      "source": [
        "from sklearn.tree import export_graphviz\n",
        "import graphviz"
      ]
    },
    {
      "cell_type": "code",
      "execution_count": 28,
      "id": "bc64491b",
      "metadata": {
        "id": "bc64491b",
        "outputId": "f19cc886-ec42-4068-e610-e159a292e37b",
        "colab": {
          "base_uri": "https://localhost:8080/",
          "height": 1000
        }
      },
      "outputs": [
        {
          "output_type": "execute_result",
          "data": {
            "text/plain": [
              "<graphviz.files.Source at 0x7f4f229895d0>"
            ],
            "image/svg+xml": "<?xml version=\"1.0\" encoding=\"UTF-8\" standalone=\"no\"?>\n<!DOCTYPE svg PUBLIC \"-//W3C//DTD SVG 1.1//EN\"\n \"http://www.w3.org/Graphics/SVG/1.1/DTD/svg11.dtd\">\n<!-- Generated by graphviz version 2.40.1 (20161225.0304)\n -->\n<!-- Title: Tree Pages: 1 -->\n<svg width=\"2628pt\" height=\"1205pt\"\n viewBox=\"0.00 0.00 2628.00 1205.00\" xmlns=\"http://www.w3.org/2000/svg\" xmlns:xlink=\"http://www.w3.org/1999/xlink\">\n<g id=\"graph0\" class=\"graph\" transform=\"scale(1 1) rotate(0) translate(4 1201)\">\n<title>Tree</title>\n<polygon fill=\"#ffffff\" stroke=\"transparent\" points=\"-4,4 -4,-1201 2624,-1201 2624,4 -4,4\"/>\n<!-- 0 -->\n<g id=\"node1\" class=\"node\">\n<title>0</title>\n<polygon fill=\"none\" stroke=\"#000000\" points=\"1341.5,-1197 1209.5,-1197 1209.5,-1129 1341.5,-1129 1341.5,-1197\"/>\n<text text-anchor=\"middle\" x=\"1275.5\" y=\"-1181.8\" font-family=\"Helvetica,sans-Serif\" font-size=\"14.00\" fill=\"#000000\">cp &lt;= &#45;0.428</text>\n<text text-anchor=\"middle\" x=\"1275.5\" y=\"-1166.8\" font-family=\"Helvetica,sans-Serif\" font-size=\"14.00\" fill=\"#000000\">entropy = 1.0</text>\n<text text-anchor=\"middle\" x=\"1275.5\" y=\"-1151.8\" font-family=\"Helvetica,sans-Serif\" font-size=\"14.00\" fill=\"#000000\">samples = 706</text>\n<text text-anchor=\"middle\" x=\"1275.5\" y=\"-1136.8\" font-family=\"Helvetica,sans-Serif\" font-size=\"14.00\" fill=\"#000000\">value = [346, 360]</text>\n</g>\n<!-- 1 -->\n<g id=\"node2\" class=\"node\">\n<title>1</title>\n<polygon fill=\"none\" stroke=\"#000000\" points=\"1068.5,-1093 944.5,-1093 944.5,-1025 1068.5,-1025 1068.5,-1093\"/>\n<text text-anchor=\"middle\" x=\"1006.5\" y=\"-1077.8\" font-family=\"Helvetica,sans-Serif\" font-size=\"14.00\" fill=\"#000000\">ca &lt;= &#45;0.263</text>\n<text text-anchor=\"middle\" x=\"1006.5\" y=\"-1062.8\" font-family=\"Helvetica,sans-Serif\" font-size=\"14.00\" fill=\"#000000\">entropy = 0.772</text>\n<text text-anchor=\"middle\" x=\"1006.5\" y=\"-1047.8\" font-family=\"Helvetica,sans-Serif\" font-size=\"14.00\" fill=\"#000000\">samples = 340</text>\n<text text-anchor=\"middle\" x=\"1006.5\" y=\"-1032.8\" font-family=\"Helvetica,sans-Serif\" font-size=\"14.00\" fill=\"#000000\">value = [263, 77]</text>\n</g>\n<!-- 0&#45;&gt;1 -->\n<g id=\"edge1\" class=\"edge\">\n<title>0&#45;&gt;1</title>\n<path fill=\"none\" stroke=\"#000000\" d=\"M1209.3507,-1137.4255C1169.518,-1122.0255 1118.7922,-1102.4141 1078.0311,-1086.6551\"/>\n<polygon fill=\"#000000\" stroke=\"#000000\" points=\"1079.2864,-1083.3881 1068.6971,-1083.0465 1076.7622,-1089.9171 1079.2864,-1083.3881\"/>\n<text text-anchor=\"middle\" x=\"1078.8107\" y=\"-1102.2094\" font-family=\"Helvetica,sans-Serif\" font-size=\"14.00\" fill=\"#000000\">True</text>\n</g>\n<!-- 36 -->\n<g id=\"node37\" class=\"node\">\n<title>36</title>\n<polygon fill=\"none\" stroke=\"#000000\" points=\"1607.5,-1093 1483.5,-1093 1483.5,-1025 1607.5,-1025 1607.5,-1093\"/>\n<text text-anchor=\"middle\" x=\"1545.5\" y=\"-1077.8\" font-family=\"Helvetica,sans-Serif\" font-size=\"14.00\" fill=\"#000000\">age &lt;= 0.244</text>\n<text text-anchor=\"middle\" x=\"1545.5\" y=\"-1062.8\" font-family=\"Helvetica,sans-Serif\" font-size=\"14.00\" fill=\"#000000\">entropy = 0.772</text>\n<text text-anchor=\"middle\" x=\"1545.5\" y=\"-1047.8\" font-family=\"Helvetica,sans-Serif\" font-size=\"14.00\" fill=\"#000000\">samples = 366</text>\n<text text-anchor=\"middle\" x=\"1545.5\" y=\"-1032.8\" font-family=\"Helvetica,sans-Serif\" font-size=\"14.00\" fill=\"#000000\">value = [83, 283]</text>\n</g>\n<!-- 0&#45;&gt;36 -->\n<g id=\"edge36\" class=\"edge\">\n<title>0&#45;&gt;36</title>\n<path fill=\"none\" stroke=\"#000000\" d=\"M1341.5494,-1137.5587C1381.6694,-1122.1051 1432.8951,-1102.3737 1473.9712,-1086.5518\"/>\n<polygon fill=\"#000000\" stroke=\"#000000\" points=\"1475.3016,-1089.7901 1483.3752,-1082.9296 1472.7854,-1083.258 1475.3016,-1089.7901\"/>\n<text text-anchor=\"middle\" x=\"1473.2331\" y=\"-1102.0799\" font-family=\"Helvetica,sans-Serif\" font-size=\"14.00\" fill=\"#000000\">False</text>\n</g>\n<!-- 2 -->\n<g id=\"node3\" class=\"node\">\n<title>2</title>\n<polygon fill=\"none\" stroke=\"#000000\" points=\"675.5,-989 557.5,-989 557.5,-921 675.5,-921 675.5,-989\"/>\n<text text-anchor=\"middle\" x=\"616.5\" y=\"-973.8\" font-family=\"Helvetica,sans-Serif\" font-size=\"14.00\" fill=\"#000000\">thal &lt;= 0.278</text>\n<text text-anchor=\"middle\" x=\"616.5\" y=\"-958.8\" font-family=\"Helvetica,sans-Serif\" font-size=\"14.00\" fill=\"#000000\">entropy = 0.996</text>\n<text text-anchor=\"middle\" x=\"616.5\" y=\"-943.8\" font-family=\"Helvetica,sans-Serif\" font-size=\"14.00\" fill=\"#000000\">samples = 141</text>\n<text text-anchor=\"middle\" x=\"616.5\" y=\"-928.8\" font-family=\"Helvetica,sans-Serif\" font-size=\"14.00\" fill=\"#000000\">value = [76, 65]</text>\n</g>\n<!-- 1&#45;&gt;2 -->\n<g id=\"edge2\" class=\"edge\">\n<title>1&#45;&gt;2</title>\n<path fill=\"none\" stroke=\"#000000\" d=\"M944.2721,-1042.4059C873.7195,-1023.5919 759.0068,-993.0018 685.6932,-973.4515\"/>\n<polygon fill=\"#000000\" stroke=\"#000000\" points=\"686.1962,-969.9634 675.632,-970.7685 684.3925,-976.7271 686.1962,-969.9634\"/>\n</g>\n<!-- 23 -->\n<g id=\"node24\" class=\"node\">\n<title>23</title>\n<polygon fill=\"none\" stroke=\"#000000\" points=\"1073.5,-989 939.5,-989 939.5,-921 1073.5,-921 1073.5,-989\"/>\n<text text-anchor=\"middle\" x=\"1006.5\" y=\"-973.8\" font-family=\"Helvetica,sans-Serif\" font-size=\"14.00\" fill=\"#000000\">oldpeak &lt;= &#45;0.515</text>\n<text text-anchor=\"middle\" x=\"1006.5\" y=\"-958.8\" font-family=\"Helvetica,sans-Serif\" font-size=\"14.00\" fill=\"#000000\">entropy = 0.329</text>\n<text text-anchor=\"middle\" x=\"1006.5\" y=\"-943.8\" font-family=\"Helvetica,sans-Serif\" font-size=\"14.00\" fill=\"#000000\">samples = 199</text>\n<text text-anchor=\"middle\" x=\"1006.5\" y=\"-928.8\" font-family=\"Helvetica,sans-Serif\" font-size=\"14.00\" fill=\"#000000\">value = [187, 12]</text>\n</g>\n<!-- 1&#45;&gt;23 -->\n<g id=\"edge23\" class=\"edge\">\n<title>1&#45;&gt;23</title>\n<path fill=\"none\" stroke=\"#000000\" d=\"M1006.5,-1024.9465C1006.5,-1016.776 1006.5,-1007.9318 1006.5,-999.3697\"/>\n<polygon fill=\"#000000\" stroke=\"#000000\" points=\"1010.0001,-999.13 1006.5,-989.13 1003.0001,-999.13 1010.0001,-999.13\"/>\n</g>\n<!-- 3 -->\n<g id=\"node4\" class=\"node\">\n<title>3</title>\n<polygon fill=\"none\" stroke=\"#000000\" points=\"424,-885 303,-885 303,-817 424,-817 424,-885\"/>\n<text text-anchor=\"middle\" x=\"363.5\" y=\"-869.8\" font-family=\"Helvetica,sans-Serif\" font-size=\"14.00\" fill=\"#000000\">thalach &lt;= &#45;1.29</text>\n<text text-anchor=\"middle\" x=\"363.5\" y=\"-854.8\" font-family=\"Helvetica,sans-Serif\" font-size=\"14.00\" fill=\"#000000\">entropy = 0.816</text>\n<text text-anchor=\"middle\" x=\"363.5\" y=\"-839.8\" font-family=\"Helvetica,sans-Serif\" font-size=\"14.00\" fill=\"#000000\">samples = 79</text>\n<text text-anchor=\"middle\" x=\"363.5\" y=\"-824.8\" font-family=\"Helvetica,sans-Serif\" font-size=\"14.00\" fill=\"#000000\">value = [20, 59]</text>\n</g>\n<!-- 2&#45;&gt;3 -->\n<g id=\"edge3\" class=\"edge\">\n<title>2&#45;&gt;3</title>\n<path fill=\"none\" stroke=\"#000000\" d=\"M557.1827,-930.6166C520.2906,-915.4515 472.659,-895.8717 433.8638,-879.9242\"/>\n<polygon fill=\"#000000\" stroke=\"#000000\" points=\"434.7826,-876.5178 424.2029,-875.953 432.1212,-882.9922 434.7826,-876.5178\"/>\n</g>\n<!-- 16 -->\n<g id=\"node17\" class=\"node\">\n<title>16</title>\n<polygon fill=\"none\" stroke=\"#000000\" points=\"683.5,-885 549.5,-885 549.5,-817 683.5,-817 683.5,-885\"/>\n<text text-anchor=\"middle\" x=\"616.5\" y=\"-869.8\" font-family=\"Helvetica,sans-Serif\" font-size=\"14.00\" fill=\"#000000\">oldpeak &lt;= &#45;0.344</text>\n<text text-anchor=\"middle\" x=\"616.5\" y=\"-854.8\" font-family=\"Helvetica,sans-Serif\" font-size=\"14.00\" fill=\"#000000\">entropy = 0.459</text>\n<text text-anchor=\"middle\" x=\"616.5\" y=\"-839.8\" font-family=\"Helvetica,sans-Serif\" font-size=\"14.00\" fill=\"#000000\">samples = 62</text>\n<text text-anchor=\"middle\" x=\"616.5\" y=\"-824.8\" font-family=\"Helvetica,sans-Serif\" font-size=\"14.00\" fill=\"#000000\">value = [56, 6]</text>\n</g>\n<!-- 2&#45;&gt;16 -->\n<g id=\"edge16\" class=\"edge\">\n<title>2&#45;&gt;16</title>\n<path fill=\"none\" stroke=\"#000000\" d=\"M616.5,-920.9465C616.5,-912.776 616.5,-903.9318 616.5,-895.3697\"/>\n<polygon fill=\"#000000\" stroke=\"#000000\" points=\"620.0001,-895.13 616.5,-885.13 613.0001,-895.13 620.0001,-895.13\"/>\n</g>\n<!-- 4 -->\n<g id=\"node5\" class=\"node\">\n<title>4</title>\n<polygon fill=\"none\" stroke=\"#000000\" points=\"286,-773.5 185,-773.5 185,-720.5 286,-720.5 286,-773.5\"/>\n<text text-anchor=\"middle\" x=\"235.5\" y=\"-758.3\" font-family=\"Helvetica,sans-Serif\" font-size=\"14.00\" fill=\"#000000\">entropy = 0.0</text>\n<text text-anchor=\"middle\" x=\"235.5\" y=\"-743.3\" font-family=\"Helvetica,sans-Serif\" font-size=\"14.00\" fill=\"#000000\">samples = 6</text>\n<text text-anchor=\"middle\" x=\"235.5\" y=\"-728.3\" font-family=\"Helvetica,sans-Serif\" font-size=\"14.00\" fill=\"#000000\">value = [6, 0]</text>\n</g>\n<!-- 3&#45;&gt;4 -->\n<g id=\"edge4\" class=\"edge\">\n<title>3&#45;&gt;4</title>\n<path fill=\"none\" stroke=\"#000000\" d=\"M321.588,-816.9465C306.9467,-805.0504 290.5474,-791.726 276.0215,-779.9237\"/>\n<polygon fill=\"#000000\" stroke=\"#000000\" points=\"278.1355,-777.1317 268.1673,-773.5422 273.7214,-782.5645 278.1355,-777.1317\"/>\n</g>\n<!-- 5 -->\n<g id=\"node6\" class=\"node\">\n<title>5</title>\n<polygon fill=\"none\" stroke=\"#000000\" points=\"422.5,-781 304.5,-781 304.5,-713 422.5,-713 422.5,-781\"/>\n<text text-anchor=\"middle\" x=\"363.5\" y=\"-765.8\" font-family=\"Helvetica,sans-Serif\" font-size=\"14.00\" fill=\"#000000\">exang &lt;= 0.335</text>\n<text text-anchor=\"middle\" x=\"363.5\" y=\"-750.8\" font-family=\"Helvetica,sans-Serif\" font-size=\"14.00\" fill=\"#000000\">entropy = 0.705</text>\n<text text-anchor=\"middle\" x=\"363.5\" y=\"-735.8\" font-family=\"Helvetica,sans-Serif\" font-size=\"14.00\" fill=\"#000000\">samples = 73</text>\n<text text-anchor=\"middle\" x=\"363.5\" y=\"-720.8\" font-family=\"Helvetica,sans-Serif\" font-size=\"14.00\" fill=\"#000000\">value = [14, 59]</text>\n</g>\n<!-- 3&#45;&gt;5 -->\n<g id=\"edge5\" class=\"edge\">\n<title>3&#45;&gt;5</title>\n<path fill=\"none\" stroke=\"#000000\" d=\"M363.5,-816.9465C363.5,-808.776 363.5,-799.9318 363.5,-791.3697\"/>\n<polygon fill=\"#000000\" stroke=\"#000000\" points=\"367.0001,-791.13 363.5,-781.13 360.0001,-791.13 367.0001,-791.13\"/>\n</g>\n<!-- 6 -->\n<g id=\"node7\" class=\"node\">\n<title>6</title>\n<polygon fill=\"none\" stroke=\"#000000\" points=\"234.5,-677 116.5,-677 116.5,-609 234.5,-609 234.5,-677\"/>\n<text text-anchor=\"middle\" x=\"175.5\" y=\"-661.8\" font-family=\"Helvetica,sans-Serif\" font-size=\"14.00\" fill=\"#000000\">chol &lt;= 1.646</text>\n<text text-anchor=\"middle\" x=\"175.5\" y=\"-646.8\" font-family=\"Helvetica,sans-Serif\" font-size=\"14.00\" fill=\"#000000\">entropy = 0.258</text>\n<text text-anchor=\"middle\" x=\"175.5\" y=\"-631.8\" font-family=\"Helvetica,sans-Serif\" font-size=\"14.00\" fill=\"#000000\">samples = 46</text>\n<text text-anchor=\"middle\" x=\"175.5\" y=\"-616.8\" font-family=\"Helvetica,sans-Serif\" font-size=\"14.00\" fill=\"#000000\">value = [2, 44]</text>\n</g>\n<!-- 5&#45;&gt;6 -->\n<g id=\"edge6\" class=\"edge\">\n<title>5&#45;&gt;6</title>\n<path fill=\"none\" stroke=\"#000000\" d=\"M304.2737,-714.2365C285.0466,-703.6002 263.56,-691.7141 243.7313,-680.745\"/>\n<polygon fill=\"#000000\" stroke=\"#000000\" points=\"245.1961,-677.5555 234.7515,-675.7774 241.8076,-683.6807 245.1961,-677.5555\"/>\n</g>\n<!-- 9 -->\n<g id=\"node10\" class=\"node\">\n<title>9</title>\n<polygon fill=\"none\" stroke=\"#000000\" points=\"428.5,-677 298.5,-677 298.5,-609 428.5,-609 428.5,-677\"/>\n<text text-anchor=\"middle\" x=\"363.5\" y=\"-661.8\" font-family=\"Helvetica,sans-Serif\" font-size=\"14.00\" fill=\"#000000\">restecg &lt;= &#45;0.104</text>\n<text text-anchor=\"middle\" x=\"363.5\" y=\"-646.8\" font-family=\"Helvetica,sans-Serif\" font-size=\"14.00\" fill=\"#000000\">entropy = 0.991</text>\n<text text-anchor=\"middle\" x=\"363.5\" y=\"-631.8\" font-family=\"Helvetica,sans-Serif\" font-size=\"14.00\" fill=\"#000000\">samples = 27</text>\n<text text-anchor=\"middle\" x=\"363.5\" y=\"-616.8\" font-family=\"Helvetica,sans-Serif\" font-size=\"14.00\" fill=\"#000000\">value = [12, 15]</text>\n</g>\n<!-- 5&#45;&gt;9 -->\n<g id=\"edge9\" class=\"edge\">\n<title>5&#45;&gt;9</title>\n<path fill=\"none\" stroke=\"#000000\" d=\"M363.5,-712.9465C363.5,-704.776 363.5,-695.9318 363.5,-687.3697\"/>\n<polygon fill=\"#000000\" stroke=\"#000000\" points=\"367.0001,-687.13 363.5,-677.13 360.0001,-687.13 367.0001,-687.13\"/>\n</g>\n<!-- 7 -->\n<g id=\"node8\" class=\"node\">\n<title>7</title>\n<polygon fill=\"none\" stroke=\"#000000\" points=\"107,-565.5 0,-565.5 0,-512.5 107,-512.5 107,-565.5\"/>\n<text text-anchor=\"middle\" x=\"53.5\" y=\"-550.3\" font-family=\"Helvetica,sans-Serif\" font-size=\"14.00\" fill=\"#000000\">entropy = 0.0</text>\n<text text-anchor=\"middle\" x=\"53.5\" y=\"-535.3\" font-family=\"Helvetica,sans-Serif\" font-size=\"14.00\" fill=\"#000000\">samples = 44</text>\n<text text-anchor=\"middle\" x=\"53.5\" y=\"-520.3\" font-family=\"Helvetica,sans-Serif\" font-size=\"14.00\" fill=\"#000000\">value = [0, 44]</text>\n</g>\n<!-- 6&#45;&gt;7 -->\n<g id=\"edge7\" class=\"edge\">\n<title>6&#45;&gt;7</title>\n<path fill=\"none\" stroke=\"#000000\" d=\"M135.5526,-608.9465C121.7268,-597.1606 106.2564,-583.9726 92.5071,-572.2519\"/>\n<polygon fill=\"#000000\" stroke=\"#000000\" points=\"94.5168,-569.366 84.636,-565.5422 89.9756,-574.6931 94.5168,-569.366\"/>\n</g>\n<!-- 8 -->\n<g id=\"node9\" class=\"node\">\n<title>8</title>\n<polygon fill=\"none\" stroke=\"#000000\" points=\"226,-565.5 125,-565.5 125,-512.5 226,-512.5 226,-565.5\"/>\n<text text-anchor=\"middle\" x=\"175.5\" y=\"-550.3\" font-family=\"Helvetica,sans-Serif\" font-size=\"14.00\" fill=\"#000000\">entropy = 0.0</text>\n<text text-anchor=\"middle\" x=\"175.5\" y=\"-535.3\" font-family=\"Helvetica,sans-Serif\" font-size=\"14.00\" fill=\"#000000\">samples = 2</text>\n<text text-anchor=\"middle\" x=\"175.5\" y=\"-520.3\" font-family=\"Helvetica,sans-Serif\" font-size=\"14.00\" fill=\"#000000\">value = [2, 0]</text>\n</g>\n<!-- 6&#45;&gt;8 -->\n<g id=\"edge8\" class=\"edge\">\n<title>6&#45;&gt;8</title>\n<path fill=\"none\" stroke=\"#000000\" d=\"M175.5,-608.9465C175.5,-598.2621 175.5,-586.4254 175.5,-575.5742\"/>\n<polygon fill=\"#000000\" stroke=\"#000000\" points=\"179.0001,-575.5421 175.5,-565.5422 172.0001,-575.5422 179.0001,-575.5421\"/>\n</g>\n<!-- 10 -->\n<g id=\"node11\" class=\"node\">\n<title>10</title>\n<polygon fill=\"none\" stroke=\"#000000\" points=\"345,-565.5 244,-565.5 244,-512.5 345,-512.5 345,-565.5\"/>\n<text text-anchor=\"middle\" x=\"294.5\" y=\"-550.3\" font-family=\"Helvetica,sans-Serif\" font-size=\"14.00\" fill=\"#000000\">entropy = 0.0</text>\n<text text-anchor=\"middle\" x=\"294.5\" y=\"-535.3\" font-family=\"Helvetica,sans-Serif\" font-size=\"14.00\" fill=\"#000000\">samples = 8</text>\n<text text-anchor=\"middle\" x=\"294.5\" y=\"-520.3\" font-family=\"Helvetica,sans-Serif\" font-size=\"14.00\" fill=\"#000000\">value = [0, 8]</text>\n</g>\n<!-- 9&#45;&gt;10 -->\n<g id=\"edge10\" class=\"edge\">\n<title>9&#45;&gt;10</title>\n<path fill=\"none\" stroke=\"#000000\" d=\"M340.9068,-608.9465C333.4527,-597.7113 325.1533,-585.2021 317.6577,-573.9043\"/>\n<polygon fill=\"#000000\" stroke=\"#000000\" points=\"320.5547,-571.94 312.1097,-565.5422 314.7218,-575.81 320.5547,-571.94\"/>\n</g>\n<!-- 11 -->\n<g id=\"node12\" class=\"node\">\n<title>11</title>\n<polygon fill=\"none\" stroke=\"#000000\" points=\"481.5,-573 363.5,-573 363.5,-505 481.5,-505 481.5,-573\"/>\n<text text-anchor=\"middle\" x=\"422.5\" y=\"-557.8\" font-family=\"Helvetica,sans-Serif\" font-size=\"14.00\" fill=\"#000000\">chol &lt;= 1.725</text>\n<text text-anchor=\"middle\" x=\"422.5\" y=\"-542.8\" font-family=\"Helvetica,sans-Serif\" font-size=\"14.00\" fill=\"#000000\">entropy = 0.949</text>\n<text text-anchor=\"middle\" x=\"422.5\" y=\"-527.8\" font-family=\"Helvetica,sans-Serif\" font-size=\"14.00\" fill=\"#000000\">samples = 19</text>\n<text text-anchor=\"middle\" x=\"422.5\" y=\"-512.8\" font-family=\"Helvetica,sans-Serif\" font-size=\"14.00\" fill=\"#000000\">value = [12, 7]</text>\n</g>\n<!-- 9&#45;&gt;11 -->\n<g id=\"edge11\" class=\"edge\">\n<title>9&#45;&gt;11</title>\n<path fill=\"none\" stroke=\"#000000\" d=\"M382.8188,-608.9465C387.7087,-600.3271 393.0239,-590.9579 398.1278,-581.9611\"/>\n<polygon fill=\"#000000\" stroke=\"#000000\" points=\"401.2476,-583.5549 403.1378,-573.13 395.1592,-580.1008 401.2476,-583.5549\"/>\n</g>\n<!-- 12 -->\n<g id=\"node13\" class=\"node\">\n<title>12</title>\n<polygon fill=\"none\" stroke=\"#000000\" points=\"421.5,-469 287.5,-469 287.5,-401 421.5,-401 421.5,-469\"/>\n<text text-anchor=\"middle\" x=\"354.5\" y=\"-453.8\" font-family=\"Helvetica,sans-Serif\" font-size=\"14.00\" fill=\"#000000\">trestbps &lt;= &#45;0.932</text>\n<text text-anchor=\"middle\" x=\"354.5\" y=\"-438.8\" font-family=\"Helvetica,sans-Serif\" font-size=\"14.00\" fill=\"#000000\">entropy = 0.592</text>\n<text text-anchor=\"middle\" x=\"354.5\" y=\"-423.8\" font-family=\"Helvetica,sans-Serif\" font-size=\"14.00\" fill=\"#000000\">samples = 14</text>\n<text text-anchor=\"middle\" x=\"354.5\" y=\"-408.8\" font-family=\"Helvetica,sans-Serif\" font-size=\"14.00\" fill=\"#000000\">value = [12, 2]</text>\n</g>\n<!-- 11&#45;&gt;12 -->\n<g id=\"edge12\" class=\"edge\">\n<title>11&#45;&gt;12</title>\n<path fill=\"none\" stroke=\"#000000\" d=\"M400.2343,-504.9465C394.5398,-496.2373 388.3448,-486.7626 382.4062,-477.6801\"/>\n<polygon fill=\"#000000\" stroke=\"#000000\" points=\"385.2177,-475.5843 376.8158,-469.13 379.3589,-479.4151 385.2177,-475.5843\"/>\n</g>\n<!-- 15 -->\n<g id=\"node16\" class=\"node\">\n<title>15</title>\n<polygon fill=\"none\" stroke=\"#000000\" points=\"541,-461.5 440,-461.5 440,-408.5 541,-408.5 541,-461.5\"/>\n<text text-anchor=\"middle\" x=\"490.5\" y=\"-446.3\" font-family=\"Helvetica,sans-Serif\" font-size=\"14.00\" fill=\"#000000\">entropy = 0.0</text>\n<text text-anchor=\"middle\" x=\"490.5\" y=\"-431.3\" font-family=\"Helvetica,sans-Serif\" font-size=\"14.00\" fill=\"#000000\">samples = 5</text>\n<text text-anchor=\"middle\" x=\"490.5\" y=\"-416.3\" font-family=\"Helvetica,sans-Serif\" font-size=\"14.00\" fill=\"#000000\">value = [0, 5]</text>\n</g>\n<!-- 11&#45;&gt;15 -->\n<g id=\"edge15\" class=\"edge\">\n<title>11&#45;&gt;15</title>\n<path fill=\"none\" stroke=\"#000000\" d=\"M444.7657,-504.9465C452.0398,-493.8215 460.1306,-481.4473 467.4604,-470.237\"/>\n<polygon fill=\"#000000\" stroke=\"#000000\" points=\"470.6024,-471.8273 473.1455,-461.5422 464.7436,-467.9965 470.6024,-471.8273\"/>\n</g>\n<!-- 13 -->\n<g id=\"node14\" class=\"node\">\n<title>13</title>\n<polygon fill=\"none\" stroke=\"#000000\" points=\"344,-357.5 243,-357.5 243,-304.5 344,-304.5 344,-357.5\"/>\n<text text-anchor=\"middle\" x=\"293.5\" y=\"-342.3\" font-family=\"Helvetica,sans-Serif\" font-size=\"14.00\" fill=\"#000000\">entropy = 0.0</text>\n<text text-anchor=\"middle\" x=\"293.5\" y=\"-327.3\" font-family=\"Helvetica,sans-Serif\" font-size=\"14.00\" fill=\"#000000\">samples = 2</text>\n<text text-anchor=\"middle\" x=\"293.5\" y=\"-312.3\" font-family=\"Helvetica,sans-Serif\" font-size=\"14.00\" fill=\"#000000\">value = [0, 2]</text>\n</g>\n<!-- 12&#45;&gt;13 -->\n<g id=\"edge13\" class=\"edge\">\n<title>12&#45;&gt;13</title>\n<path fill=\"none\" stroke=\"#000000\" d=\"M334.5263,-400.9465C328.001,-389.8215 320.7431,-377.4473 314.1678,-366.237\"/>\n<polygon fill=\"#000000\" stroke=\"#000000\" points=\"317.1464,-364.3971 309.068,-357.5422 311.1084,-367.9387 317.1464,-364.3971\"/>\n</g>\n<!-- 14 -->\n<g id=\"node15\" class=\"node\">\n<title>14</title>\n<polygon fill=\"none\" stroke=\"#000000\" points=\"469,-357.5 362,-357.5 362,-304.5 469,-304.5 469,-357.5\"/>\n<text text-anchor=\"middle\" x=\"415.5\" y=\"-342.3\" font-family=\"Helvetica,sans-Serif\" font-size=\"14.00\" fill=\"#000000\">entropy = 0.0</text>\n<text text-anchor=\"middle\" x=\"415.5\" y=\"-327.3\" font-family=\"Helvetica,sans-Serif\" font-size=\"14.00\" fill=\"#000000\">samples = 12</text>\n<text text-anchor=\"middle\" x=\"415.5\" y=\"-312.3\" font-family=\"Helvetica,sans-Serif\" font-size=\"14.00\" fill=\"#000000\">value = [12, 0]</text>\n</g>\n<!-- 12&#45;&gt;14 -->\n<g id=\"edge14\" class=\"edge\">\n<title>12&#45;&gt;14</title>\n<path fill=\"none\" stroke=\"#000000\" d=\"M374.4737,-400.9465C380.999,-389.8215 388.2569,-377.4473 394.8322,-366.237\"/>\n<polygon fill=\"#000000\" stroke=\"#000000\" points=\"397.8916,-367.9387 399.932,-357.5422 391.8536,-364.3971 397.8916,-367.9387\"/>\n</g>\n<!-- 17 -->\n<g id=\"node18\" class=\"node\">\n<title>17</title>\n<polygon fill=\"none\" stroke=\"#000000\" points=\"609.5,-781 491.5,-781 491.5,-713 609.5,-713 609.5,-781\"/>\n<text text-anchor=\"middle\" x=\"550.5\" y=\"-765.8\" font-family=\"Helvetica,sans-Serif\" font-size=\"14.00\" fill=\"#000000\">chol &lt;= &#45;0.13</text>\n<text text-anchor=\"middle\" x=\"550.5\" y=\"-750.8\" font-family=\"Helvetica,sans-Serif\" font-size=\"14.00\" fill=\"#000000\">entropy = 0.937</text>\n<text text-anchor=\"middle\" x=\"550.5\" y=\"-735.8\" font-family=\"Helvetica,sans-Serif\" font-size=\"14.00\" fill=\"#000000\">samples = 17</text>\n<text text-anchor=\"middle\" x=\"550.5\" y=\"-720.8\" font-family=\"Helvetica,sans-Serif\" font-size=\"14.00\" fill=\"#000000\">value = [11, 6]</text>\n</g>\n<!-- 16&#45;&gt;17 -->\n<g id=\"edge17\" class=\"edge\">\n<title>16&#45;&gt;17</title>\n<path fill=\"none\" stroke=\"#000000\" d=\"M594.8891,-816.9465C589.3622,-808.2373 583.3494,-798.7626 577.5854,-789.6801\"/>\n<polygon fill=\"#000000\" stroke=\"#000000\" points=\"580.4729,-787.6979 572.1594,-781.13 574.5626,-791.4487 580.4729,-787.6979\"/>\n</g>\n<!-- 22 -->\n<g id=\"node23\" class=\"node\">\n<title>22</title>\n<polygon fill=\"none\" stroke=\"#000000\" points=\"735,-773.5 628,-773.5 628,-720.5 735,-720.5 735,-773.5\"/>\n<text text-anchor=\"middle\" x=\"681.5\" y=\"-758.3\" font-family=\"Helvetica,sans-Serif\" font-size=\"14.00\" fill=\"#000000\">entropy = 0.0</text>\n<text text-anchor=\"middle\" x=\"681.5\" y=\"-743.3\" font-family=\"Helvetica,sans-Serif\" font-size=\"14.00\" fill=\"#000000\">samples = 45</text>\n<text text-anchor=\"middle\" x=\"681.5\" y=\"-728.3\" font-family=\"Helvetica,sans-Serif\" font-size=\"14.00\" fill=\"#000000\">value = [45, 0]</text>\n</g>\n<!-- 16&#45;&gt;22 -->\n<g id=\"edge22\" class=\"edge\">\n<title>16&#45;&gt;22</title>\n<path fill=\"none\" stroke=\"#000000\" d=\"M637.7834,-816.9465C644.7366,-805.8215 652.4705,-793.4473 659.4769,-782.237\"/>\n<polygon fill=\"#000000\" stroke=\"#000000\" points=\"662.5791,-783.8772 664.9111,-773.5422 656.6431,-780.1671 662.5791,-783.8772\"/>\n</g>\n<!-- 18 -->\n<g id=\"node19\" class=\"node\">\n<title>18</title>\n<polygon fill=\"none\" stroke=\"#000000\" points=\"609.5,-677 491.5,-677 491.5,-609 609.5,-609 609.5,-677\"/>\n<text text-anchor=\"middle\" x=\"550.5\" y=\"-661.8\" font-family=\"Helvetica,sans-Serif\" font-size=\"14.00\" fill=\"#000000\">age &lt;= &#45;1.348</text>\n<text text-anchor=\"middle\" x=\"550.5\" y=\"-646.8\" font-family=\"Helvetica,sans-Serif\" font-size=\"14.00\" fill=\"#000000\">entropy = 0.918</text>\n<text text-anchor=\"middle\" x=\"550.5\" y=\"-631.8\" font-family=\"Helvetica,sans-Serif\" font-size=\"14.00\" fill=\"#000000\">samples = 9</text>\n<text text-anchor=\"middle\" x=\"550.5\" y=\"-616.8\" font-family=\"Helvetica,sans-Serif\" font-size=\"14.00\" fill=\"#000000\">value = [3, 6]</text>\n</g>\n<!-- 17&#45;&gt;18 -->\n<g id=\"edge18\" class=\"edge\">\n<title>17&#45;&gt;18</title>\n<path fill=\"none\" stroke=\"#000000\" d=\"M550.5,-712.9465C550.5,-704.776 550.5,-695.9318 550.5,-687.3697\"/>\n<polygon fill=\"#000000\" stroke=\"#000000\" points=\"554.0001,-687.13 550.5,-677.13 547.0001,-687.13 554.0001,-687.13\"/>\n</g>\n<!-- 21 -->\n<g id=\"node22\" class=\"node\">\n<title>21</title>\n<polygon fill=\"none\" stroke=\"#000000\" points=\"729,-669.5 628,-669.5 628,-616.5 729,-616.5 729,-669.5\"/>\n<text text-anchor=\"middle\" x=\"678.5\" y=\"-654.3\" font-family=\"Helvetica,sans-Serif\" font-size=\"14.00\" fill=\"#000000\">entropy = 0.0</text>\n<text text-anchor=\"middle\" x=\"678.5\" y=\"-639.3\" font-family=\"Helvetica,sans-Serif\" font-size=\"14.00\" fill=\"#000000\">samples = 8</text>\n<text text-anchor=\"middle\" x=\"678.5\" y=\"-624.3\" font-family=\"Helvetica,sans-Serif\" font-size=\"14.00\" fill=\"#000000\">value = [8, 0]</text>\n</g>\n<!-- 17&#45;&gt;21 -->\n<g id=\"edge21\" class=\"edge\">\n<title>17&#45;&gt;21</title>\n<path fill=\"none\" stroke=\"#000000\" d=\"M592.412,-712.9465C607.0533,-701.0504 623.4526,-687.726 637.9785,-675.9237\"/>\n<polygon fill=\"#000000\" stroke=\"#000000\" points=\"640.2786,-678.5645 645.8327,-669.5422 635.8645,-673.1317 640.2786,-678.5645\"/>\n</g>\n<!-- 19 -->\n<g id=\"node20\" class=\"node\">\n<title>19</title>\n<polygon fill=\"none\" stroke=\"#000000\" points=\"601,-565.5 500,-565.5 500,-512.5 601,-512.5 601,-565.5\"/>\n<text text-anchor=\"middle\" x=\"550.5\" y=\"-550.3\" font-family=\"Helvetica,sans-Serif\" font-size=\"14.00\" fill=\"#000000\">entropy = 0.0</text>\n<text text-anchor=\"middle\" x=\"550.5\" y=\"-535.3\" font-family=\"Helvetica,sans-Serif\" font-size=\"14.00\" fill=\"#000000\">samples = 3</text>\n<text text-anchor=\"middle\" x=\"550.5\" y=\"-520.3\" font-family=\"Helvetica,sans-Serif\" font-size=\"14.00\" fill=\"#000000\">value = [3, 0]</text>\n</g>\n<!-- 18&#45;&gt;19 -->\n<g id=\"edge19\" class=\"edge\">\n<title>18&#45;&gt;19</title>\n<path fill=\"none\" stroke=\"#000000\" d=\"M550.5,-608.9465C550.5,-598.2621 550.5,-586.4254 550.5,-575.5742\"/>\n<polygon fill=\"#000000\" stroke=\"#000000\" points=\"554.0001,-575.5421 550.5,-565.5422 547.0001,-575.5422 554.0001,-575.5421\"/>\n</g>\n<!-- 20 -->\n<g id=\"node21\" class=\"node\">\n<title>20</title>\n<polygon fill=\"none\" stroke=\"#000000\" points=\"720,-565.5 619,-565.5 619,-512.5 720,-512.5 720,-565.5\"/>\n<text text-anchor=\"middle\" x=\"669.5\" y=\"-550.3\" font-family=\"Helvetica,sans-Serif\" font-size=\"14.00\" fill=\"#000000\">entropy = 0.0</text>\n<text text-anchor=\"middle\" x=\"669.5\" y=\"-535.3\" font-family=\"Helvetica,sans-Serif\" font-size=\"14.00\" fill=\"#000000\">samples = 6</text>\n<text text-anchor=\"middle\" x=\"669.5\" y=\"-520.3\" font-family=\"Helvetica,sans-Serif\" font-size=\"14.00\" fill=\"#000000\">value = [0, 6]</text>\n</g>\n<!-- 18&#45;&gt;20 -->\n<g id=\"edge20\" class=\"edge\">\n<title>18&#45;&gt;20</title>\n<path fill=\"none\" stroke=\"#000000\" d=\"M589.4651,-608.9465C602.9509,-597.1606 618.0409,-583.9726 631.4521,-572.2519\"/>\n<polygon fill=\"#000000\" stroke=\"#000000\" points=\"633.9031,-574.7582 639.1296,-565.5422 629.2967,-569.4874 633.9031,-574.7582\"/>\n</g>\n<!-- 24 -->\n<g id=\"node25\" class=\"node\">\n<title>24</title>\n<polygon fill=\"none\" stroke=\"#000000\" points=\"995.5,-885 877.5,-885 877.5,-817 995.5,-817 995.5,-885\"/>\n<text text-anchor=\"middle\" x=\"936.5\" y=\"-869.8\" font-family=\"Helvetica,sans-Serif\" font-size=\"14.00\" fill=\"#000000\">sex &lt;= &#45;0.485</text>\n<text text-anchor=\"middle\" x=\"936.5\" y=\"-854.8\" font-family=\"Helvetica,sans-Serif\" font-size=\"14.00\" fill=\"#000000\">entropy = 0.699</text>\n<text text-anchor=\"middle\" x=\"936.5\" y=\"-839.8\" font-family=\"Helvetica,sans-Serif\" font-size=\"14.00\" fill=\"#000000\">samples = 53</text>\n<text text-anchor=\"middle\" x=\"936.5\" y=\"-824.8\" font-family=\"Helvetica,sans-Serif\" font-size=\"14.00\" fill=\"#000000\">value = [43, 10]</text>\n</g>\n<!-- 23&#45;&gt;24 -->\n<g id=\"edge24\" class=\"edge\">\n<title>23&#45;&gt;24</title>\n<path fill=\"none\" stroke=\"#000000\" d=\"M983.5794,-920.9465C977.7174,-912.2373 971.3402,-902.7626 965.227,-893.6801\"/>\n<polygon fill=\"#000000\" stroke=\"#000000\" points=\"967.9595,-891.4716 959.4721,-885.13 962.1524,-895.3802 967.9595,-891.4716\"/>\n</g>\n<!-- 31 -->\n<g id=\"node32\" class=\"node\">\n<title>31</title>\n<polygon fill=\"none\" stroke=\"#000000\" points=\"1136.5,-885 1018.5,-885 1018.5,-817 1136.5,-817 1136.5,-885\"/>\n<text text-anchor=\"middle\" x=\"1077.5\" y=\"-869.8\" font-family=\"Helvetica,sans-Serif\" font-size=\"14.00\" fill=\"#000000\">chol &lt;= 1.297</text>\n<text text-anchor=\"middle\" x=\"1077.5\" y=\"-854.8\" font-family=\"Helvetica,sans-Serif\" font-size=\"14.00\" fill=\"#000000\">entropy = 0.104</text>\n<text text-anchor=\"middle\" x=\"1077.5\" y=\"-839.8\" font-family=\"Helvetica,sans-Serif\" font-size=\"14.00\" fill=\"#000000\">samples = 146</text>\n<text text-anchor=\"middle\" x=\"1077.5\" y=\"-824.8\" font-family=\"Helvetica,sans-Serif\" font-size=\"14.00\" fill=\"#000000\">value = [144, 2]</text>\n</g>\n<!-- 23&#45;&gt;31 -->\n<g id=\"edge31\" class=\"edge\">\n<title>23&#45;&gt;31</title>\n<path fill=\"none\" stroke=\"#000000\" d=\"M1029.7481,-920.9465C1035.755,-912.1475 1042.2955,-902.5672 1048.5543,-893.3993\"/>\n<polygon fill=\"#000000\" stroke=\"#000000\" points=\"1051.452,-895.3623 1054.1997,-885.13 1045.6707,-891.4155 1051.452,-895.3623\"/>\n</g>\n<!-- 25 -->\n<g id=\"node26\" class=\"node\">\n<title>25</title>\n<polygon fill=\"none\" stroke=\"#000000\" points=\"854,-773.5 753,-773.5 753,-720.5 854,-720.5 854,-773.5\"/>\n<text text-anchor=\"middle\" x=\"803.5\" y=\"-758.3\" font-family=\"Helvetica,sans-Serif\" font-size=\"14.00\" fill=\"#000000\">entropy = 0.0</text>\n<text text-anchor=\"middle\" x=\"803.5\" y=\"-743.3\" font-family=\"Helvetica,sans-Serif\" font-size=\"14.00\" fill=\"#000000\">samples = 5</text>\n<text text-anchor=\"middle\" x=\"803.5\" y=\"-728.3\" font-family=\"Helvetica,sans-Serif\" font-size=\"14.00\" fill=\"#000000\">value = [0, 5]</text>\n</g>\n<!-- 24&#45;&gt;25 -->\n<g id=\"edge25\" class=\"edge\">\n<title>24&#45;&gt;25</title>\n<path fill=\"none\" stroke=\"#000000\" d=\"M892.9508,-816.9465C877.7375,-805.0504 860.6977,-791.726 845.6043,-779.9237\"/>\n<polygon fill=\"#000000\" stroke=\"#000000\" points=\"847.4769,-776.9449 837.4433,-773.5422 843.1649,-782.4592 847.4769,-776.9449\"/>\n</g>\n<!-- 26 -->\n<g id=\"node27\" class=\"node\">\n<title>26</title>\n<polygon fill=\"none\" stroke=\"#000000\" points=\"1001,-781 872,-781 872,-713 1001,-713 1001,-781\"/>\n<text text-anchor=\"middle\" x=\"936.5\" y=\"-765.8\" font-family=\"Helvetica,sans-Serif\" font-size=\"14.00\" fill=\"#000000\">thalach &lt;= &#45;0.042</text>\n<text text-anchor=\"middle\" x=\"936.5\" y=\"-750.8\" font-family=\"Helvetica,sans-Serif\" font-size=\"14.00\" fill=\"#000000\">entropy = 0.482</text>\n<text text-anchor=\"middle\" x=\"936.5\" y=\"-735.8\" font-family=\"Helvetica,sans-Serif\" font-size=\"14.00\" fill=\"#000000\">samples = 48</text>\n<text text-anchor=\"middle\" x=\"936.5\" y=\"-720.8\" font-family=\"Helvetica,sans-Serif\" font-size=\"14.00\" fill=\"#000000\">value = [43, 5]</text>\n</g>\n<!-- 24&#45;&gt;26 -->\n<g id=\"edge26\" class=\"edge\">\n<title>24&#45;&gt;26</title>\n<path fill=\"none\" stroke=\"#000000\" d=\"M936.5,-816.9465C936.5,-808.776 936.5,-799.9318 936.5,-791.3697\"/>\n<polygon fill=\"#000000\" stroke=\"#000000\" points=\"940.0001,-791.13 936.5,-781.13 933.0001,-791.13 940.0001,-791.13\"/>\n</g>\n<!-- 27 -->\n<g id=\"node28\" class=\"node\">\n<title>27</title>\n<polygon fill=\"none\" stroke=\"#000000\" points=\"889.5,-677 759.5,-677 759.5,-609 889.5,-609 889.5,-677\"/>\n<text text-anchor=\"middle\" x=\"824.5\" y=\"-661.8\" font-family=\"Helvetica,sans-Serif\" font-size=\"14.00\" fill=\"#000000\">restecg &lt;= &#45;0.104</text>\n<text text-anchor=\"middle\" x=\"824.5\" y=\"-646.8\" font-family=\"Helvetica,sans-Serif\" font-size=\"14.00\" fill=\"#000000\">entropy = 0.896</text>\n<text text-anchor=\"middle\" x=\"824.5\" y=\"-631.8\" font-family=\"Helvetica,sans-Serif\" font-size=\"14.00\" fill=\"#000000\">samples = 16</text>\n<text text-anchor=\"middle\" x=\"824.5\" y=\"-616.8\" font-family=\"Helvetica,sans-Serif\" font-size=\"14.00\" fill=\"#000000\">value = [11, 5]</text>\n</g>\n<!-- 26&#45;&gt;27 -->\n<g id=\"edge27\" class=\"edge\">\n<title>26&#45;&gt;27</title>\n<path fill=\"none\" stroke=\"#000000\" d=\"M899.827,-712.9465C889.8677,-703.6986 878.9789,-693.5876 868.6532,-683.9994\"/>\n<polygon fill=\"#000000\" stroke=\"#000000\" points=\"870.9649,-681.3698 861.2554,-677.13 866.2018,-686.4993 870.9649,-681.3698\"/>\n</g>\n<!-- 30 -->\n<g id=\"node31\" class=\"node\">\n<title>30</title>\n<polygon fill=\"none\" stroke=\"#000000\" points=\"1015,-669.5 908,-669.5 908,-616.5 1015,-616.5 1015,-669.5\"/>\n<text text-anchor=\"middle\" x=\"961.5\" y=\"-654.3\" font-family=\"Helvetica,sans-Serif\" font-size=\"14.00\" fill=\"#000000\">entropy = 0.0</text>\n<text text-anchor=\"middle\" x=\"961.5\" y=\"-639.3\" font-family=\"Helvetica,sans-Serif\" font-size=\"14.00\" fill=\"#000000\">samples = 32</text>\n<text text-anchor=\"middle\" x=\"961.5\" y=\"-624.3\" font-family=\"Helvetica,sans-Serif\" font-size=\"14.00\" fill=\"#000000\">value = [32, 0]</text>\n</g>\n<!-- 26&#45;&gt;30 -->\n<g id=\"edge30\" class=\"edge\">\n<title>26&#45;&gt;30</title>\n<path fill=\"none\" stroke=\"#000000\" d=\"M944.6859,-712.9465C947.2543,-702.2621 950.0997,-690.4254 952.7081,-679.5742\"/>\n<polygon fill=\"#000000\" stroke=\"#000000\" points=\"956.1854,-680.0833 955.1197,-669.5422 949.3793,-678.4471 956.1854,-680.0833\"/>\n</g>\n<!-- 28 -->\n<g id=\"node29\" class=\"node\">\n<title>28</title>\n<polygon fill=\"none\" stroke=\"#000000\" points=\"855,-565.5 748,-565.5 748,-512.5 855,-512.5 855,-565.5\"/>\n<text text-anchor=\"middle\" x=\"801.5\" y=\"-550.3\" font-family=\"Helvetica,sans-Serif\" font-size=\"14.00\" fill=\"#000000\">entropy = 0.0</text>\n<text text-anchor=\"middle\" x=\"801.5\" y=\"-535.3\" font-family=\"Helvetica,sans-Serif\" font-size=\"14.00\" fill=\"#000000\">samples = 11</text>\n<text text-anchor=\"middle\" x=\"801.5\" y=\"-520.3\" font-family=\"Helvetica,sans-Serif\" font-size=\"14.00\" fill=\"#000000\">value = [11, 0]</text>\n</g>\n<!-- 27&#45;&gt;28 -->\n<g id=\"edge28\" class=\"edge\">\n<title>27&#45;&gt;28</title>\n<path fill=\"none\" stroke=\"#000000\" d=\"M816.9689,-608.9465C814.606,-598.2621 811.9883,-586.4254 809.5885,-575.5742\"/>\n<polygon fill=\"#000000\" stroke=\"#000000\" points=\"812.9468,-574.5504 807.3699,-565.5422 806.1119,-576.062 812.9468,-574.5504\"/>\n</g>\n<!-- 29 -->\n<g id=\"node30\" class=\"node\">\n<title>29</title>\n<polygon fill=\"none\" stroke=\"#000000\" points=\"974,-565.5 873,-565.5 873,-512.5 974,-512.5 974,-565.5\"/>\n<text text-anchor=\"middle\" x=\"923.5\" y=\"-550.3\" font-family=\"Helvetica,sans-Serif\" font-size=\"14.00\" fill=\"#000000\">entropy = 0.0</text>\n<text text-anchor=\"middle\" x=\"923.5\" y=\"-535.3\" font-family=\"Helvetica,sans-Serif\" font-size=\"14.00\" fill=\"#000000\">samples = 5</text>\n<text text-anchor=\"middle\" x=\"923.5\" y=\"-520.3\" font-family=\"Helvetica,sans-Serif\" font-size=\"14.00\" fill=\"#000000\">value = [0, 5]</text>\n</g>\n<!-- 27&#45;&gt;29 -->\n<g id=\"edge29\" class=\"edge\">\n<title>27&#45;&gt;29</title>\n<path fill=\"none\" stroke=\"#000000\" d=\"M856.9163,-608.9465C867.9259,-597.3809 880.2207,-584.4652 891.2196,-572.9107\"/>\n<polygon fill=\"#000000\" stroke=\"#000000\" points=\"893.8741,-575.1984 898.2339,-565.5422 888.804,-570.372 893.8741,-575.1984\"/>\n</g>\n<!-- 32 -->\n<g id=\"node33\" class=\"node\">\n<title>32</title>\n<polygon fill=\"none\" stroke=\"#000000\" points=\"1135.5,-773.5 1019.5,-773.5 1019.5,-720.5 1135.5,-720.5 1135.5,-773.5\"/>\n<text text-anchor=\"middle\" x=\"1077.5\" y=\"-758.3\" font-family=\"Helvetica,sans-Serif\" font-size=\"14.00\" fill=\"#000000\">entropy = 0.0</text>\n<text text-anchor=\"middle\" x=\"1077.5\" y=\"-743.3\" font-family=\"Helvetica,sans-Serif\" font-size=\"14.00\" fill=\"#000000\">samples = 127</text>\n<text text-anchor=\"middle\" x=\"1077.5\" y=\"-728.3\" font-family=\"Helvetica,sans-Serif\" font-size=\"14.00\" fill=\"#000000\">value = [127, 0]</text>\n</g>\n<!-- 31&#45;&gt;32 -->\n<g id=\"edge32\" class=\"edge\">\n<title>31&#45;&gt;32</title>\n<path fill=\"none\" stroke=\"#000000\" d=\"M1077.5,-816.9465C1077.5,-806.2621 1077.5,-794.4254 1077.5,-783.5742\"/>\n<polygon fill=\"#000000\" stroke=\"#000000\" points=\"1081.0001,-783.5421 1077.5,-773.5422 1074.0001,-783.5422 1081.0001,-783.5421\"/>\n</g>\n<!-- 33 -->\n<g id=\"node34\" class=\"node\">\n<title>33</title>\n<polygon fill=\"none\" stroke=\"#000000\" points=\"1271.5,-781 1153.5,-781 1153.5,-713 1271.5,-713 1271.5,-781\"/>\n<text text-anchor=\"middle\" x=\"1212.5\" y=\"-765.8\" font-family=\"Helvetica,sans-Serif\" font-size=\"14.00\" fill=\"#000000\">chol &lt;= 1.432</text>\n<text text-anchor=\"middle\" x=\"1212.5\" y=\"-750.8\" font-family=\"Helvetica,sans-Serif\" font-size=\"14.00\" fill=\"#000000\">entropy = 0.485</text>\n<text text-anchor=\"middle\" x=\"1212.5\" y=\"-735.8\" font-family=\"Helvetica,sans-Serif\" font-size=\"14.00\" fill=\"#000000\">samples = 19</text>\n<text text-anchor=\"middle\" x=\"1212.5\" y=\"-720.8\" font-family=\"Helvetica,sans-Serif\" font-size=\"14.00\" fill=\"#000000\">value = [17, 2]</text>\n</g>\n<!-- 31&#45;&gt;33 -->\n<g id=\"edge33\" class=\"edge\">\n<title>31&#45;&gt;33</title>\n<path fill=\"none\" stroke=\"#000000\" d=\"M1121.704,-816.9465C1133.9416,-807.519 1147.3436,-797.1946 1160.0038,-787.4415\"/>\n<polygon fill=\"#000000\" stroke=\"#000000\" points=\"1162.4107,-790.0055 1168.1966,-781.13 1158.1388,-784.4601 1162.4107,-790.0055\"/>\n</g>\n<!-- 34 -->\n<g id=\"node35\" class=\"node\">\n<title>34</title>\n<polygon fill=\"none\" stroke=\"#000000\" points=\"1144,-669.5 1043,-669.5 1043,-616.5 1144,-616.5 1144,-669.5\"/>\n<text text-anchor=\"middle\" x=\"1093.5\" y=\"-654.3\" font-family=\"Helvetica,sans-Serif\" font-size=\"14.00\" fill=\"#000000\">entropy = 0.0</text>\n<text text-anchor=\"middle\" x=\"1093.5\" y=\"-639.3\" font-family=\"Helvetica,sans-Serif\" font-size=\"14.00\" fill=\"#000000\">samples = 2</text>\n<text text-anchor=\"middle\" x=\"1093.5\" y=\"-624.3\" font-family=\"Helvetica,sans-Serif\" font-size=\"14.00\" fill=\"#000000\">value = [0, 2]</text>\n</g>\n<!-- 33&#45;&gt;34 -->\n<g id=\"edge34\" class=\"edge\">\n<title>33&#45;&gt;34</title>\n<path fill=\"none\" stroke=\"#000000\" d=\"M1173.5349,-712.9465C1160.0491,-701.1606 1144.9591,-687.9726 1131.5479,-676.2519\"/>\n<polygon fill=\"#000000\" stroke=\"#000000\" points=\"1133.7033,-673.4874 1123.8704,-669.5422 1129.0969,-678.7582 1133.7033,-673.4874\"/>\n</g>\n<!-- 35 -->\n<g id=\"node36\" class=\"node\">\n<title>35</title>\n<polygon fill=\"none\" stroke=\"#000000\" points=\"1269,-669.5 1162,-669.5 1162,-616.5 1269,-616.5 1269,-669.5\"/>\n<text text-anchor=\"middle\" x=\"1215.5\" y=\"-654.3\" font-family=\"Helvetica,sans-Serif\" font-size=\"14.00\" fill=\"#000000\">entropy = 0.0</text>\n<text text-anchor=\"middle\" x=\"1215.5\" y=\"-639.3\" font-family=\"Helvetica,sans-Serif\" font-size=\"14.00\" fill=\"#000000\">samples = 17</text>\n<text text-anchor=\"middle\" x=\"1215.5\" y=\"-624.3\" font-family=\"Helvetica,sans-Serif\" font-size=\"14.00\" fill=\"#000000\">value = [17, 0]</text>\n</g>\n<!-- 33&#45;&gt;35 -->\n<g id=\"edge35\" class=\"edge\">\n<title>33&#45;&gt;35</title>\n<path fill=\"none\" stroke=\"#000000\" d=\"M1213.4823,-712.9465C1213.7905,-702.2621 1214.132,-690.4254 1214.445,-679.5742\"/>\n<polygon fill=\"#000000\" stroke=\"#000000\" points=\"1217.9445,-679.639 1214.7344,-669.5422 1210.9474,-679.4371 1217.9445,-679.639\"/>\n</g>\n<!-- 37 -->\n<g id=\"node38\" class=\"node\">\n<title>37</title>\n<polygon fill=\"none\" stroke=\"#000000\" points=\"1610,-989 1481,-989 1481,-921 1610,-921 1610,-989\"/>\n<text text-anchor=\"middle\" x=\"1545.5\" y=\"-973.8\" font-family=\"Helvetica,sans-Serif\" font-size=\"14.00\" fill=\"#000000\">thalach &lt;= &#45;0.064</text>\n<text text-anchor=\"middle\" x=\"1545.5\" y=\"-958.8\" font-family=\"Helvetica,sans-Serif\" font-size=\"14.00\" fill=\"#000000\">entropy = 0.499</text>\n<text text-anchor=\"middle\" x=\"1545.5\" y=\"-943.8\" font-family=\"Helvetica,sans-Serif\" font-size=\"14.00\" fill=\"#000000\">samples = 228</text>\n<text text-anchor=\"middle\" x=\"1545.5\" y=\"-928.8\" font-family=\"Helvetica,sans-Serif\" font-size=\"14.00\" fill=\"#000000\">value = [25, 203]</text>\n</g>\n<!-- 36&#45;&gt;37 -->\n<g id=\"edge37\" class=\"edge\">\n<title>36&#45;&gt;37</title>\n<path fill=\"none\" stroke=\"#000000\" d=\"M1545.5,-1024.9465C1545.5,-1016.776 1545.5,-1007.9318 1545.5,-999.3697\"/>\n<polygon fill=\"#000000\" stroke=\"#000000\" points=\"1549.0001,-999.13 1545.5,-989.13 1542.0001,-999.13 1549.0001,-999.13\"/>\n</g>\n<!-- 62 -->\n<g id=\"node63\" class=\"node\">\n<title>62</title>\n<polygon fill=\"none\" stroke=\"#000000\" points=\"2025.5,-989 1907.5,-989 1907.5,-921 2025.5,-921 2025.5,-989\"/>\n<text text-anchor=\"middle\" x=\"1966.5\" y=\"-973.8\" font-family=\"Helvetica,sans-Serif\" font-size=\"14.00\" fill=\"#000000\">sex &lt;= &#45;0.485</text>\n<text text-anchor=\"middle\" x=\"1966.5\" y=\"-958.8\" font-family=\"Helvetica,sans-Serif\" font-size=\"14.00\" fill=\"#000000\">entropy = 0.982</text>\n<text text-anchor=\"middle\" x=\"1966.5\" y=\"-943.8\" font-family=\"Helvetica,sans-Serif\" font-size=\"14.00\" fill=\"#000000\">samples = 138</text>\n<text text-anchor=\"middle\" x=\"1966.5\" y=\"-928.8\" font-family=\"Helvetica,sans-Serif\" font-size=\"14.00\" fill=\"#000000\">value = [58, 80]</text>\n</g>\n<!-- 36&#45;&gt;62 -->\n<g id=\"edge62\" class=\"edge\">\n<title>36&#45;&gt;62</title>\n<path fill=\"none\" stroke=\"#000000\" d=\"M1607.62,-1043.6544C1684.9393,-1024.5542 1816.6013,-992.0296 1897.1431,-972.1333\"/>\n<polygon fill=\"#000000\" stroke=\"#000000\" points=\"1898.3199,-975.4479 1907.1886,-969.6517 1896.6411,-968.6522 1898.3199,-975.4479\"/>\n</g>\n<!-- 38 -->\n<g id=\"node39\" class=\"node\">\n<title>38</title>\n<polygon fill=\"none\" stroke=\"#000000\" points=\"1537.5,-885 1403.5,-885 1403.5,-817 1537.5,-817 1537.5,-885\"/>\n<text text-anchor=\"middle\" x=\"1470.5\" y=\"-869.8\" font-family=\"Helvetica,sans-Serif\" font-size=\"14.00\" fill=\"#000000\">oldpeak &lt;= &#45;0.472</text>\n<text text-anchor=\"middle\" x=\"1470.5\" y=\"-854.8\" font-family=\"Helvetica,sans-Serif\" font-size=\"14.00\" fill=\"#000000\">entropy = 0.989</text>\n<text text-anchor=\"middle\" x=\"1470.5\" y=\"-839.8\" font-family=\"Helvetica,sans-Serif\" font-size=\"14.00\" fill=\"#000000\">samples = 32</text>\n<text text-anchor=\"middle\" x=\"1470.5\" y=\"-824.8\" font-family=\"Helvetica,sans-Serif\" font-size=\"14.00\" fill=\"#000000\">value = [14, 18]</text>\n</g>\n<!-- 37&#45;&gt;38 -->\n<g id=\"edge38\" class=\"edge\">\n<title>37&#45;&gt;38</title>\n<path fill=\"none\" stroke=\"#000000\" d=\"M1520.9422,-920.9465C1514.5968,-912.1475 1507.6879,-902.5672 1501.0764,-893.3993\"/>\n<polygon fill=\"#000000\" stroke=\"#000000\" points=\"1503.8011,-891.1937 1495.113,-885.13 1498.1234,-895.2882 1503.8011,-891.1937\"/>\n</g>\n<!-- 45 -->\n<g id=\"node46\" class=\"node\">\n<title>45</title>\n<polygon fill=\"none\" stroke=\"#000000\" points=\"1685,-885 1556,-885 1556,-817 1685,-817 1685,-885\"/>\n<text text-anchor=\"middle\" x=\"1620.5\" y=\"-869.8\" font-family=\"Helvetica,sans-Serif\" font-size=\"14.00\" fill=\"#000000\">oldpeak &lt;= 2.214</text>\n<text text-anchor=\"middle\" x=\"1620.5\" y=\"-854.8\" font-family=\"Helvetica,sans-Serif\" font-size=\"14.00\" fill=\"#000000\">entropy = 0.312</text>\n<text text-anchor=\"middle\" x=\"1620.5\" y=\"-839.8\" font-family=\"Helvetica,sans-Serif\" font-size=\"14.00\" fill=\"#000000\">samples = 196</text>\n<text text-anchor=\"middle\" x=\"1620.5\" y=\"-824.8\" font-family=\"Helvetica,sans-Serif\" font-size=\"14.00\" fill=\"#000000\">value = [11, 185]</text>\n</g>\n<!-- 37&#45;&gt;45 -->\n<g id=\"edge45\" class=\"edge\">\n<title>37&#45;&gt;45</title>\n<path fill=\"none\" stroke=\"#000000\" d=\"M1570.0578,-920.9465C1576.4032,-912.1475 1583.3121,-902.5672 1589.9236,-893.3993\"/>\n<polygon fill=\"#000000\" stroke=\"#000000\" points=\"1592.8766,-895.2882 1595.887,-885.13 1587.1989,-891.1937 1592.8766,-895.2882\"/>\n</g>\n<!-- 39 -->\n<g id=\"node40\" class=\"node\">\n<title>39</title>\n<polygon fill=\"none\" stroke=\"#000000\" points=\"1397,-773.5 1290,-773.5 1290,-720.5 1397,-720.5 1397,-773.5\"/>\n<text text-anchor=\"middle\" x=\"1343.5\" y=\"-758.3\" font-family=\"Helvetica,sans-Serif\" font-size=\"14.00\" fill=\"#000000\">entropy = 0.0</text>\n<text text-anchor=\"middle\" x=\"1343.5\" y=\"-743.3\" font-family=\"Helvetica,sans-Serif\" font-size=\"14.00\" fill=\"#000000\">samples = 12</text>\n<text text-anchor=\"middle\" x=\"1343.5\" y=\"-728.3\" font-family=\"Helvetica,sans-Serif\" font-size=\"14.00\" fill=\"#000000\">value = [0, 12]</text>\n</g>\n<!-- 38&#45;&gt;39 -->\n<g id=\"edge39\" class=\"edge\">\n<title>38&#45;&gt;39</title>\n<path fill=\"none\" stroke=\"#000000\" d=\"M1428.9155,-816.9465C1414.3885,-805.0504 1398.1173,-791.726 1383.7049,-779.9237\"/>\n<polygon fill=\"#000000\" stroke=\"#000000\" points=\"1385.8665,-777.17 1375.9121,-773.5422 1381.4314,-782.5858 1385.8665,-777.17\"/>\n</g>\n<!-- 40 -->\n<g id=\"node41\" class=\"node\">\n<title>40</title>\n<polygon fill=\"none\" stroke=\"#000000\" points=\"1533.5,-781 1415.5,-781 1415.5,-713 1533.5,-713 1533.5,-781\"/>\n<text text-anchor=\"middle\" x=\"1474.5\" y=\"-765.8\" font-family=\"Helvetica,sans-Serif\" font-size=\"14.00\" fill=\"#000000\">age &lt;= &#45;0.47</text>\n<text text-anchor=\"middle\" x=\"1474.5\" y=\"-750.8\" font-family=\"Helvetica,sans-Serif\" font-size=\"14.00\" fill=\"#000000\">entropy = 0.881</text>\n<text text-anchor=\"middle\" x=\"1474.5\" y=\"-735.8\" font-family=\"Helvetica,sans-Serif\" font-size=\"14.00\" fill=\"#000000\">samples = 20</text>\n<text text-anchor=\"middle\" x=\"1474.5\" y=\"-720.8\" font-family=\"Helvetica,sans-Serif\" font-size=\"14.00\" fill=\"#000000\">value = [14, 6]</text>\n</g>\n<!-- 38&#45;&gt;40 -->\n<g id=\"edge40\" class=\"edge\">\n<title>38&#45;&gt;40</title>\n<path fill=\"none\" stroke=\"#000000\" d=\"M1471.8097,-816.9465C1472.124,-808.776 1472.4642,-799.9318 1472.7935,-791.3697\"/>\n<polygon fill=\"#000000\" stroke=\"#000000\" points=\"1476.3003,-791.2572 1473.1873,-781.13 1469.3055,-790.9881 1476.3003,-791.2572\"/>\n</g>\n<!-- 41 -->\n<g id=\"node42\" class=\"node\">\n<title>41</title>\n<polygon fill=\"none\" stroke=\"#000000\" points=\"1397,-669.5 1290,-669.5 1290,-616.5 1397,-616.5 1397,-669.5\"/>\n<text text-anchor=\"middle\" x=\"1343.5\" y=\"-654.3\" font-family=\"Helvetica,sans-Serif\" font-size=\"14.00\" fill=\"#000000\">entropy = 0.0</text>\n<text text-anchor=\"middle\" x=\"1343.5\" y=\"-639.3\" font-family=\"Helvetica,sans-Serif\" font-size=\"14.00\" fill=\"#000000\">samples = 10</text>\n<text text-anchor=\"middle\" x=\"1343.5\" y=\"-624.3\" font-family=\"Helvetica,sans-Serif\" font-size=\"14.00\" fill=\"#000000\">value = [10, 0]</text>\n</g>\n<!-- 40&#45;&gt;41 -->\n<g id=\"edge41\" class=\"edge\">\n<title>40&#45;&gt;41</title>\n<path fill=\"none\" stroke=\"#000000\" d=\"M1431.6057,-712.9465C1416.6212,-701.0504 1399.8376,-687.726 1384.9712,-675.9237\"/>\n<polygon fill=\"#000000\" stroke=\"#000000\" points=\"1386.9411,-673.0187 1376.9329,-669.5422 1382.5887,-678.5011 1386.9411,-673.0187\"/>\n</g>\n<!-- 42 -->\n<g id=\"node43\" class=\"node\">\n<title>42</title>\n<polygon fill=\"none\" stroke=\"#000000\" points=\"1533.5,-677 1415.5,-677 1415.5,-609 1533.5,-609 1533.5,-677\"/>\n<text text-anchor=\"middle\" x=\"1474.5\" y=\"-661.8\" font-family=\"Helvetica,sans-Serif\" font-size=\"14.00\" fill=\"#000000\">thal &lt;= &#45;1.303</text>\n<text text-anchor=\"middle\" x=\"1474.5\" y=\"-646.8\" font-family=\"Helvetica,sans-Serif\" font-size=\"14.00\" fill=\"#000000\">entropy = 0.971</text>\n<text text-anchor=\"middle\" x=\"1474.5\" y=\"-631.8\" font-family=\"Helvetica,sans-Serif\" font-size=\"14.00\" fill=\"#000000\">samples = 10</text>\n<text text-anchor=\"middle\" x=\"1474.5\" y=\"-616.8\" font-family=\"Helvetica,sans-Serif\" font-size=\"14.00\" fill=\"#000000\">value = [4, 6]</text>\n</g>\n<!-- 40&#45;&gt;42 -->\n<g id=\"edge42\" class=\"edge\">\n<title>40&#45;&gt;42</title>\n<path fill=\"none\" stroke=\"#000000\" d=\"M1474.5,-712.9465C1474.5,-704.776 1474.5,-695.9318 1474.5,-687.3697\"/>\n<polygon fill=\"#000000\" stroke=\"#000000\" points=\"1478.0001,-687.13 1474.5,-677.13 1471.0001,-687.13 1478.0001,-687.13\"/>\n</g>\n<!-- 43 -->\n<g id=\"node44\" class=\"node\">\n<title>43</title>\n<polygon fill=\"none\" stroke=\"#000000\" points=\"1411,-565.5 1310,-565.5 1310,-512.5 1411,-512.5 1411,-565.5\"/>\n<text text-anchor=\"middle\" x=\"1360.5\" y=\"-550.3\" font-family=\"Helvetica,sans-Serif\" font-size=\"14.00\" fill=\"#000000\">entropy = 0.0</text>\n<text text-anchor=\"middle\" x=\"1360.5\" y=\"-535.3\" font-family=\"Helvetica,sans-Serif\" font-size=\"14.00\" fill=\"#000000\">samples = 4</text>\n<text text-anchor=\"middle\" x=\"1360.5\" y=\"-520.3\" font-family=\"Helvetica,sans-Serif\" font-size=\"14.00\" fill=\"#000000\">value = [4, 0]</text>\n</g>\n<!-- 42&#45;&gt;43 -->\n<g id=\"edge43\" class=\"edge\">\n<title>42&#45;&gt;43</title>\n<path fill=\"none\" stroke=\"#000000\" d=\"M1437.1721,-608.9465C1424.3737,-597.2707 1410.067,-584.219 1397.3099,-572.5809\"/>\n<polygon fill=\"#000000\" stroke=\"#000000\" points=\"1399.3409,-569.6961 1389.5943,-565.5422 1394.6231,-574.8675 1399.3409,-569.6961\"/>\n</g>\n<!-- 44 -->\n<g id=\"node45\" class=\"node\">\n<title>44</title>\n<polygon fill=\"none\" stroke=\"#000000\" points=\"1530,-565.5 1429,-565.5 1429,-512.5 1530,-512.5 1530,-565.5\"/>\n<text text-anchor=\"middle\" x=\"1479.5\" y=\"-550.3\" font-family=\"Helvetica,sans-Serif\" font-size=\"14.00\" fill=\"#000000\">entropy = 0.0</text>\n<text text-anchor=\"middle\" x=\"1479.5\" y=\"-535.3\" font-family=\"Helvetica,sans-Serif\" font-size=\"14.00\" fill=\"#000000\">samples = 6</text>\n<text text-anchor=\"middle\" x=\"1479.5\" y=\"-520.3\" font-family=\"Helvetica,sans-Serif\" font-size=\"14.00\" fill=\"#000000\">value = [0, 6]</text>\n</g>\n<!-- 42&#45;&gt;44 -->\n<g id=\"edge44\" class=\"edge\">\n<title>42&#45;&gt;44</title>\n<path fill=\"none\" stroke=\"#000000\" d=\"M1476.1372,-608.9465C1476.6509,-598.2621 1477.2199,-586.4254 1477.7416,-575.5742\"/>\n<polygon fill=\"#000000\" stroke=\"#000000\" points=\"1481.2396,-575.6987 1478.2239,-565.5422 1474.2477,-575.3625 1481.2396,-575.6987\"/>\n</g>\n<!-- 46 -->\n<g id=\"node47\" class=\"node\">\n<title>46</title>\n<polygon fill=\"none\" stroke=\"#000000\" points=\"1683,-781 1554,-781 1554,-713 1683,-713 1683,-781\"/>\n<text text-anchor=\"middle\" x=\"1618.5\" y=\"-765.8\" font-family=\"Helvetica,sans-Serif\" font-size=\"14.00\" fill=\"#000000\">trestbps &lt;= 2.879</text>\n<text text-anchor=\"middle\" x=\"1618.5\" y=\"-750.8\" font-family=\"Helvetica,sans-Serif\" font-size=\"14.00\" fill=\"#000000\">entropy = 0.249</text>\n<text text-anchor=\"middle\" x=\"1618.5\" y=\"-735.8\" font-family=\"Helvetica,sans-Serif\" font-size=\"14.00\" fill=\"#000000\">samples = 193</text>\n<text text-anchor=\"middle\" x=\"1618.5\" y=\"-720.8\" font-family=\"Helvetica,sans-Serif\" font-size=\"14.00\" fill=\"#000000\">value = [8, 185]</text>\n</g>\n<!-- 45&#45;&gt;46 -->\n<g id=\"edge46\" class=\"edge\">\n<title>45&#45;&gt;46</title>\n<path fill=\"none\" stroke=\"#000000\" d=\"M1619.8451,-816.9465C1619.688,-808.776 1619.5179,-799.9318 1619.3533,-791.3697\"/>\n<polygon fill=\"#000000\" stroke=\"#000000\" points=\"1622.8481,-791.0608 1619.1563,-781.13 1615.8494,-791.1955 1622.8481,-791.0608\"/>\n</g>\n<!-- 61 -->\n<g id=\"node62\" class=\"node\">\n<title>61</title>\n<polygon fill=\"none\" stroke=\"#000000\" points=\"1802,-773.5 1701,-773.5 1701,-720.5 1802,-720.5 1802,-773.5\"/>\n<text text-anchor=\"middle\" x=\"1751.5\" y=\"-758.3\" font-family=\"Helvetica,sans-Serif\" font-size=\"14.00\" fill=\"#000000\">entropy = 0.0</text>\n<text text-anchor=\"middle\" x=\"1751.5\" y=\"-743.3\" font-family=\"Helvetica,sans-Serif\" font-size=\"14.00\" fill=\"#000000\">samples = 3</text>\n<text text-anchor=\"middle\" x=\"1751.5\" y=\"-728.3\" font-family=\"Helvetica,sans-Serif\" font-size=\"14.00\" fill=\"#000000\">value = [3, 0]</text>\n</g>\n<!-- 45&#45;&gt;61 -->\n<g id=\"edge61\" class=\"edge\">\n<title>45&#45;&gt;61</title>\n<path fill=\"none\" stroke=\"#000000\" d=\"M1663.3943,-816.9465C1678.3788,-805.0504 1695.1624,-791.726 1710.0288,-779.9237\"/>\n<polygon fill=\"#000000\" stroke=\"#000000\" points=\"1712.4113,-782.5011 1718.0671,-773.5422 1708.0589,-777.0187 1712.4113,-782.5011\"/>\n</g>\n<!-- 47 -->\n<g id=\"node48\" class=\"node\">\n<title>47</title>\n<polygon fill=\"none\" stroke=\"#000000\" points=\"1677,-677 1552,-677 1552,-609 1677,-609 1677,-677\"/>\n<text text-anchor=\"middle\" x=\"1614.5\" y=\"-661.8\" font-family=\"Helvetica,sans-Serif\" font-size=\"14.00\" fill=\"#000000\">thalach &lt;= 0.819</text>\n<text text-anchor=\"middle\" x=\"1614.5\" y=\"-646.8\" font-family=\"Helvetica,sans-Serif\" font-size=\"14.00\" fill=\"#000000\">entropy = 0.201</text>\n<text text-anchor=\"middle\" x=\"1614.5\" y=\"-631.8\" font-family=\"Helvetica,sans-Serif\" font-size=\"14.00\" fill=\"#000000\">samples = 191</text>\n<text text-anchor=\"middle\" x=\"1614.5\" y=\"-616.8\" font-family=\"Helvetica,sans-Serif\" font-size=\"14.00\" fill=\"#000000\">value = [6, 185]</text>\n</g>\n<!-- 46&#45;&gt;47 -->\n<g id=\"edge47\" class=\"edge\">\n<title>46&#45;&gt;47</title>\n<path fill=\"none\" stroke=\"#000000\" d=\"M1617.1903,-712.9465C1616.876,-704.776 1616.5358,-695.9318 1616.2065,-687.3697\"/>\n<polygon fill=\"#000000\" stroke=\"#000000\" points=\"1619.6945,-686.9881 1615.8127,-677.13 1612.6997,-687.2572 1619.6945,-686.9881\"/>\n</g>\n<!-- 60 -->\n<g id=\"node61\" class=\"node\">\n<title>60</title>\n<polygon fill=\"none\" stroke=\"#000000\" points=\"1796,-669.5 1695,-669.5 1695,-616.5 1796,-616.5 1796,-669.5\"/>\n<text text-anchor=\"middle\" x=\"1745.5\" y=\"-654.3\" font-family=\"Helvetica,sans-Serif\" font-size=\"14.00\" fill=\"#000000\">entropy = 0.0</text>\n<text text-anchor=\"middle\" x=\"1745.5\" y=\"-639.3\" font-family=\"Helvetica,sans-Serif\" font-size=\"14.00\" fill=\"#000000\">samples = 2</text>\n<text text-anchor=\"middle\" x=\"1745.5\" y=\"-624.3\" font-family=\"Helvetica,sans-Serif\" font-size=\"14.00\" fill=\"#000000\">value = [2, 0]</text>\n</g>\n<!-- 46&#45;&gt;60 -->\n<g id=\"edge60\" class=\"edge\">\n<title>46&#45;&gt;60</title>\n<path fill=\"none\" stroke=\"#000000\" d=\"M1660.0845,-712.9465C1674.6115,-701.0504 1690.8827,-687.726 1705.2951,-675.9237\"/>\n<polygon fill=\"#000000\" stroke=\"#000000\" points=\"1707.5686,-678.5858 1713.0879,-669.5422 1703.1335,-673.17 1707.5686,-678.5858\"/>\n</g>\n<!-- 48 -->\n<g id=\"node49\" class=\"node\">\n<title>48</title>\n<polygon fill=\"none\" stroke=\"#000000\" points=\"1670.5,-573 1552.5,-573 1552.5,-505 1670.5,-505 1670.5,-573\"/>\n<text text-anchor=\"middle\" x=\"1611.5\" y=\"-557.8\" font-family=\"Helvetica,sans-Serif\" font-size=\"14.00\" fill=\"#000000\">age &lt;= &#45;0.415</text>\n<text text-anchor=\"middle\" x=\"1611.5\" y=\"-542.8\" font-family=\"Helvetica,sans-Serif\" font-size=\"14.00\" fill=\"#000000\">entropy = 0.359</text>\n<text text-anchor=\"middle\" x=\"1611.5\" y=\"-527.8\" font-family=\"Helvetica,sans-Serif\" font-size=\"14.00\" fill=\"#000000\">samples = 88</text>\n<text text-anchor=\"middle\" x=\"1611.5\" y=\"-512.8\" font-family=\"Helvetica,sans-Serif\" font-size=\"14.00\" fill=\"#000000\">value = [6, 82]</text>\n</g>\n<!-- 47&#45;&gt;48 -->\n<g id=\"edge48\" class=\"edge\">\n<title>47&#45;&gt;48</title>\n<path fill=\"none\" stroke=\"#000000\" d=\"M1613.5177,-608.9465C1613.282,-600.776 1613.0269,-591.9318 1612.7799,-583.3697\"/>\n<polygon fill=\"#000000\" stroke=\"#000000\" points=\"1616.2715,-583.0249 1612.4845,-573.13 1609.2744,-583.2268 1616.2715,-583.0249\"/>\n</g>\n<!-- 59 -->\n<g id=\"node60\" class=\"node\">\n<title>59</title>\n<polygon fill=\"none\" stroke=\"#000000\" points=\"1804.5,-565.5 1688.5,-565.5 1688.5,-512.5 1804.5,-512.5 1804.5,-565.5\"/>\n<text text-anchor=\"middle\" x=\"1746.5\" y=\"-550.3\" font-family=\"Helvetica,sans-Serif\" font-size=\"14.00\" fill=\"#000000\">entropy = 0.0</text>\n<text text-anchor=\"middle\" x=\"1746.5\" y=\"-535.3\" font-family=\"Helvetica,sans-Serif\" font-size=\"14.00\" fill=\"#000000\">samples = 103</text>\n<text text-anchor=\"middle\" x=\"1746.5\" y=\"-520.3\" font-family=\"Helvetica,sans-Serif\" font-size=\"14.00\" fill=\"#000000\">value = [0, 103]</text>\n</g>\n<!-- 47&#45;&gt;59 -->\n<g id=\"edge59\" class=\"edge\">\n<title>47&#45;&gt;59</title>\n<path fill=\"none\" stroke=\"#000000\" d=\"M1657.7217,-608.9465C1672.8206,-597.0504 1689.7324,-583.726 1704.7122,-571.9237\"/>\n<polygon fill=\"#000000\" stroke=\"#000000\" points=\"1707.123,-574.4802 1712.8119,-565.5422 1702.7909,-568.9817 1707.123,-574.4802\"/>\n</g>\n<!-- 49 -->\n<g id=\"node50\" class=\"node\">\n<title>49</title>\n<polygon fill=\"none\" stroke=\"#000000\" points=\"1647.5,-469 1537.5,-469 1537.5,-401 1647.5,-401 1647.5,-469\"/>\n<text text-anchor=\"middle\" x=\"1592.5\" y=\"-453.8\" font-family=\"Helvetica,sans-Serif\" font-size=\"14.00\" fill=\"#000000\">age &lt;= &#45;0.854</text>\n<text text-anchor=\"middle\" x=\"1592.5\" y=\"-438.8\" font-family=\"Helvetica,sans-Serif\" font-size=\"14.00\" fill=\"#000000\">entropy = 0.61</text>\n<text text-anchor=\"middle\" x=\"1592.5\" y=\"-423.8\" font-family=\"Helvetica,sans-Serif\" font-size=\"14.00\" fill=\"#000000\">samples = 40</text>\n<text text-anchor=\"middle\" x=\"1592.5\" y=\"-408.8\" font-family=\"Helvetica,sans-Serif\" font-size=\"14.00\" fill=\"#000000\">value = [6, 34]</text>\n</g>\n<!-- 48&#45;&gt;49 -->\n<g id=\"edge49\" class=\"edge\">\n<title>48&#45;&gt;49</title>\n<path fill=\"none\" stroke=\"#000000\" d=\"M1605.2787,-504.9465C1603.7696,-496.6863 1602.1347,-487.7374 1600.5545,-479.0875\"/>\n<polygon fill=\"#000000\" stroke=\"#000000\" points=\"1603.9756,-478.3381 1598.7353,-469.13 1597.0895,-479.5962 1603.9756,-478.3381\"/>\n</g>\n<!-- 58 -->\n<g id=\"node59\" class=\"node\">\n<title>58</title>\n<polygon fill=\"none\" stroke=\"#000000\" points=\"1773,-461.5 1666,-461.5 1666,-408.5 1773,-408.5 1773,-461.5\"/>\n<text text-anchor=\"middle\" x=\"1719.5\" y=\"-446.3\" font-family=\"Helvetica,sans-Serif\" font-size=\"14.00\" fill=\"#000000\">entropy = 0.0</text>\n<text text-anchor=\"middle\" x=\"1719.5\" y=\"-431.3\" font-family=\"Helvetica,sans-Serif\" font-size=\"14.00\" fill=\"#000000\">samples = 48</text>\n<text text-anchor=\"middle\" x=\"1719.5\" y=\"-416.3\" font-family=\"Helvetica,sans-Serif\" font-size=\"14.00\" fill=\"#000000\">value = [0, 48]</text>\n</g>\n<!-- 48&#45;&gt;58 -->\n<g id=\"edge58\" class=\"edge\">\n<title>48&#45;&gt;58</title>\n<path fill=\"none\" stroke=\"#000000\" d=\"M1646.8632,-504.9465C1658.9881,-493.2707 1672.5418,-480.219 1684.6275,-468.5809\"/>\n<polygon fill=\"#000000\" stroke=\"#000000\" points=\"1687.1615,-470.9997 1691.937,-461.5422 1682.306,-465.9575 1687.1615,-470.9997\"/>\n</g>\n<!-- 50 -->\n<g id=\"node51\" class=\"node\">\n<title>50</title>\n<polygon fill=\"none\" stroke=\"#000000\" points=\"1561,-357.5 1454,-357.5 1454,-304.5 1561,-304.5 1561,-357.5\"/>\n<text text-anchor=\"middle\" x=\"1507.5\" y=\"-342.3\" font-family=\"Helvetica,sans-Serif\" font-size=\"14.00\" fill=\"#000000\">entropy = 0.0</text>\n<text text-anchor=\"middle\" x=\"1507.5\" y=\"-327.3\" font-family=\"Helvetica,sans-Serif\" font-size=\"14.00\" fill=\"#000000\">samples = 27</text>\n<text text-anchor=\"middle\" x=\"1507.5\" y=\"-312.3\" font-family=\"Helvetica,sans-Serif\" font-size=\"14.00\" fill=\"#000000\">value = [0, 27]</text>\n</g>\n<!-- 49&#45;&gt;50 -->\n<g id=\"edge50\" class=\"edge\">\n<title>49&#45;&gt;50</title>\n<path fill=\"none\" stroke=\"#000000\" d=\"M1564.6678,-400.9465C1555.3952,-389.6012 1545.0608,-376.9567 1535.7563,-365.5724\"/>\n<polygon fill=\"#000000\" stroke=\"#000000\" points=\"1538.2315,-363.0701 1529.1931,-357.5422 1532.8115,-367.5 1538.2315,-363.0701\"/>\n</g>\n<!-- 51 -->\n<g id=\"node52\" class=\"node\">\n<title>51</title>\n<polygon fill=\"none\" stroke=\"#000000\" points=\"1697.5,-365 1579.5,-365 1579.5,-297 1697.5,-297 1697.5,-365\"/>\n<text text-anchor=\"middle\" x=\"1638.5\" y=\"-349.8\" font-family=\"Helvetica,sans-Serif\" font-size=\"14.00\" fill=\"#000000\">sex &lt;= &#45;0.485</text>\n<text text-anchor=\"middle\" x=\"1638.5\" y=\"-334.8\" font-family=\"Helvetica,sans-Serif\" font-size=\"14.00\" fill=\"#000000\">entropy = 0.996</text>\n<text text-anchor=\"middle\" x=\"1638.5\" y=\"-319.8\" font-family=\"Helvetica,sans-Serif\" font-size=\"14.00\" fill=\"#000000\">samples = 13</text>\n<text text-anchor=\"middle\" x=\"1638.5\" y=\"-304.8\" font-family=\"Helvetica,sans-Serif\" font-size=\"14.00\" fill=\"#000000\">value = [6, 7]</text>\n</g>\n<!-- 49&#45;&gt;51 -->\n<g id=\"edge51\" class=\"edge\">\n<title>49&#45;&gt;51</title>\n<path fill=\"none\" stroke=\"#000000\" d=\"M1607.5621,-400.9465C1611.2951,-392.5067 1615.3461,-383.3479 1619.2491,-374.5239\"/>\n<polygon fill=\"#000000\" stroke=\"#000000\" points=\"1622.5598,-375.6911 1623.404,-365.13 1616.158,-372.8596 1622.5598,-375.6911\"/>\n</g>\n<!-- 52 -->\n<g id=\"node53\" class=\"node\">\n<title>52</title>\n<polygon fill=\"none\" stroke=\"#000000\" points=\"1679,-253.5 1578,-253.5 1578,-200.5 1679,-200.5 1679,-253.5\"/>\n<text text-anchor=\"middle\" x=\"1628.5\" y=\"-238.3\" font-family=\"Helvetica,sans-Serif\" font-size=\"14.00\" fill=\"#000000\">entropy = 0.0</text>\n<text text-anchor=\"middle\" x=\"1628.5\" y=\"-223.3\" font-family=\"Helvetica,sans-Serif\" font-size=\"14.00\" fill=\"#000000\">samples = 5</text>\n<text text-anchor=\"middle\" x=\"1628.5\" y=\"-208.3\" font-family=\"Helvetica,sans-Serif\" font-size=\"14.00\" fill=\"#000000\">value = [0, 5]</text>\n</g>\n<!-- 51&#45;&gt;52 -->\n<g id=\"edge52\" class=\"edge\">\n<title>51&#45;&gt;52</title>\n<path fill=\"none\" stroke=\"#000000\" d=\"M1635.2256,-296.9465C1634.1983,-286.2621 1633.0601,-274.4254 1632.0168,-263.5742\"/>\n<polygon fill=\"#000000\" stroke=\"#000000\" points=\"1635.4933,-263.1612 1631.0521,-253.5422 1628.5254,-263.8313 1635.4933,-263.1612\"/>\n</g>\n<!-- 53 -->\n<g id=\"node54\" class=\"node\">\n<title>53</title>\n<polygon fill=\"none\" stroke=\"#000000\" points=\"1831.5,-261 1697.5,-261 1697.5,-193 1831.5,-193 1831.5,-261\"/>\n<text text-anchor=\"middle\" x=\"1764.5\" y=\"-245.8\" font-family=\"Helvetica,sans-Serif\" font-size=\"14.00\" fill=\"#000000\">trestbps &lt;= &#45;0.676</text>\n<text text-anchor=\"middle\" x=\"1764.5\" y=\"-230.8\" font-family=\"Helvetica,sans-Serif\" font-size=\"14.00\" fill=\"#000000\">entropy = 0.811</text>\n<text text-anchor=\"middle\" x=\"1764.5\" y=\"-215.8\" font-family=\"Helvetica,sans-Serif\" font-size=\"14.00\" fill=\"#000000\">samples = 8</text>\n<text text-anchor=\"middle\" x=\"1764.5\" y=\"-200.8\" font-family=\"Helvetica,sans-Serif\" font-size=\"14.00\" fill=\"#000000\">value = [6, 2]</text>\n</g>\n<!-- 51&#45;&gt;53 -->\n<g id=\"edge53\" class=\"edge\">\n<title>51&#45;&gt;53</title>\n<path fill=\"none\" stroke=\"#000000\" d=\"M1679.7571,-296.9465C1691.0701,-287.6088 1703.4492,-277.3911 1715.1658,-267.7203\"/>\n<polygon fill=\"#000000\" stroke=\"#000000\" points=\"1717.6659,-270.195 1723.1502,-261.13 1713.21,-264.7964 1717.6659,-270.195\"/>\n</g>\n<!-- 54 -->\n<g id=\"node55\" class=\"node\">\n<title>54</title>\n<polygon fill=\"none\" stroke=\"#000000\" points=\"1711,-149.5 1610,-149.5 1610,-96.5 1711,-96.5 1711,-149.5\"/>\n<text text-anchor=\"middle\" x=\"1660.5\" y=\"-134.3\" font-family=\"Helvetica,sans-Serif\" font-size=\"14.00\" fill=\"#000000\">entropy = 0.0</text>\n<text text-anchor=\"middle\" x=\"1660.5\" y=\"-119.3\" font-family=\"Helvetica,sans-Serif\" font-size=\"14.00\" fill=\"#000000\">samples = 4</text>\n<text text-anchor=\"middle\" x=\"1660.5\" y=\"-104.3\" font-family=\"Helvetica,sans-Serif\" font-size=\"14.00\" fill=\"#000000\">value = [4, 0]</text>\n</g>\n<!-- 53&#45;&gt;54 -->\n<g id=\"edge54\" class=\"edge\">\n<title>53&#45;&gt;54</title>\n<path fill=\"none\" stroke=\"#000000\" d=\"M1730.4465,-192.9465C1718.8809,-181.3809 1705.9652,-168.4652 1694.4107,-156.9107\"/>\n<polygon fill=\"#000000\" stroke=\"#000000\" points=\"1696.5881,-154.1384 1687.0422,-149.5422 1691.6384,-159.0881 1696.5881,-154.1384\"/>\n</g>\n<!-- 55 -->\n<g id=\"node56\" class=\"node\">\n<title>55</title>\n<polygon fill=\"none\" stroke=\"#000000\" points=\"1858,-157 1729,-157 1729,-89 1858,-89 1858,-157\"/>\n<text text-anchor=\"middle\" x=\"1793.5\" y=\"-141.8\" font-family=\"Helvetica,sans-Serif\" font-size=\"14.00\" fill=\"#000000\">trestbps &lt;= 0.433</text>\n<text text-anchor=\"middle\" x=\"1793.5\" y=\"-126.8\" font-family=\"Helvetica,sans-Serif\" font-size=\"14.00\" fill=\"#000000\">entropy = 1.0</text>\n<text text-anchor=\"middle\" x=\"1793.5\" y=\"-111.8\" font-family=\"Helvetica,sans-Serif\" font-size=\"14.00\" fill=\"#000000\">samples = 4</text>\n<text text-anchor=\"middle\" x=\"1793.5\" y=\"-96.8\" font-family=\"Helvetica,sans-Serif\" font-size=\"14.00\" fill=\"#000000\">value = [2, 2]</text>\n</g>\n<!-- 53&#45;&gt;55 -->\n<g id=\"edge55\" class=\"edge\">\n<title>53&#45;&gt;55</title>\n<path fill=\"none\" stroke=\"#000000\" d=\"M1773.9957,-192.9465C1776.3241,-184.5965 1778.8487,-175.5427 1781.285,-166.8056\"/>\n<polygon fill=\"#000000\" stroke=\"#000000\" points=\"1784.6683,-167.7026 1783.983,-157.13 1777.9255,-165.8224 1784.6683,-167.7026\"/>\n</g>\n<!-- 56 -->\n<g id=\"node57\" class=\"node\">\n<title>56</title>\n<polygon fill=\"none\" stroke=\"#000000\" points=\"1785,-53 1684,-53 1684,0 1785,0 1785,-53\"/>\n<text text-anchor=\"middle\" x=\"1734.5\" y=\"-37.8\" font-family=\"Helvetica,sans-Serif\" font-size=\"14.00\" fill=\"#000000\">entropy = 0.0</text>\n<text text-anchor=\"middle\" x=\"1734.5\" y=\"-22.8\" font-family=\"Helvetica,sans-Serif\" font-size=\"14.00\" fill=\"#000000\">samples = 2</text>\n<text text-anchor=\"middle\" x=\"1734.5\" y=\"-7.8\" font-family=\"Helvetica,sans-Serif\" font-size=\"14.00\" fill=\"#000000\">value = [0, 2]</text>\n</g>\n<!-- 55&#45;&gt;56 -->\n<g id=\"edge56\" class=\"edge\">\n<title>55&#45;&gt;56</title>\n<path fill=\"none\" stroke=\"#000000\" d=\"M1772.6988,-88.9777C1767.3242,-80.187 1761.5265,-70.7044 1756.1115,-61.8477\"/>\n<polygon fill=\"#000000\" stroke=\"#000000\" points=\"1759.0564,-59.9545 1750.854,-53.2485 1753.0842,-63.6059 1759.0564,-59.9545\"/>\n</g>\n<!-- 57 -->\n<g id=\"node58\" class=\"node\">\n<title>57</title>\n<polygon fill=\"none\" stroke=\"#000000\" points=\"1904,-53 1803,-53 1803,0 1904,0 1904,-53\"/>\n<text text-anchor=\"middle\" x=\"1853.5\" y=\"-37.8\" font-family=\"Helvetica,sans-Serif\" font-size=\"14.00\" fill=\"#000000\">entropy = 0.0</text>\n<text text-anchor=\"middle\" x=\"1853.5\" y=\"-22.8\" font-family=\"Helvetica,sans-Serif\" font-size=\"14.00\" fill=\"#000000\">samples = 2</text>\n<text text-anchor=\"middle\" x=\"1853.5\" y=\"-7.8\" font-family=\"Helvetica,sans-Serif\" font-size=\"14.00\" fill=\"#000000\">value = [2, 0]</text>\n</g>\n<!-- 55&#45;&gt;57 -->\n<g id=\"edge57\" class=\"edge\">\n<title>55&#45;&gt;57</title>\n<path fill=\"none\" stroke=\"#000000\" d=\"M1814.6538,-88.9777C1820.1195,-80.187 1826.0154,-70.7044 1831.5222,-61.8477\"/>\n<polygon fill=\"#000000\" stroke=\"#000000\" points=\"1834.5609,-63.5889 1836.8688,-53.2485 1828.6163,-59.8927 1834.5609,-63.5889\"/>\n</g>\n<!-- 63 -->\n<g id=\"node64\" class=\"node\">\n<title>63</title>\n<polygon fill=\"none\" stroke=\"#000000\" points=\"2025.5,-885 1907.5,-885 1907.5,-817 2025.5,-817 2025.5,-885\"/>\n<text text-anchor=\"middle\" x=\"1966.5\" y=\"-869.8\" font-family=\"Helvetica,sans-Serif\" font-size=\"14.00\" fill=\"#000000\">age &lt;= 0.902</text>\n<text text-anchor=\"middle\" x=\"1966.5\" y=\"-854.8\" font-family=\"Helvetica,sans-Serif\" font-size=\"14.00\" fill=\"#000000\">entropy = 0.592</text>\n<text text-anchor=\"middle\" x=\"1966.5\" y=\"-839.8\" font-family=\"Helvetica,sans-Serif\" font-size=\"14.00\" fill=\"#000000\">samples = 49</text>\n<text text-anchor=\"middle\" x=\"1966.5\" y=\"-824.8\" font-family=\"Helvetica,sans-Serif\" font-size=\"14.00\" fill=\"#000000\">value = [7, 42]</text>\n</g>\n<!-- 62&#45;&gt;63 -->\n<g id=\"edge63\" class=\"edge\">\n<title>62&#45;&gt;63</title>\n<path fill=\"none\" stroke=\"#000000\" d=\"M1966.5,-920.9465C1966.5,-912.776 1966.5,-903.9318 1966.5,-895.3697\"/>\n<polygon fill=\"#000000\" stroke=\"#000000\" points=\"1970.0001,-895.13 1966.5,-885.13 1963.0001,-895.13 1970.0001,-895.13\"/>\n</g>\n<!-- 70 -->\n<g id=\"node71\" class=\"node\">\n<title>70</title>\n<polygon fill=\"none\" stroke=\"#000000\" points=\"2265.5,-885 2147.5,-885 2147.5,-817 2265.5,-817 2265.5,-885\"/>\n<text text-anchor=\"middle\" x=\"2206.5\" y=\"-869.8\" font-family=\"Helvetica,sans-Serif\" font-size=\"14.00\" fill=\"#000000\">chol &lt;= 0.05</text>\n<text text-anchor=\"middle\" x=\"2206.5\" y=\"-854.8\" font-family=\"Helvetica,sans-Serif\" font-size=\"14.00\" fill=\"#000000\">entropy = 0.985</text>\n<text text-anchor=\"middle\" x=\"2206.5\" y=\"-839.8\" font-family=\"Helvetica,sans-Serif\" font-size=\"14.00\" fill=\"#000000\">samples = 89</text>\n<text text-anchor=\"middle\" x=\"2206.5\" y=\"-824.8\" font-family=\"Helvetica,sans-Serif\" font-size=\"14.00\" fill=\"#000000\">value = [51, 38]</text>\n</g>\n<!-- 62&#45;&gt;70 -->\n<g id=\"edge70\" class=\"edge\">\n<title>62&#45;&gt;70</title>\n<path fill=\"none\" stroke=\"#000000\" d=\"M2025.518,-929.4255C2059.5357,-914.6845 2102.4582,-896.0848 2137.9645,-880.6987\"/>\n<polygon fill=\"#000000\" stroke=\"#000000\" points=\"2139.5099,-883.8436 2147.2939,-876.656 2136.7266,-877.4207 2139.5099,-883.8436\"/>\n</g>\n<!-- 64 -->\n<g id=\"node65\" class=\"node\">\n<title>64</title>\n<polygon fill=\"none\" stroke=\"#000000\" points=\"1960.5,-781 1842.5,-781 1842.5,-713 1960.5,-713 1960.5,-781\"/>\n<text text-anchor=\"middle\" x=\"1901.5\" y=\"-765.8\" font-family=\"Helvetica,sans-Serif\" font-size=\"14.00\" fill=\"#000000\">slope &lt;= 0.168</text>\n<text text-anchor=\"middle\" x=\"1901.5\" y=\"-750.8\" font-family=\"Helvetica,sans-Serif\" font-size=\"14.00\" fill=\"#000000\">entropy = 0.989</text>\n<text text-anchor=\"middle\" x=\"1901.5\" y=\"-735.8\" font-family=\"Helvetica,sans-Serif\" font-size=\"14.00\" fill=\"#000000\">samples = 16</text>\n<text text-anchor=\"middle\" x=\"1901.5\" y=\"-720.8\" font-family=\"Helvetica,sans-Serif\" font-size=\"14.00\" fill=\"#000000\">value = [7, 9]</text>\n</g>\n<!-- 63&#45;&gt;64 -->\n<g id=\"edge64\" class=\"edge\">\n<title>63&#45;&gt;64</title>\n<path fill=\"none\" stroke=\"#000000\" d=\"M1945.2166,-816.9465C1939.7733,-808.2373 1933.8516,-798.7626 1928.175,-789.6801\"/>\n<polygon fill=\"#000000\" stroke=\"#000000\" points=\"1931.0993,-787.755 1922.8312,-781.13 1925.1633,-791.465 1931.0993,-787.755\"/>\n</g>\n<!-- 69 -->\n<g id=\"node70\" class=\"node\">\n<title>69</title>\n<polygon fill=\"none\" stroke=\"#000000\" points=\"2086,-773.5 1979,-773.5 1979,-720.5 2086,-720.5 2086,-773.5\"/>\n<text text-anchor=\"middle\" x=\"2032.5\" y=\"-758.3\" font-family=\"Helvetica,sans-Serif\" font-size=\"14.00\" fill=\"#000000\">entropy = 0.0</text>\n<text text-anchor=\"middle\" x=\"2032.5\" y=\"-743.3\" font-family=\"Helvetica,sans-Serif\" font-size=\"14.00\" fill=\"#000000\">samples = 33</text>\n<text text-anchor=\"middle\" x=\"2032.5\" y=\"-728.3\" font-family=\"Helvetica,sans-Serif\" font-size=\"14.00\" fill=\"#000000\">value = [0, 33]</text>\n</g>\n<!-- 63&#45;&gt;69 -->\n<g id=\"edge69\" class=\"edge\">\n<title>63&#45;&gt;69</title>\n<path fill=\"none\" stroke=\"#000000\" d=\"M1988.1109,-816.9465C1995.171,-805.8215 2003.0239,-793.4473 2010.1381,-782.237\"/>\n<polygon fill=\"#000000\" stroke=\"#000000\" points=\"2013.2528,-783.8609 2015.6559,-773.5422 2007.3425,-780.1101 2013.2528,-783.8609\"/>\n</g>\n<!-- 65 -->\n<g id=\"node66\" class=\"node\">\n<title>65</title>\n<polygon fill=\"none\" stroke=\"#000000\" points=\"1915,-669.5 1814,-669.5 1814,-616.5 1915,-616.5 1915,-669.5\"/>\n<text text-anchor=\"middle\" x=\"1864.5\" y=\"-654.3\" font-family=\"Helvetica,sans-Serif\" font-size=\"14.00\" fill=\"#000000\">entropy = 0.0</text>\n<text text-anchor=\"middle\" x=\"1864.5\" y=\"-639.3\" font-family=\"Helvetica,sans-Serif\" font-size=\"14.00\" fill=\"#000000\">samples = 6</text>\n<text text-anchor=\"middle\" x=\"1864.5\" y=\"-624.3\" font-family=\"Helvetica,sans-Serif\" font-size=\"14.00\" fill=\"#000000\">value = [6, 0]</text>\n</g>\n<!-- 64&#45;&gt;65 -->\n<g id=\"edge65\" class=\"edge\">\n<title>64&#45;&gt;65</title>\n<path fill=\"none\" stroke=\"#000000\" d=\"M1889.3848,-712.9465C1885.5444,-702.1519 1881.2856,-690.1813 1877.3927,-679.2389\"/>\n<polygon fill=\"#000000\" stroke=\"#000000\" points=\"1880.5924,-677.7905 1873.9429,-669.5422 1873.9973,-680.1369 1880.5924,-677.7905\"/>\n</g>\n<!-- 66 -->\n<g id=\"node67\" class=\"node\">\n<title>66</title>\n<polygon fill=\"none\" stroke=\"#000000\" points=\"2051.5,-677 1933.5,-677 1933.5,-609 2051.5,-609 2051.5,-677\"/>\n<text text-anchor=\"middle\" x=\"1992.5\" y=\"-661.8\" font-family=\"Helvetica,sans-Serif\" font-size=\"14.00\" fill=\"#000000\">ca &lt;= 0.694</text>\n<text text-anchor=\"middle\" x=\"1992.5\" y=\"-646.8\" font-family=\"Helvetica,sans-Serif\" font-size=\"14.00\" fill=\"#000000\">entropy = 0.469</text>\n<text text-anchor=\"middle\" x=\"1992.5\" y=\"-631.8\" font-family=\"Helvetica,sans-Serif\" font-size=\"14.00\" fill=\"#000000\">samples = 10</text>\n<text text-anchor=\"middle\" x=\"1992.5\" y=\"-616.8\" font-family=\"Helvetica,sans-Serif\" font-size=\"14.00\" fill=\"#000000\">value = [1, 9]</text>\n</g>\n<!-- 64&#45;&gt;66 -->\n<g id=\"edge66\" class=\"edge\">\n<title>64&#45;&gt;66</title>\n<path fill=\"none\" stroke=\"#000000\" d=\"M1931.2968,-712.9465C1939.153,-703.968 1947.7212,-694.1758 1955.8913,-684.8385\"/>\n<polygon fill=\"#000000\" stroke=\"#000000\" points=\"1958.6852,-686.9606 1962.6363,-677.13 1953.4171,-682.351 1958.6852,-686.9606\"/>\n</g>\n<!-- 67 -->\n<g id=\"node68\" class=\"node\">\n<title>67</title>\n<polygon fill=\"none\" stroke=\"#000000\" points=\"1926,-565.5 1825,-565.5 1825,-512.5 1926,-512.5 1926,-565.5\"/>\n<text text-anchor=\"middle\" x=\"1875.5\" y=\"-550.3\" font-family=\"Helvetica,sans-Serif\" font-size=\"14.00\" fill=\"#000000\">entropy = 0.0</text>\n<text text-anchor=\"middle\" x=\"1875.5\" y=\"-535.3\" font-family=\"Helvetica,sans-Serif\" font-size=\"14.00\" fill=\"#000000\">samples = 9</text>\n<text text-anchor=\"middle\" x=\"1875.5\" y=\"-520.3\" font-family=\"Helvetica,sans-Serif\" font-size=\"14.00\" fill=\"#000000\">value = [0, 9]</text>\n</g>\n<!-- 66&#45;&gt;67 -->\n<g id=\"edge67\" class=\"edge\">\n<title>66&#45;&gt;67</title>\n<path fill=\"none\" stroke=\"#000000\" d=\"M1954.1898,-608.9465C1940.9306,-597.1606 1926.0942,-583.9726 1912.9084,-572.2519\"/>\n<polygon fill=\"#000000\" stroke=\"#000000\" points=\"1915.1593,-569.5699 1905.3599,-565.5422 1910.5088,-574.8018 1915.1593,-569.5699\"/>\n</g>\n<!-- 68 -->\n<g id=\"node69\" class=\"node\">\n<title>68</title>\n<polygon fill=\"none\" stroke=\"#000000\" points=\"2045,-565.5 1944,-565.5 1944,-512.5 2045,-512.5 2045,-565.5\"/>\n<text text-anchor=\"middle\" x=\"1994.5\" y=\"-550.3\" font-family=\"Helvetica,sans-Serif\" font-size=\"14.00\" fill=\"#000000\">entropy = 0.0</text>\n<text text-anchor=\"middle\" x=\"1994.5\" y=\"-535.3\" font-family=\"Helvetica,sans-Serif\" font-size=\"14.00\" fill=\"#000000\">samples = 1</text>\n<text text-anchor=\"middle\" x=\"1994.5\" y=\"-520.3\" font-family=\"Helvetica,sans-Serif\" font-size=\"14.00\" fill=\"#000000\">value = [1, 0]</text>\n</g>\n<!-- 66&#45;&gt;68 -->\n<g id=\"edge68\" class=\"edge\">\n<title>66&#45;&gt;68</title>\n<path fill=\"none\" stroke=\"#000000\" d=\"M1993.1549,-608.9465C1993.3603,-598.2621 1993.588,-586.4254 1993.7966,-575.5742\"/>\n<polygon fill=\"#000000\" stroke=\"#000000\" points=\"1997.2966,-575.6076 1993.9896,-565.5422 1990.2979,-575.473 1997.2966,-575.6076\"/>\n</g>\n<!-- 71 -->\n<g id=\"node72\" class=\"node\">\n<title>71</title>\n<polygon fill=\"none\" stroke=\"#000000\" points=\"2271,-781 2142,-781 2142,-713 2271,-713 2271,-781\"/>\n<text text-anchor=\"middle\" x=\"2206.5\" y=\"-765.8\" font-family=\"Helvetica,sans-Serif\" font-size=\"14.00\" fill=\"#000000\">oldpeak &lt;= 1.148</text>\n<text text-anchor=\"middle\" x=\"2206.5\" y=\"-750.8\" font-family=\"Helvetica,sans-Serif\" font-size=\"14.00\" fill=\"#000000\">entropy = 0.971</text>\n<text text-anchor=\"middle\" x=\"2206.5\" y=\"-735.8\" font-family=\"Helvetica,sans-Serif\" font-size=\"14.00\" fill=\"#000000\">samples = 55</text>\n<text text-anchor=\"middle\" x=\"2206.5\" y=\"-720.8\" font-family=\"Helvetica,sans-Serif\" font-size=\"14.00\" fill=\"#000000\">value = [22, 33]</text>\n</g>\n<!-- 70&#45;&gt;71 -->\n<g id=\"edge71\" class=\"edge\">\n<title>70&#45;&gt;71</title>\n<path fill=\"none\" stroke=\"#000000\" d=\"M2206.5,-816.9465C2206.5,-808.776 2206.5,-799.9318 2206.5,-791.3697\"/>\n<polygon fill=\"#000000\" stroke=\"#000000\" points=\"2210.0001,-791.13 2206.5,-781.13 2203.0001,-791.13 2210.0001,-791.13\"/>\n</g>\n<!-- 84 -->\n<g id=\"node85\" class=\"node\">\n<title>84</title>\n<polygon fill=\"none\" stroke=\"#000000\" points=\"2442.5,-781 2308.5,-781 2308.5,-713 2442.5,-713 2442.5,-781\"/>\n<text text-anchor=\"middle\" x=\"2375.5\" y=\"-765.8\" font-family=\"Helvetica,sans-Serif\" font-size=\"14.00\" fill=\"#000000\">trestbps &lt;= &#45;0.704</text>\n<text text-anchor=\"middle\" x=\"2375.5\" y=\"-750.8\" font-family=\"Helvetica,sans-Serif\" font-size=\"14.00\" fill=\"#000000\">entropy = 0.602</text>\n<text text-anchor=\"middle\" x=\"2375.5\" y=\"-735.8\" font-family=\"Helvetica,sans-Serif\" font-size=\"14.00\" fill=\"#000000\">samples = 34</text>\n<text text-anchor=\"middle\" x=\"2375.5\" y=\"-720.8\" font-family=\"Helvetica,sans-Serif\" font-size=\"14.00\" fill=\"#000000\">value = [29, 5]</text>\n</g>\n<!-- 70&#45;&gt;84 -->\n<g id=\"edge84\" class=\"edge\">\n<title>70&#45;&gt;84</title>\n<path fill=\"none\" stroke=\"#000000\" d=\"M2261.8369,-816.9465C2277.5942,-807.2497 2294.8937,-796.6039 2311.1387,-786.6069\"/>\n<polygon fill=\"#000000\" stroke=\"#000000\" points=\"2313.3565,-789.3518 2320.0388,-781.13 2309.6878,-783.3902 2313.3565,-789.3518\"/>\n</g>\n<!-- 72 -->\n<g id=\"node73\" class=\"node\">\n<title>72</title>\n<polygon fill=\"none\" stroke=\"#000000\" points=\"2187.5,-677 2069.5,-677 2069.5,-609 2187.5,-609 2187.5,-677\"/>\n<text text-anchor=\"middle\" x=\"2128.5\" y=\"-661.8\" font-family=\"Helvetica,sans-Serif\" font-size=\"14.00\" fill=\"#000000\">chol &lt;= &#45;0.242</text>\n<text text-anchor=\"middle\" x=\"2128.5\" y=\"-646.8\" font-family=\"Helvetica,sans-Serif\" font-size=\"14.00\" fill=\"#000000\">entropy = 0.879</text>\n<text text-anchor=\"middle\" x=\"2128.5\" y=\"-631.8\" font-family=\"Helvetica,sans-Serif\" font-size=\"14.00\" fill=\"#000000\">samples = 47</text>\n<text text-anchor=\"middle\" x=\"2128.5\" y=\"-616.8\" font-family=\"Helvetica,sans-Serif\" font-size=\"14.00\" fill=\"#000000\">value = [14, 33]</text>\n</g>\n<!-- 71&#45;&gt;72 -->\n<g id=\"edge72\" class=\"edge\">\n<title>71&#45;&gt;72</title>\n<path fill=\"none\" stroke=\"#000000\" d=\"M2180.9599,-712.9465C2174.3607,-704.1475 2167.1754,-694.5672 2160.2995,-685.3993\"/>\n<polygon fill=\"#000000\" stroke=\"#000000\" points=\"2162.8975,-683.03 2154.0975,-677.13 2157.2975,-687.23 2162.8975,-683.03\"/>\n</g>\n<!-- 83 -->\n<g id=\"node84\" class=\"node\">\n<title>83</title>\n<polygon fill=\"none\" stroke=\"#000000\" points=\"2307,-669.5 2206,-669.5 2206,-616.5 2307,-616.5 2307,-669.5\"/>\n<text text-anchor=\"middle\" x=\"2256.5\" y=\"-654.3\" font-family=\"Helvetica,sans-Serif\" font-size=\"14.00\" fill=\"#000000\">entropy = 0.0</text>\n<text text-anchor=\"middle\" x=\"2256.5\" y=\"-639.3\" font-family=\"Helvetica,sans-Serif\" font-size=\"14.00\" fill=\"#000000\">samples = 8</text>\n<text text-anchor=\"middle\" x=\"2256.5\" y=\"-624.3\" font-family=\"Helvetica,sans-Serif\" font-size=\"14.00\" fill=\"#000000\">value = [8, 0]</text>\n</g>\n<!-- 71&#45;&gt;83 -->\n<g id=\"edge83\" class=\"edge\">\n<title>71&#45;&gt;83</title>\n<path fill=\"none\" stroke=\"#000000\" d=\"M2222.8719,-712.9465C2228.1675,-701.9316 2234.0518,-689.6922 2239.3989,-678.5703\"/>\n<polygon fill=\"#000000\" stroke=\"#000000\" points=\"2242.5607,-680.0712 2243.7393,-669.5422 2236.252,-677.0381 2242.5607,-680.0712\"/>\n</g>\n<!-- 73 -->\n<g id=\"node74\" class=\"node\">\n<title>73</title>\n<polygon fill=\"none\" stroke=\"#000000\" points=\"2185.5,-573 2067.5,-573 2067.5,-505 2185.5,-505 2185.5,-573\"/>\n<text text-anchor=\"middle\" x=\"2126.5\" y=\"-557.8\" font-family=\"Helvetica,sans-Serif\" font-size=\"14.00\" fill=\"#000000\">age &lt;= 1.232</text>\n<text text-anchor=\"middle\" x=\"2126.5\" y=\"-542.8\" font-family=\"Helvetica,sans-Serif\" font-size=\"14.00\" fill=\"#000000\">entropy = 0.957</text>\n<text text-anchor=\"middle\" x=\"2126.5\" y=\"-527.8\" font-family=\"Helvetica,sans-Serif\" font-size=\"14.00\" fill=\"#000000\">samples = 37</text>\n<text text-anchor=\"middle\" x=\"2126.5\" y=\"-512.8\" font-family=\"Helvetica,sans-Serif\" font-size=\"14.00\" fill=\"#000000\">value = [14, 23]</text>\n</g>\n<!-- 72&#45;&gt;73 -->\n<g id=\"edge73\" class=\"edge\">\n<title>72&#45;&gt;73</title>\n<path fill=\"none\" stroke=\"#000000\" d=\"M2127.8451,-608.9465C2127.688,-600.776 2127.5179,-591.9318 2127.3533,-583.3697\"/>\n<polygon fill=\"#000000\" stroke=\"#000000\" points=\"2130.8481,-583.0608 2127.1563,-573.13 2123.8494,-583.1955 2130.8481,-583.0608\"/>\n</g>\n<!-- 82 -->\n<g id=\"node83\" class=\"node\">\n<title>82</title>\n<polygon fill=\"none\" stroke=\"#000000\" points=\"2311,-565.5 2204,-565.5 2204,-512.5 2311,-512.5 2311,-565.5\"/>\n<text text-anchor=\"middle\" x=\"2257.5\" y=\"-550.3\" font-family=\"Helvetica,sans-Serif\" font-size=\"14.00\" fill=\"#000000\">entropy = 0.0</text>\n<text text-anchor=\"middle\" x=\"2257.5\" y=\"-535.3\" font-family=\"Helvetica,sans-Serif\" font-size=\"14.00\" fill=\"#000000\">samples = 10</text>\n<text text-anchor=\"middle\" x=\"2257.5\" y=\"-520.3\" font-family=\"Helvetica,sans-Serif\" font-size=\"14.00\" fill=\"#000000\">value = [0, 10]</text>\n</g>\n<!-- 72&#45;&gt;82 -->\n<g id=\"edge82\" class=\"edge\">\n<title>72&#45;&gt;82</title>\n<path fill=\"none\" stroke=\"#000000\" d=\"M2170.7394,-608.9465C2185.4952,-597.0504 2202.0225,-583.726 2216.662,-571.9237\"/>\n<polygon fill=\"#000000\" stroke=\"#000000\" points=\"2218.9891,-574.5433 2224.5775,-565.5422 2214.5957,-569.0938 2218.9891,-574.5433\"/>\n</g>\n<!-- 74 -->\n<g id=\"node75\" class=\"node\">\n<title>74</title>\n<polygon fill=\"none\" stroke=\"#000000\" points=\"2067.5,-469 1949.5,-469 1949.5,-401 2067.5,-401 2067.5,-469\"/>\n<text text-anchor=\"middle\" x=\"2008.5\" y=\"-453.8\" font-family=\"Helvetica,sans-Serif\" font-size=\"14.00\" fill=\"#000000\">ca &lt;= &#45;0.263</text>\n<text text-anchor=\"middle\" x=\"2008.5\" y=\"-438.8\" font-family=\"Helvetica,sans-Serif\" font-size=\"14.00\" fill=\"#000000\">entropy = 0.885</text>\n<text text-anchor=\"middle\" x=\"2008.5\" y=\"-423.8\" font-family=\"Helvetica,sans-Serif\" font-size=\"14.00\" fill=\"#000000\">samples = 33</text>\n<text text-anchor=\"middle\" x=\"2008.5\" y=\"-408.8\" font-family=\"Helvetica,sans-Serif\" font-size=\"14.00\" fill=\"#000000\">value = [10, 23]</text>\n</g>\n<!-- 73&#45;&gt;74 -->\n<g id=\"edge74\" class=\"edge\">\n<title>73&#45;&gt;74</title>\n<path fill=\"none\" stroke=\"#000000\" d=\"M2087.8624,-504.9465C2077.3696,-495.6986 2065.8974,-485.5876 2055.0186,-475.9994\"/>\n<polygon fill=\"#000000\" stroke=\"#000000\" points=\"2057.0407,-473.1163 2047.2244,-469.13 2052.4123,-478.3678 2057.0407,-473.1163\"/>\n</g>\n<!-- 81 -->\n<g id=\"node82\" class=\"node\">\n<title>81</title>\n<polygon fill=\"none\" stroke=\"#000000\" points=\"2187,-461.5 2086,-461.5 2086,-408.5 2187,-408.5 2187,-461.5\"/>\n<text text-anchor=\"middle\" x=\"2136.5\" y=\"-446.3\" font-family=\"Helvetica,sans-Serif\" font-size=\"14.00\" fill=\"#000000\">entropy = 0.0</text>\n<text text-anchor=\"middle\" x=\"2136.5\" y=\"-431.3\" font-family=\"Helvetica,sans-Serif\" font-size=\"14.00\" fill=\"#000000\">samples = 4</text>\n<text text-anchor=\"middle\" x=\"2136.5\" y=\"-416.3\" font-family=\"Helvetica,sans-Serif\" font-size=\"14.00\" fill=\"#000000\">value = [4, 0]</text>\n</g>\n<!-- 73&#45;&gt;81 -->\n<g id=\"edge81\" class=\"edge\">\n<title>73&#45;&gt;81</title>\n<path fill=\"none\" stroke=\"#000000\" d=\"M2129.7744,-504.9465C2130.8017,-494.2621 2131.9399,-482.4254 2132.9832,-471.5742\"/>\n<polygon fill=\"#000000\" stroke=\"#000000\" points=\"2136.4746,-471.8313 2133.9479,-461.5422 2129.5067,-471.1612 2136.4746,-471.8313\"/>\n</g>\n<!-- 75 -->\n<g id=\"node76\" class=\"node\">\n<title>75</title>\n<polygon fill=\"none\" stroke=\"#000000\" points=\"1975,-357.5 1868,-357.5 1868,-304.5 1975,-304.5 1975,-357.5\"/>\n<text text-anchor=\"middle\" x=\"1921.5\" y=\"-342.3\" font-family=\"Helvetica,sans-Serif\" font-size=\"14.00\" fill=\"#000000\">entropy = 0.0</text>\n<text text-anchor=\"middle\" x=\"1921.5\" y=\"-327.3\" font-family=\"Helvetica,sans-Serif\" font-size=\"14.00\" fill=\"#000000\">samples = 16</text>\n<text text-anchor=\"middle\" x=\"1921.5\" y=\"-312.3\" font-family=\"Helvetica,sans-Serif\" font-size=\"14.00\" fill=\"#000000\">value = [0, 16]</text>\n</g>\n<!-- 74&#45;&gt;75 -->\n<g id=\"edge75\" class=\"edge\">\n<title>74&#45;&gt;75</title>\n<path fill=\"none\" stroke=\"#000000\" d=\"M1980.0129,-400.9465C1970.43,-389.491 1959.739,-376.711 1950.1441,-365.2412\"/>\n<polygon fill=\"#000000\" stroke=\"#000000\" points=\"1952.8045,-362.9666 1943.7035,-357.5422 1947.4354,-367.458 1952.8045,-362.9666\"/>\n</g>\n<!-- 76 -->\n<g id=\"node77\" class=\"node\">\n<title>76</title>\n<polygon fill=\"none\" stroke=\"#000000\" points=\"2111.5,-365 1993.5,-365 1993.5,-297 2111.5,-297 2111.5,-365\"/>\n<text text-anchor=\"middle\" x=\"2052.5\" y=\"-349.8\" font-family=\"Helvetica,sans-Serif\" font-size=\"14.00\" fill=\"#000000\">ca &lt;= 1.651</text>\n<text text-anchor=\"middle\" x=\"2052.5\" y=\"-334.8\" font-family=\"Helvetica,sans-Serif\" font-size=\"14.00\" fill=\"#000000\">entropy = 0.977</text>\n<text text-anchor=\"middle\" x=\"2052.5\" y=\"-319.8\" font-family=\"Helvetica,sans-Serif\" font-size=\"14.00\" fill=\"#000000\">samples = 17</text>\n<text text-anchor=\"middle\" x=\"2052.5\" y=\"-304.8\" font-family=\"Helvetica,sans-Serif\" font-size=\"14.00\" fill=\"#000000\">value = [10, 7]</text>\n</g>\n<!-- 74&#45;&gt;76 -->\n<g id=\"edge76\" class=\"edge\">\n<title>74&#45;&gt;76</title>\n<path fill=\"none\" stroke=\"#000000\" d=\"M2022.9072,-400.9465C2026.4779,-392.5067 2030.3528,-383.3479 2034.0861,-374.5239\"/>\n<polygon fill=\"#000000\" stroke=\"#000000\" points=\"2037.3873,-375.7034 2038.0604,-365.13 2030.9405,-372.9759 2037.3873,-375.7034\"/>\n</g>\n<!-- 77 -->\n<g id=\"node78\" class=\"node\">\n<title>77</title>\n<polygon fill=\"none\" stroke=\"#000000\" points=\"2026,-261 1901,-261 1901,-193 2026,-193 2026,-261\"/>\n<text text-anchor=\"middle\" x=\"1963.5\" y=\"-245.8\" font-family=\"Helvetica,sans-Serif\" font-size=\"14.00\" fill=\"#000000\">thalach &lt;= 0.819</text>\n<text text-anchor=\"middle\" x=\"1963.5\" y=\"-230.8\" font-family=\"Helvetica,sans-Serif\" font-size=\"14.00\" fill=\"#000000\">entropy = 0.439</text>\n<text text-anchor=\"middle\" x=\"1963.5\" y=\"-215.8\" font-family=\"Helvetica,sans-Serif\" font-size=\"14.00\" fill=\"#000000\">samples = 11</text>\n<text text-anchor=\"middle\" x=\"1963.5\" y=\"-200.8\" font-family=\"Helvetica,sans-Serif\" font-size=\"14.00\" fill=\"#000000\">value = [10, 1]</text>\n</g>\n<!-- 76&#45;&gt;77 -->\n<g id=\"edge77\" class=\"edge\">\n<title>76&#45;&gt;77</title>\n<path fill=\"none\" stroke=\"#000000\" d=\"M2023.3581,-296.9465C2015.6745,-287.968 2007.2947,-278.1758 1999.3041,-268.8385\"/>\n<polygon fill=\"#000000\" stroke=\"#000000\" points=\"2001.8685,-266.4521 1992.7074,-261.13 1996.5501,-271.0034 2001.8685,-266.4521\"/>\n</g>\n<!-- 80 -->\n<g id=\"node81\" class=\"node\">\n<title>80</title>\n<polygon fill=\"none\" stroke=\"#000000\" points=\"2145,-253.5 2044,-253.5 2044,-200.5 2145,-200.5 2145,-253.5\"/>\n<text text-anchor=\"middle\" x=\"2094.5\" y=\"-238.3\" font-family=\"Helvetica,sans-Serif\" font-size=\"14.00\" fill=\"#000000\">entropy = 0.0</text>\n<text text-anchor=\"middle\" x=\"2094.5\" y=\"-223.3\" font-family=\"Helvetica,sans-Serif\" font-size=\"14.00\" fill=\"#000000\">samples = 6</text>\n<text text-anchor=\"middle\" x=\"2094.5\" y=\"-208.3\" font-family=\"Helvetica,sans-Serif\" font-size=\"14.00\" fill=\"#000000\">value = [0, 6]</text>\n</g>\n<!-- 76&#45;&gt;80 -->\n<g id=\"edge80\" class=\"edge\">\n<title>76&#45;&gt;80</title>\n<path fill=\"none\" stroke=\"#000000\" d=\"M2066.2524,-296.9465C2070.6562,-286.0418 2075.5447,-273.9368 2080.0002,-262.9043\"/>\n<polygon fill=\"#000000\" stroke=\"#000000\" points=\"2083.2817,-264.1252 2083.781,-253.5422 2076.791,-261.5039 2083.2817,-264.1252\"/>\n</g>\n<!-- 78 -->\n<g id=\"node79\" class=\"node\">\n<title>78</title>\n<polygon fill=\"none\" stroke=\"#000000\" points=\"1989,-149.5 1882,-149.5 1882,-96.5 1989,-96.5 1989,-149.5\"/>\n<text text-anchor=\"middle\" x=\"1935.5\" y=\"-134.3\" font-family=\"Helvetica,sans-Serif\" font-size=\"14.00\" fill=\"#000000\">entropy = 0.0</text>\n<text text-anchor=\"middle\" x=\"1935.5\" y=\"-119.3\" font-family=\"Helvetica,sans-Serif\" font-size=\"14.00\" fill=\"#000000\">samples = 10</text>\n<text text-anchor=\"middle\" x=\"1935.5\" y=\"-104.3\" font-family=\"Helvetica,sans-Serif\" font-size=\"14.00\" fill=\"#000000\">value = [10, 0]</text>\n</g>\n<!-- 77&#45;&gt;78 -->\n<g id=\"edge78\" class=\"edge\">\n<title>77&#45;&gt;78</title>\n<path fill=\"none\" stroke=\"#000000\" d=\"M1954.3318,-192.9465C1951.4255,-182.1519 1948.2026,-170.1813 1945.2566,-159.2389\"/>\n<polygon fill=\"#000000\" stroke=\"#000000\" points=\"1948.6254,-158.2884 1942.646,-149.5422 1941.8661,-160.1083 1948.6254,-158.2884\"/>\n</g>\n<!-- 79 -->\n<g id=\"node80\" class=\"node\">\n<title>79</title>\n<polygon fill=\"none\" stroke=\"#000000\" points=\"2108,-149.5 2007,-149.5 2007,-96.5 2108,-96.5 2108,-149.5\"/>\n<text text-anchor=\"middle\" x=\"2057.5\" y=\"-134.3\" font-family=\"Helvetica,sans-Serif\" font-size=\"14.00\" fill=\"#000000\">entropy = 0.0</text>\n<text text-anchor=\"middle\" x=\"2057.5\" y=\"-119.3\" font-family=\"Helvetica,sans-Serif\" font-size=\"14.00\" fill=\"#000000\">samples = 1</text>\n<text text-anchor=\"middle\" x=\"2057.5\" y=\"-104.3\" font-family=\"Helvetica,sans-Serif\" font-size=\"14.00\" fill=\"#000000\">value = [0, 1]</text>\n</g>\n<!-- 77&#45;&gt;79 -->\n<g id=\"edge79\" class=\"edge\">\n<title>77&#45;&gt;79</title>\n<path fill=\"none\" stroke=\"#000000\" d=\"M1994.2791,-192.9465C2004.6331,-181.491 2016.1842,-168.711 2026.5513,-157.2412\"/>\n<polygon fill=\"#000000\" stroke=\"#000000\" points=\"2029.4011,-159.3078 2033.51,-149.5422 2024.208,-154.614 2029.4011,-159.3078\"/>\n</g>\n<!-- 85 -->\n<g id=\"node86\" class=\"node\">\n<title>85</title>\n<polygon fill=\"none\" stroke=\"#000000\" points=\"2426,-669.5 2325,-669.5 2325,-616.5 2426,-616.5 2426,-669.5\"/>\n<text text-anchor=\"middle\" x=\"2375.5\" y=\"-654.3\" font-family=\"Helvetica,sans-Serif\" font-size=\"14.00\" fill=\"#000000\">entropy = 0.0</text>\n<text text-anchor=\"middle\" x=\"2375.5\" y=\"-639.3\" font-family=\"Helvetica,sans-Serif\" font-size=\"14.00\" fill=\"#000000\">samples = 3</text>\n<text text-anchor=\"middle\" x=\"2375.5\" y=\"-624.3\" font-family=\"Helvetica,sans-Serif\" font-size=\"14.00\" fill=\"#000000\">value = [0, 3]</text>\n</g>\n<!-- 84&#45;&gt;85 -->\n<g id=\"edge85\" class=\"edge\">\n<title>84&#45;&gt;85</title>\n<path fill=\"none\" stroke=\"#000000\" d=\"M2375.5,-712.9465C2375.5,-702.2621 2375.5,-690.4254 2375.5,-679.5742\"/>\n<polygon fill=\"#000000\" stroke=\"#000000\" points=\"2379.0001,-679.5421 2375.5,-669.5422 2372.0001,-679.5422 2379.0001,-679.5421\"/>\n</g>\n<!-- 86 -->\n<g id=\"node87\" class=\"node\">\n<title>86</title>\n<polygon fill=\"none\" stroke=\"#000000\" points=\"2573,-677 2444,-677 2444,-609 2573,-609 2573,-677\"/>\n<text text-anchor=\"middle\" x=\"2508.5\" y=\"-661.8\" font-family=\"Helvetica,sans-Serif\" font-size=\"14.00\" fill=\"#000000\">oldpeak &lt;= 2.128</text>\n<text text-anchor=\"middle\" x=\"2508.5\" y=\"-646.8\" font-family=\"Helvetica,sans-Serif\" font-size=\"14.00\" fill=\"#000000\">entropy = 0.345</text>\n<text text-anchor=\"middle\" x=\"2508.5\" y=\"-631.8\" font-family=\"Helvetica,sans-Serif\" font-size=\"14.00\" fill=\"#000000\">samples = 31</text>\n<text text-anchor=\"middle\" x=\"2508.5\" y=\"-616.8\" font-family=\"Helvetica,sans-Serif\" font-size=\"14.00\" fill=\"#000000\">value = [29, 2]</text>\n</g>\n<!-- 84&#45;&gt;86 -->\n<g id=\"edge86\" class=\"edge\">\n<title>84&#45;&gt;86</title>\n<path fill=\"none\" stroke=\"#000000\" d=\"M2419.0492,-712.9465C2431.1054,-703.519 2444.3089,-693.1946 2456.7816,-683.4415\"/>\n<polygon fill=\"#000000\" stroke=\"#000000\" points=\"2459.1314,-686.0471 2464.853,-677.13 2454.8194,-680.5328 2459.1314,-686.0471\"/>\n</g>\n<!-- 87 -->\n<g id=\"node88\" class=\"node\">\n<title>87</title>\n<polygon fill=\"none\" stroke=\"#000000\" points=\"2501,-565.5 2394,-565.5 2394,-512.5 2501,-512.5 2501,-565.5\"/>\n<text text-anchor=\"middle\" x=\"2447.5\" y=\"-550.3\" font-family=\"Helvetica,sans-Serif\" font-size=\"14.00\" fill=\"#000000\">entropy = 0.0</text>\n<text text-anchor=\"middle\" x=\"2447.5\" y=\"-535.3\" font-family=\"Helvetica,sans-Serif\" font-size=\"14.00\" fill=\"#000000\">samples = 29</text>\n<text text-anchor=\"middle\" x=\"2447.5\" y=\"-520.3\" font-family=\"Helvetica,sans-Serif\" font-size=\"14.00\" fill=\"#000000\">value = [29, 0]</text>\n</g>\n<!-- 86&#45;&gt;87 -->\n<g id=\"edge87\" class=\"edge\">\n<title>86&#45;&gt;87</title>\n<path fill=\"none\" stroke=\"#000000\" d=\"M2488.5263,-608.9465C2482.001,-597.8215 2474.7431,-585.4473 2468.1678,-574.237\"/>\n<polygon fill=\"#000000\" stroke=\"#000000\" points=\"2471.1464,-572.3971 2463.068,-565.5422 2465.1084,-575.9387 2471.1464,-572.3971\"/>\n</g>\n<!-- 88 -->\n<g id=\"node89\" class=\"node\">\n<title>88</title>\n<polygon fill=\"none\" stroke=\"#000000\" points=\"2620,-565.5 2519,-565.5 2519,-512.5 2620,-512.5 2620,-565.5\"/>\n<text text-anchor=\"middle\" x=\"2569.5\" y=\"-550.3\" font-family=\"Helvetica,sans-Serif\" font-size=\"14.00\" fill=\"#000000\">entropy = 0.0</text>\n<text text-anchor=\"middle\" x=\"2569.5\" y=\"-535.3\" font-family=\"Helvetica,sans-Serif\" font-size=\"14.00\" fill=\"#000000\">samples = 2</text>\n<text text-anchor=\"middle\" x=\"2569.5\" y=\"-520.3\" font-family=\"Helvetica,sans-Serif\" font-size=\"14.00\" fill=\"#000000\">value = [0, 2]</text>\n</g>\n<!-- 86&#45;&gt;88 -->\n<g id=\"edge88\" class=\"edge\">\n<title>86&#45;&gt;88</title>\n<path fill=\"none\" stroke=\"#000000\" d=\"M2528.4737,-608.9465C2534.999,-597.8215 2542.2569,-585.4473 2548.8322,-574.237\"/>\n<polygon fill=\"#000000\" stroke=\"#000000\" points=\"2551.8916,-575.9387 2553.932,-565.5422 2545.8536,-572.3971 2551.8916,-575.9387\"/>\n</g>\n</g>\n</svg>\n"
          },
          "metadata": {},
          "execution_count": 28
        }
      ],
      "source": [
        "graph=export_graphviz(dt_fit,out_file=None,feature_names=x.columns)\n",
        "graphviz.Source(graph)"
      ]
    },
    {
      "cell_type": "code",
      "execution_count": 29,
      "id": "097ea542",
      "metadata": {
        "id": "097ea542",
        "outputId": "cefe8982-f572-497b-c256-40017599a049",
        "colab": {
          "base_uri": "https://localhost:8080/"
        }
      },
      "outputs": [
        {
          "output_type": "stream",
          "name": "stdout",
          "text": [
            "f1_score: [1. 1.]\n",
            "accuracy score: 1.0\n",
            "confusion_matrix: \n",
            " [[146   0]\n",
            " [  0 157]]\n"
          ]
        }
      ],
      "source": [
        "print('f1_score:',metrics.f1_score(ytest,dt_predict,average=None))\n",
        "print('accuracy score:',metrics.accuracy_score(ytest,dt_predict))\n",
        "print('confusion_matrix:','\\n',metrics.confusion_matrix(ytest,dt_predict))\n"
      ]
    },
    {
      "cell_type": "code",
      "execution_count": 30,
      "id": "cf28c352",
      "metadata": {
        "id": "cf28c352"
      },
      "outputs": [],
      "source": [
        "#Random Forest"
      ]
    },
    {
      "cell_type": "code",
      "execution_count": 31,
      "id": "7a028580",
      "metadata": {
        "id": "7a028580"
      },
      "outputs": [],
      "source": [
        "from sklearn.ensemble import RandomForestClassifier"
      ]
    },
    {
      "cell_type": "code",
      "execution_count": 32,
      "id": "6ab41503",
      "metadata": {
        "id": "6ab41503",
        "outputId": "dd8788d8-8679-4506-db38-009e7eaffd67",
        "colab": {
          "base_uri": "https://localhost:8080/"
        }
      },
      "outputs": [
        {
          "output_type": "execute_result",
          "data": {
            "text/plain": [
              "array([1, 1, 1, 0, 1, 0, 0, 1, 1, 1, 1, 0, 0, 1, 0, 0, 1, 1, 0, 1, 1, 0,\n",
              "       0, 0, 0, 0, 1, 0, 0, 0, 0, 0, 1, 1, 1, 0, 0, 1, 0, 1, 0, 0, 0, 0,\n",
              "       0, 1, 1, 1, 0, 1, 0, 1, 0, 0, 0, 0, 1, 1, 1, 0, 1, 0, 1, 1, 1, 0,\n",
              "       1, 1, 1, 1, 0, 0, 0, 1, 1, 1, 0, 0, 0, 1, 0, 0, 0, 0, 0, 0, 1, 0,\n",
              "       0, 0, 0, 0, 1, 0, 0, 1, 1, 0, 0, 0, 1, 0, 1, 0, 0, 0, 1, 0, 1, 1,\n",
              "       0, 1, 1, 1, 0, 1, 0, 1, 1, 0, 0, 0, 1, 1, 0, 1, 1, 0, 1, 1, 1, 1,\n",
              "       1, 0, 0, 1, 1, 0, 0, 1, 0, 0, 0, 1, 1, 1, 0, 1, 0, 0, 0, 0, 1, 0,\n",
              "       1, 1, 0, 0, 1, 1, 0, 1, 0, 0, 0, 1, 0, 0, 0, 0, 1, 1, 1, 0, 1, 1,\n",
              "       1, 1, 1, 1, 0, 0, 1, 1, 0, 0, 0, 0, 1, 1, 1, 0, 1, 1, 0, 1, 1, 0,\n",
              "       1, 1, 1, 0, 0, 1, 0, 0, 0, 1, 1, 0, 1, 1, 0, 1, 1, 0, 1, 0, 0, 1,\n",
              "       0, 1, 1, 0, 1, 1, 1, 0, 0, 0, 1, 0, 0, 0, 1, 1, 1, 1, 1, 0, 0, 0,\n",
              "       1, 0, 1, 1, 1, 1, 0, 1, 0, 0, 0, 1, 0, 1, 0, 1, 0, 1, 1, 0, 1, 1,\n",
              "       0, 1, 1, 0, 0, 0, 1, 1, 1, 1, 0, 1, 1, 1, 0, 0, 0, 0, 1, 1, 1, 0,\n",
              "       0, 0, 0, 1, 0, 1, 1, 0, 1, 1, 1, 1, 1, 1, 1, 0, 1])"
            ]
          },
          "metadata": {},
          "execution_count": 32
        }
      ],
      "source": [
        "rf=RandomForestClassifier(n_estimators=20)\n",
        "rf_fit=rf.fit(xtrain,ytrain)\n",
        "rf_predict=rf_fit.predict(xtest)\n",
        "rf_predict"
      ]
    },
    {
      "cell_type": "code",
      "execution_count": 33,
      "id": "fc5a4005",
      "metadata": {
        "id": "fc5a4005",
        "outputId": "db5856dd-26b1-4e2f-d584-589fc6e4eac2",
        "colab": {
          "base_uri": "https://localhost:8080/"
        }
      },
      "outputs": [
        {
          "output_type": "stream",
          "name": "stdout",
          "text": [
            "f1_score: [0.98983051 0.9903537 ]\n",
            "accuracy score: 0.9900990099009901\n",
            "confusion_matrix: \n",
            " [[146   0]\n",
            " [  3 154]]\n"
          ]
        }
      ],
      "source": [
        "print('f1_score:',metrics.f1_score(ytest,rf_predict,average=None))\n",
        "print('accuracy score:',metrics.accuracy_score(ytest,rf_predict))\n",
        "print('confusion_matrix:','\\n',metrics.confusion_matrix(ytest,rf_predict))\n"
      ]
    },
    {
      "cell_type": "code",
      "execution_count": 34,
      "id": "0a6344cf",
      "metadata": {
        "id": "0a6344cf"
      },
      "outputs": [],
      "source": [
        "#KNN"
      ]
    },
    {
      "cell_type": "code",
      "execution_count": 35,
      "id": "60bc9359",
      "metadata": {
        "id": "60bc9359"
      },
      "outputs": [],
      "source": [
        "from sklearn.neighbors import KNeighborsClassifier"
      ]
    },
    {
      "cell_type": "code",
      "execution_count": 36,
      "id": "e61939e8",
      "metadata": {
        "id": "e61939e8",
        "outputId": "62d4bf58-4691-43d1-f9cf-b115270d3bfa",
        "colab": {
          "base_uri": "https://localhost:8080/"
        }
      },
      "outputs": [
        {
          "output_type": "execute_result",
          "data": {
            "text/plain": [
              "array([1, 1, 1, 0, 1, 0, 0, 1, 1, 1, 1, 1, 1, 0, 0, 0, 1, 0, 0, 1, 0, 0,\n",
              "       0, 0, 0, 1, 1, 0, 0, 0, 0, 0, 1, 1, 1, 0, 0, 1, 0, 1, 0, 1, 0, 0,\n",
              "       1, 1, 1, 1, 0, 0, 1, 1, 0, 1, 0, 1, 0, 0, 1, 0, 1, 0, 1, 1, 1, 0,\n",
              "       0, 1, 1, 1, 0, 0, 0, 1, 1, 1, 0, 0, 1, 1, 0, 0, 1, 0, 0, 0, 1, 0,\n",
              "       0, 0, 0, 0, 1, 0, 0, 0, 0, 0, 0, 0, 0, 0, 1, 0, 0, 0, 1, 0, 1, 1,\n",
              "       0, 1, 1, 1, 0, 1, 1, 1, 1, 0, 0, 0, 0, 0, 0, 1, 1, 0, 1, 1, 1, 1,\n",
              "       0, 0, 0, 1, 1, 0, 0, 1, 0, 0, 0, 1, 1, 1, 0, 1, 0, 0, 0, 0, 1, 0,\n",
              "       1, 1, 0, 0, 1, 1, 0, 1, 0, 0, 0, 1, 0, 0, 0, 0, 1, 1, 1, 0, 1, 1,\n",
              "       1, 1, 1, 1, 0, 0, 1, 1, 0, 0, 0, 0, 1, 1, 1, 0, 1, 1, 0, 0, 1, 0,\n",
              "       0, 1, 1, 0, 0, 1, 0, 0, 0, 0, 1, 0, 1, 1, 0, 1, 0, 0, 1, 0, 0, 1,\n",
              "       0, 1, 1, 0, 1, 1, 1, 0, 0, 0, 1, 0, 0, 0, 1, 1, 1, 0, 1, 0, 0, 0,\n",
              "       1, 0, 1, 1, 1, 1, 0, 1, 0, 1, 1, 1, 0, 1, 0, 0, 0, 0, 0, 0, 0, 1,\n",
              "       0, 1, 1, 0, 0, 0, 1, 1, 1, 1, 0, 1, 1, 0, 0, 1, 0, 0, 1, 1, 1, 0,\n",
              "       0, 0, 0, 1, 0, 1, 1, 0, 0, 1, 1, 1, 1, 1, 1, 0, 1])"
            ]
          },
          "metadata": {},
          "execution_count": 36
        }
      ],
      "source": [
        "kn=KNeighborsClassifier(n_neighbors=4)\n",
        "kn_fit=kn.fit(xtrain,ytrain)\n",
        "kn_predict=kn_fit.predict(xtest)\n",
        "kn_predict"
      ]
    },
    {
      "cell_type": "code",
      "execution_count": 37,
      "id": "c69aa793",
      "metadata": {
        "id": "c69aa793",
        "outputId": "526e5e86-e2cb-4e30-9d28-2f8043234c8c",
        "colab": {
          "base_uri": "https://localhost:8080/"
        }
      },
      "outputs": [
        {
          "output_type": "stream",
          "name": "stdout",
          "text": [
            "f1_score: [0.86557377 0.86378738]\n",
            "accuracy score: 0.8646864686468647\n",
            "confusion_matrix: \n",
            " [[132  14]\n",
            " [ 27 130]]\n"
          ]
        }
      ],
      "source": [
        "print('f1_score:',metrics.f1_score(ytest,kn_predict,average=None))\n",
        "print('accuracy score:',metrics.accuracy_score(ytest,kn_predict))\n",
        "print('confusion_matrix:','\\n',metrics.confusion_matrix(ytest,kn_predict))\n"
      ]
    },
    {
      "cell_type": "code",
      "execution_count": 38,
      "id": "86ce1d95",
      "metadata": {
        "id": "86ce1d95"
      },
      "outputs": [],
      "source": [
        "#SVM"
      ]
    },
    {
      "cell_type": "code",
      "execution_count": 39,
      "id": "11e27244",
      "metadata": {
        "id": "11e27244"
      },
      "outputs": [],
      "source": [
        "from sklearn.svm import SVC"
      ]
    },
    {
      "cell_type": "code",
      "execution_count": 40,
      "id": "0a445989",
      "metadata": {
        "id": "0a445989",
        "outputId": "191ea380-6394-4897-cdc8-7454a5132e7b",
        "colab": {
          "base_uri": "https://localhost:8080/"
        }
      },
      "outputs": [
        {
          "output_type": "execute_result",
          "data": {
            "text/plain": [
              "array([1, 1, 1, 0, 1, 1, 0, 1, 1, 1, 1, 1, 1, 1, 1, 0, 1, 1, 0, 1, 0, 1,\n",
              "       0, 1, 0, 1, 1, 0, 0, 0, 0, 0, 1, 1, 1, 1, 0, 1, 0, 1, 0, 1, 0, 0,\n",
              "       1, 1, 1, 1, 0, 1, 1, 1, 1, 1, 1, 1, 0, 1, 1, 0, 1, 0, 1, 1, 1, 1,\n",
              "       1, 1, 1, 1, 0, 0, 1, 1, 1, 1, 0, 0, 1, 1, 0, 0, 1, 0, 0, 0, 1, 0,\n",
              "       0, 0, 0, 1, 1, 0, 0, 0, 1, 0, 0, 0, 1, 0, 1, 0, 0, 0, 1, 0, 1, 1,\n",
              "       1, 1, 1, 1, 0, 1, 1, 1, 1, 0, 1, 0, 1, 1, 1, 1, 1, 0, 1, 1, 1, 1,\n",
              "       0, 1, 0, 1, 1, 0, 1, 1, 0, 0, 0, 1, 1, 1, 0, 1, 0, 1, 0, 0, 1, 0,\n",
              "       1, 1, 0, 0, 1, 1, 1, 1, 0, 0, 0, 1, 0, 0, 1, 0, 1, 1, 1, 0, 1, 1,\n",
              "       1, 1, 1, 1, 0, 0, 1, 1, 0, 0, 0, 1, 1, 1, 1, 0, 1, 1, 0, 1, 0, 0,\n",
              "       1, 1, 1, 0, 1, 1, 1, 0, 0, 1, 1, 1, 1, 1, 0, 0, 0, 0, 1, 0, 0, 1,\n",
              "       0, 1, 1, 0, 1, 1, 1, 0, 0, 1, 1, 1, 0, 1, 1, 1, 1, 1, 1, 1, 0, 0,\n",
              "       1, 0, 1, 1, 1, 1, 0, 1, 0, 1, 1, 1, 0, 1, 0, 1, 0, 0, 0, 0, 0, 1,\n",
              "       1, 1, 1, 0, 0, 1, 1, 1, 1, 1, 0, 1, 1, 0, 0, 1, 0, 0, 1, 1, 1, 0,\n",
              "       1, 0, 0, 1, 1, 1, 1, 0, 0, 1, 1, 1, 1, 1, 1, 0, 1])"
            ]
          },
          "metadata": {},
          "execution_count": 40
        }
      ],
      "source": [
        "svc=SVC(kernel='linear')\n",
        "svc_fit=svc.fit(xtrain,ytrain)\n",
        "svc_predict=svc_fit.predict(xtest)\n",
        "svc_predict"
      ]
    },
    {
      "cell_type": "code",
      "execution_count": 41,
      "id": "4ddc8fd3",
      "metadata": {
        "id": "4ddc8fd3",
        "outputId": "1e08bf0b-2061-48d1-8c0e-a5c9cf01139b",
        "colab": {
          "base_uri": "https://localhost:8080/"
        }
      },
      "outputs": [
        {
          "output_type": "stream",
          "name": "stdout",
          "text": [
            "f1_score: [0.7756654  0.82798834]\n",
            "accuracy score: 0.8052805280528053\n",
            "confusion_matrix: \n",
            " [[102  44]\n",
            " [ 15 142]]\n"
          ]
        }
      ],
      "source": [
        "print('f1_score:',metrics.f1_score(ytest,svc_predict,average=None))\n",
        "print('accuracy score:',metrics.accuracy_score(ytest,svc_predict))\n",
        "print('confusion_matrix:','\\n',metrics.confusion_matrix(ytest,svc_predict))\n"
      ]
    },
    {
      "cell_type": "code",
      "execution_count": 42,
      "id": "6bec5d49",
      "metadata": {
        "id": "6bec5d49"
      },
      "outputs": [],
      "source": [
        "#Naive bayes"
      ]
    },
    {
      "cell_type": "code",
      "execution_count": 43,
      "id": "d810053f",
      "metadata": {
        "id": "d810053f"
      },
      "outputs": [],
      "source": [
        "from sklearn.naive_bayes import GaussianNB"
      ]
    },
    {
      "cell_type": "code",
      "execution_count": 44,
      "id": "8c23d400",
      "metadata": {
        "id": "8c23d400",
        "outputId": "3ca60c03-b73d-4dc8-8455-0f2c287ee83e",
        "colab": {
          "base_uri": "https://localhost:8080/"
        }
      },
      "outputs": [
        {
          "output_type": "execute_result",
          "data": {
            "text/plain": [
              "array([1, 1, 1, 0, 1, 0, 0, 1, 1, 1, 1, 1, 1, 1, 0, 0, 1, 1, 0, 1, 1, 0,\n",
              "       0, 0, 0, 1, 1, 0, 0, 0, 0, 0, 1, 0, 1, 0, 0, 1, 0, 1, 0, 1, 0, 0,\n",
              "       1, 1, 1, 1, 0, 0, 1, 1, 1, 1, 0, 1, 0, 1, 1, 0, 0, 0, 1, 1, 1, 1,\n",
              "       0, 1, 1, 1, 0, 0, 0, 1, 1, 1, 0, 0, 1, 1, 0, 0, 1, 0, 0, 0, 1, 0,\n",
              "       0, 0, 0, 1, 1, 0, 0, 0, 0, 0, 0, 0, 1, 0, 1, 0, 0, 1, 1, 0, 1, 1,\n",
              "       1, 1, 1, 1, 0, 1, 1, 1, 0, 0, 1, 0, 1, 1, 1, 1, 1, 0, 1, 1, 1, 1,\n",
              "       0, 0, 0, 1, 1, 0, 1, 1, 0, 0, 1, 1, 1, 1, 0, 1, 1, 1, 0, 0, 1, 0,\n",
              "       1, 1, 0, 0, 0, 1, 0, 1, 0, 0, 0, 1, 1, 0, 1, 0, 1, 1, 1, 0, 1, 1,\n",
              "       1, 1, 1, 1, 0, 0, 1, 1, 0, 0, 0, 1, 1, 1, 0, 0, 1, 1, 0, 1, 0, 0,\n",
              "       1, 1, 1, 0, 1, 1, 1, 0, 1, 0, 1, 1, 1, 1, 0, 0, 0, 0, 1, 0, 0, 1,\n",
              "       0, 1, 1, 0, 1, 1, 1, 0, 0, 1, 1, 1, 0, 1, 1, 1, 1, 1, 1, 1, 0, 0,\n",
              "       1, 0, 1, 1, 1, 1, 0, 1, 0, 1, 1, 1, 0, 0, 0, 0, 0, 1, 0, 0, 1, 1,\n",
              "       0, 1, 1, 1, 0, 1, 1, 1, 1, 1, 0, 1, 1, 0, 0, 1, 0, 0, 1, 1, 1, 0,\n",
              "       1, 0, 0, 1, 1, 1, 1, 0, 1, 1, 1, 1, 1, 1, 1, 0, 1])"
            ]
          },
          "metadata": {},
          "execution_count": 44
        }
      ],
      "source": [
        "gnb=GaussianNB()\n",
        "gnb_fit=gnb.fit(xtrain,ytrain)\n",
        "gnb_predict=gnb_fit.predict(xtest)\n",
        "gnb_predict"
      ]
    },
    {
      "cell_type": "code",
      "execution_count": 45,
      "id": "4dff74aa",
      "metadata": {
        "id": "4dff74aa",
        "outputId": "3c271f52-bf70-446a-bd56-54d7d6d9a66a",
        "colab": {
          "base_uri": "https://localhost:8080/"
        }
      },
      "outputs": [
        {
          "output_type": "stream",
          "name": "stdout",
          "text": [
            "f1_score: [0.77372263 0.81325301]\n",
            "accuracy score: 0.7953795379537953\n",
            "confusion_matrix: \n",
            " [[106  40]\n",
            " [ 22 135]]\n"
          ]
        }
      ],
      "source": [
        "print('f1_score:',metrics.f1_score(ytest,gnb_predict,average=None))\n",
        "print('accuracy score:',metrics.accuracy_score(ytest,gnb_predict))\n",
        "print('confusion_matrix:','\\n',metrics.confusion_matrix(ytest,gnb_predict))\n"
      ]
    },
    {
      "cell_type": "code",
      "source": [
        "#Gradient Boosting Classifier"
      ],
      "metadata": {
        "id": "QziLzp7OHih4"
      },
      "id": "QziLzp7OHih4",
      "execution_count": 46,
      "outputs": []
    },
    {
      "cell_type": "code",
      "source": [
        "from sklearn.ensemble import GradientBoostingClassifier"
      ],
      "metadata": {
        "id": "OKOg0ZpHH7tV"
      },
      "id": "OKOg0ZpHH7tV",
      "execution_count": 47,
      "outputs": []
    },
    {
      "cell_type": "code",
      "source": [
        "gbc=GradientBoostingClassifier()\n",
        "gbc_fit=gbc.fit(xtrain,ytrain)\n",
        "gbc_predict=gbc_fit.predict(xtest)\n",
        "gbc_predict"
      ],
      "metadata": {
        "colab": {
          "base_uri": "https://localhost:8080/"
        },
        "id": "F4siLc7TIBHQ",
        "outputId": "56225404-02f8-4d44-c7c7-e8466e987ea9"
      },
      "id": "F4siLc7TIBHQ",
      "execution_count": 48,
      "outputs": [
        {
          "output_type": "execute_result",
          "data": {
            "text/plain": [
              "array([1, 1, 1, 0, 1, 0, 0, 1, 1, 1, 1, 0, 0, 1, 0, 0, 1, 1, 0, 1, 1, 0,\n",
              "       0, 1, 0, 0, 1, 0, 0, 0, 0, 0, 1, 1, 1, 0, 0, 1, 0, 1, 0, 1, 0, 0,\n",
              "       1, 1, 1, 1, 1, 1, 1, 1, 1, 0, 0, 0, 1, 1, 1, 0, 1, 0, 1, 1, 1, 0,\n",
              "       1, 1, 1, 1, 0, 0, 0, 1, 1, 1, 0, 0, 0, 1, 0, 0, 0, 1, 0, 0, 1, 0,\n",
              "       0, 0, 0, 0, 1, 0, 0, 1, 1, 0, 0, 0, 1, 0, 1, 0, 0, 0, 1, 0, 1, 1,\n",
              "       0, 1, 1, 1, 0, 1, 0, 1, 1, 0, 0, 0, 1, 1, 0, 1, 1, 0, 1, 1, 1, 1,\n",
              "       1, 0, 0, 1, 1, 0, 0, 1, 0, 0, 0, 1, 1, 1, 0, 1, 0, 0, 0, 0, 1, 0,\n",
              "       1, 1, 0, 0, 1, 1, 0, 1, 0, 0, 1, 1, 0, 0, 0, 0, 1, 1, 1, 0, 1, 1,\n",
              "       1, 1, 1, 1, 0, 0, 1, 1, 0, 0, 0, 0, 1, 1, 1, 0, 1, 1, 0, 1, 1, 0,\n",
              "       1, 1, 1, 0, 0, 1, 0, 0, 0, 1, 1, 0, 1, 1, 0, 1, 1, 0, 1, 0, 0, 1,\n",
              "       0, 1, 1, 0, 1, 1, 1, 0, 0, 0, 1, 0, 0, 0, 1, 1, 1, 1, 1, 0, 0, 0,\n",
              "       1, 0, 1, 1, 1, 1, 0, 1, 0, 0, 0, 1, 0, 1, 0, 1, 0, 1, 0, 0, 1, 1,\n",
              "       1, 1, 1, 0, 0, 0, 1, 1, 1, 1, 0, 1, 1, 1, 0, 0, 0, 0, 1, 1, 1, 0,\n",
              "       0, 0, 0, 1, 0, 1, 1, 0, 1, 1, 1, 1, 1, 1, 1, 0, 1])"
            ]
          },
          "metadata": {},
          "execution_count": 48
        }
      ]
    },
    {
      "cell_type": "code",
      "source": [
        "print('f1_score:',metrics.f1_score(ytest,gbc_predict,average=None))\n",
        "print('accuracy score:',metrics.accuracy_score(ytest,gbc_predict))\n",
        "print('confusion_matrix:','\\n',metrics.confusion_matrix(ytest,gbc_predict))"
      ],
      "metadata": {
        "colab": {
          "base_uri": "https://localhost:8080/"
        },
        "id": "2On7uelMIF2I",
        "outputId": "e83154ec-1366-4f91-cdd4-f5a163a132b0"
      },
      "id": "2On7uelMIF2I",
      "execution_count": 49,
      "outputs": [
        {
          "output_type": "stream",
          "name": "stdout",
          "text": [
            "f1_score: [0.97560976 0.97805643]\n",
            "accuracy score: 0.976897689768977\n",
            "confusion_matrix: \n",
            " [[140   6]\n",
            " [  1 156]]\n"
          ]
        }
      ]
    },
    {
      "cell_type": "code",
      "source": [
        "#Confusion Matrix"
      ],
      "metadata": {
        "id": "h9Jrt4IXJdqT"
      },
      "id": "h9Jrt4IXJdqT",
      "execution_count": 53,
      "outputs": []
    },
    {
      "cell_type": "code",
      "source": [
        "plt.figure(figsize=(19,17))\n",
        "plt.subplot(4,4,1)\n",
        "sns.heatmap(metrics.confusion_matrix(ytest,lgr_predict),annot=True, fmt=\".1f\")\n",
        "plt.title('Logistic Regression')\n",
        "plt.subplot(4,4,2)\n",
        "sns.heatmap(metrics.confusion_matrix(ytest,dt_predict),annot=True, fmt=\".1f\")\n",
        "plt.title('Decision Tree')\n",
        "plt.subplot(4,4,3)\n",
        "sns.heatmap(metrics.confusion_matrix(ytest,rf_predict),annot=True, fmt=\".1f\")\n",
        "plt.title('Random Forest')\n",
        "plt.subplot(4,4,4)\n",
        "sns.heatmap(metrics.confusion_matrix(ytest,kn_predict),annot=True, fmt=\".1f\")\n",
        "plt.title('KNN')\n",
        "plt.subplot(4,4,5)\n",
        "sns.heatmap(metrics.confusion_matrix(ytest,svc_predict),annot=True, fmt=\".1f\")\n",
        "plt.title('SVM')\n",
        "plt.subplot(4,4,6)\n",
        "sns.heatmap(metrics.confusion_matrix(ytest,gnb_predict),annot=True, fmt=\".1f\")\n",
        "plt.title('Naive Bayes')\n",
        "plt.subplot(4,4,7)\n",
        "sns.heatmap(metrics.confusion_matrix(ytest,gbc_predict),annot=True, fmt=\".1f\")\n",
        "plt.title('Gradiant Boost')\n",
        "plt.show()"
      ],
      "metadata": {
        "colab": {
          "base_uri": "https://localhost:8080/",
          "height": 506
        },
        "id": "_NiPgnrf_bOi",
        "outputId": "a5475860-ce3f-4d78-d144-5e51239d7d78"
      },
      "id": "_NiPgnrf_bOi",
      "execution_count": 54,
      "outputs": [
        {
          "output_type": "display_data",
          "data": {
            "text/plain": [
              "<Figure size 1368x1224 with 14 Axes>"
            ],
            "image/png": "[encoded data removed]"
          },
          "metadata": {
            "needs_background": "light"
          }
        }
      ]
    },
    {
      "cell_type": "code",
      "source": [
        "#classification report"
      ],
      "metadata": {
        "id": "9YsjyCP9_bZ8"
      },
      "id": "9YsjyCP9_bZ8",
      "execution_count": 55,
      "outputs": []
    },
    {
      "cell_type": "code",
      "source": [
        "from sklearn.metrics import classification_report"
      ],
      "metadata": {
        "id": "DEUWKzKM_bco"
      },
      "id": "DEUWKzKM_bco",
      "execution_count": 56,
      "outputs": []
    },
    {
      "cell_type": "code",
      "source": [
        "print('Logistic Regression:','\\n',metrics.classification_report(ytest,lgr_predict)),\n",
        "print('Decision Tree:','\\n',metrics.classification_report(ytest,dt_predict)),\n",
        "print('Random Forest:','\\n',metrics.classification_report(ytest,rf_predict)),\n",
        "print('KNN:','\\n',metrics.classification_report(ytest,kn_predict)),\n",
        "print('SVM:','\\n',metrics.classification_report(ytest,svc_predict)),\n",
        "print('Naive_bayes:','\\n',metrics.classification_report(ytest,gnb_predict))\n",
        "print('Gradiant Boost:','\\n',metrics.classification_report(ytest,gbc_predict))"
      ],
      "metadata": {
        "colab": {
          "base_uri": "https://localhost:8080/"
        },
        "id": "0ZXSQilQCzgL",
        "outputId": "e1fa8de9-f230-4899-c65e-d3d97d9efff5"
      },
      "id": "0ZXSQilQCzgL",
      "execution_count": 57,
      "outputs": [
        {
          "output_type": "stream",
          "name": "stdout",
          "text": [
            "Logistic Regression: \n",
            "               precision    recall  f1-score   support\n",
            "\n",
            "           0       0.83      0.73      0.78       146\n",
            "           1       0.78      0.86      0.82       157\n",
            "\n",
            "    accuracy                           0.80       303\n",
            "   macro avg       0.80      0.80      0.80       303\n",
            "weighted avg       0.80      0.80      0.80       303\n",
            "\n",
            "Decision Tree: \n",
            "               precision    recall  f1-score   support\n",
            "\n",
            "           0       1.00      1.00      1.00       146\n",
            "           1       1.00      1.00      1.00       157\n",
            "\n",
            "    accuracy                           1.00       303\n",
            "   macro avg       1.00      1.00      1.00       303\n",
            "weighted avg       1.00      1.00      1.00       303\n",
            "\n",
            "Random Forest: \n",
            "               precision    recall  f1-score   support\n",
            "\n",
            "           0       0.98      1.00      0.99       146\n",
            "           1       1.00      0.98      0.99       157\n",
            "\n",
            "    accuracy                           0.99       303\n",
            "   macro avg       0.99      0.99      0.99       303\n",
            "weighted avg       0.99      0.99      0.99       303\n",
            "\n",
            "KNN: \n",
            "               precision    recall  f1-score   support\n",
            "\n",
            "           0       0.83      0.90      0.87       146\n",
            "           1       0.90      0.83      0.86       157\n",
            "\n",
            "    accuracy                           0.86       303\n",
            "   macro avg       0.87      0.87      0.86       303\n",
            "weighted avg       0.87      0.86      0.86       303\n",
            "\n",
            "SVM: \n",
            "               precision    recall  f1-score   support\n",
            "\n",
            "           0       0.87      0.70      0.78       146\n",
            "           1       0.76      0.90      0.83       157\n",
            "\n",
            "    accuracy                           0.81       303\n",
            "   macro avg       0.82      0.80      0.80       303\n",
            "weighted avg       0.82      0.81      0.80       303\n",
            "\n",
            "Naive_bayes: \n",
            "               precision    recall  f1-score   support\n",
            "\n",
            "           0       0.83      0.73      0.77       146\n",
            "           1       0.77      0.86      0.81       157\n",
            "\n",
            "    accuracy                           0.80       303\n",
            "   macro avg       0.80      0.79      0.79       303\n",
            "weighted avg       0.80      0.80      0.79       303\n",
            "\n",
            "Gradiant Boost: \n",
            "               precision    recall  f1-score   support\n",
            "\n",
            "           0       0.99      0.96      0.98       146\n",
            "           1       0.96      0.99      0.98       157\n",
            "\n",
            "    accuracy                           0.98       303\n",
            "   macro avg       0.98      0.98      0.98       303\n",
            "weighted avg       0.98      0.98      0.98       303\n",
            "\n"
          ]
        }
      ]
    },
    {
      "cell_type": "code",
      "source": [
        "#predict the best model"
      ],
      "metadata": {
        "id": "RhlPoTwwC3Sw"
      },
      "id": "RhlPoTwwC3Sw",
      "execution_count": 116,
      "outputs": []
    },
    {
      "cell_type": "code",
      "source": [
        "from sklearn.metrics import roc_curve"
      ],
      "metadata": {
        "id": "qhHE8iXEC6PP"
      },
      "id": "qhHE8iXEC6PP",
      "execution_count": 118,
      "outputs": []
    },
    {
      "cell_type": "code",
      "source": [
        "fpr='False Positive Rate'\n",
        "tpr='True Possitive Rate'\n",
        "thrs='Thresshold'\n",
        "lgr_fpr,lgr_tpr,lgr_thrs=roc_curve(ytest,lgr_predict)\n",
        "dt_fpr,dt_tpr,dt_thrs=roc_curve(ytest,dt_predict)\n",
        "rf_fpr,rf_tpr,rf_thrs=roc_curve(ytest,rf_predict)\n",
        "kn_fpr,kn_tpr,kn_thrs=roc_curve(ytest,kn_predict)\n",
        "svc_fpr,svc_tpr,svc_thrs=roc_curve(ytest,svc_predict)\n",
        "gnb_fpr,gnb_tpr,gnb_thrs=roc_curve(ytest,gnb_predict)\n",
        "gbc_fpr,gbc_tpr,gbc_thrs=roc_curve(ytest,gbc_predict)"
      ],
      "metadata": {
        "id": "5G7dKaAtDBWP"
      },
      "id": "5G7dKaAtDBWP",
      "execution_count": 119,
      "outputs": []
    },
    {
      "cell_type": "code",
      "source": [
        "plt.figure(figsize=(13,9))\n",
        "plt.plot(lgr_fpr,lgr_tpr,label='Logical Regression')\n",
        "plt.plot(dt_fpr,dt_tpr,label='Decision Tree')\n",
        "plt.plot(rf_fpr,rf_tpr,label='Random Forest')\n",
        "plt.plot(kn_fpr,kn_tpr,label='KNN')\n",
        "plt.plot(svc_fpr,svc_tpr,label='SVM')\n",
        "plt.plot(gnb_fpr,gnb_tpr,label='Naive Bayes')\n",
        "plt.plot(gbc_fpr,gbc_tpr,label='Gradient Boost')\n",
        "plt.plot([0,1],linestyle='--')\n",
        "plt.legend()\n",
        "plt.xlabel('False Positive Rate')\n",
        "plt.ylabel('True Positive Rate')\n",
        "plt.title('Receiver Operation Curve')\n",
        "plt.grid()\n",
        "plt.show()"
      ],
      "metadata": {
        "colab": {
          "base_uri": "https://localhost:8080/",
          "height": 567
        },
        "id": "uRJEbOWDFF3M",
        "outputId": "4eaffcae-7fe9-43eb-bcea-857fb6c3bef6"
      },
      "id": "uRJEbOWDFF3M",
      "execution_count": 129,
      "outputs": [
        {
          "output_type": "display_data",
          "data": {
            "text/plain": [
              "<Figure size 936x648 with 1 Axes>"
            ],
            "image/png": "[encoded data removed]"
          },
          "metadata": {
            "needs_background": "light"
          }
        }
      ]
    },
    {
      "cell_type": "code",
      "execution_count": 50,
      "id": "128c9ce2",
      "metadata": {
        "id": "128c9ce2"
      },
      "outputs": [],
      "source": [
        "# accuracy score"
      ]
    },
    {
      "cell_type": "code",
      "execution_count": 51,
      "id": "6fdcb132",
      "metadata": {
        "id": "6fdcb132",
        "colab": {
          "base_uri": "https://localhost:8080/",
          "height": 269
        },
        "outputId": "ec08296f-3b2e-4376-83fe-a3a010bc5dad"
      },
      "outputs": [
        {
          "output_type": "execute_result",
          "data": {
            "text/plain": [
              "                       Model  Accuracy_Score (in %)\n",
              "0        Logistic_regression              79.867987\n",
              "1              Decision Tree             100.000000\n",
              "2              Random Forest              99.009901\n",
              "3                        KNN              86.468647\n",
              "4                        SVM              80.528053\n",
              "5                Naive Bayes              79.537954\n",
              "6  Gradiant Boost Classifier              97.689769"
            ],
            "text/html": [
              "\n",
              "  <div id=\"df-77cc44ae-5584-4f75-a093-9663657171df\">\n",
              "    <div class=\"colab-df-container\">\n",
              "      <div>\n",
              "<style scoped>\n",
              "    .dataframe tbody tr th:only-of-type {\n",
              "        vertical-align: middle;\n",
              "    }\n",
              "\n",
              "    .dataframe tbody tr th {\n",
              "        vertical-align: top;\n",
              "    }\n",
              "\n",
              "    .dataframe thead th {\n",
              "        text-align: right;\n",
              "    }\n",
              "</style>\n",
              "<table border=\"1\" class=\"dataframe\">\n",
              "  <thead>\n",
              "    <tr style=\"text-align: right;\">\n",
              "      <th></th>\n",
              "      <th>Model</th>\n",
              "      <th>Accuracy_Score (in %)</th>\n",
              "    </tr>\n",
              "  </thead>\n",
              "  <tbody>\n",
              "    <tr>\n",
              "      <th>0</th>\n",
              "      <td>Logistic_regression</td>\n",
              "      <td>79.867987</td>\n",
              "    </tr>\n",
              "    <tr>\n",
              "      <th>1</th>\n",
              "      <td>Decision Tree</td>\n",
              "      <td>100.000000</td>\n",
              "    </tr>\n",
              "    <tr>\n",
              "      <th>2</th>\n",
              "      <td>Random Forest</td>\n",
              "      <td>99.009901</td>\n",
              "    </tr>\n",
              "    <tr>\n",
              "      <th>3</th>\n",
              "      <td>KNN</td>\n",
              "      <td>86.468647</td>\n",
              "    </tr>\n",
              "    <tr>\n",
              "      <th>4</th>\n",
              "      <td>SVM</td>\n",
              "      <td>80.528053</td>\n",
              "    </tr>\n",
              "    <tr>\n",
              "      <th>5</th>\n",
              "      <td>Naive Bayes</td>\n",
              "      <td>79.537954</td>\n",
              "    </tr>\n",
              "    <tr>\n",
              "      <th>6</th>\n",
              "      <td>Gradiant Boost Classifier</td>\n",
              "      <td>97.689769</td>\n",
              "    </tr>\n",
              "  </tbody>\n",
              "</table>\n",
              "</div>\n",
              "      <button class=\"colab-df-convert\" onclick=\"convertToInteractive('df-77cc44ae-5584-4f75-a093-9663657171df')\"\n",
              "              title=\"Convert this dataframe to an interactive table.\"\n",
              "              style=\"display:none;\">\n",
              "        \n",
              "  <svg xmlns=\"http://www.w3.org/2000/svg\" height=\"24px\"viewBox=\"0 0 24 24\"\n",
              "       width=\"24px\">\n",
              "    <path d=\"M0 0h24v24H0V0z\" fill=\"none\"/>\n",
              "    <path d=\"M18.56 5.44l.94 2.06.94-2.06 2.06-.94-2.06-.94-.94-2.06-.94 2.06-2.06.94zm-11 1L8.5 8.5l.94-2.06 2.06-.94-2.06-.94L8.5 2.5l-.94 2.06-2.06.94zm10 10l.94 2.06.94-2.06 2.06-.94-2.06-.94-.94-2.06-.94 2.06-2.06.94z\"/><path d=\"M17.41 7.96l-1.37-1.37c-.4-.4-.92-.59-1.43-.59-.52 0-1.04.2-1.43.59L10.3 9.45l-7.72 7.72c-.78.78-.78 2.05 0 2.83L4 21.41c.39.39.9.59 1.41.59.51 0 1.02-.2 1.41-.59l7.78-7.78 2.81-2.81c.8-.78.8-2.07 0-2.86zM5.41 20L4 18.59l7.72-7.72 1.47 1.35L5.41 20z\"/>\n",
              "  </svg>\n",
              "      </button>\n",
              "      \n",
              "  <style>\n",
              "    .colab-df-container {\n",
              "      display:flex;\n",
              "      flex-wrap:wrap;\n",
              "      gap: 12px;\n",
              "    }\n",
              "\n",
              "    .colab-df-convert {\n",
              "      background-color: #E8F0FE;\n",
              "      border: none;\n",
              "      border-radius: 50%;\n",
              "      cursor: pointer;\n",
              "      display: none;\n",
              "      fill: #1967D2;\n",
              "      height: 32px;\n",
              "      padding: 0 0 0 0;\n",
              "      width: 32px;\n",
              "    }\n",
              "\n",
              "    .colab-df-convert:hover {\n",
              "      background-color: #E2EBFA;\n",
              "      box-shadow: 0px 1px 2px rgba(60, 64, 67, 0.3), 0px 1px 3px 1px rgba(60, 64, 67, 0.15);\n",
              "      fill: #174EA6;\n",
              "    }\n",
              "\n",
              "    [theme=dark] .colab-df-convert {\n",
              "      background-color: #3B4455;\n",
              "      fill: #D2E3FC;\n",
              "    }\n",
              "\n",
              "    [theme=dark] .colab-df-convert:hover {\n",
              "      background-color: #434B5C;\n",
              "      box-shadow: 0px 1px 3px 1px rgba(0, 0, 0, 0.15);\n",
              "      filter: drop-shadow(0px 1px 2px rgba(0, 0, 0, 0.3));\n",
              "      fill: #FFFFFF;\n",
              "    }\n",
              "  </style>\n",
              "\n",
              "      <script>\n",
              "        const buttonEl =\n",
              "          document.querySelector('#df-77cc44ae-5584-4f75-a093-9663657171df button.colab-df-convert');\n",
              "        buttonEl.style.display =\n",
              "          google.colab.kernel.accessAllowed ? 'block' : 'none';\n",
              "\n",
              "        async function convertToInteractive(key) {\n",
              "          const element = document.querySelector('#df-77cc44ae-5584-4f75-a093-9663657171df');\n",
              "          const dataTable =\n",
              "            await google.colab.kernel.invokeFunction('convertToInteractive',\n",
              "                                                     [key], {});\n",
              "          if (!dataTable) return;\n",
              "\n",
              "          const docLinkHtml = 'Like what you see? Visit the ' +\n",
              "            '<a target=\"_blank\" href=https://colab.research.google.com/notebooks/data_table.ipynb>data table notebook</a>'\n",
              "            + ' to learn more about interactive tables.';\n",
              "          element.innerHTML = '';\n",
              "          dataTable['output_type'] = 'display_data';\n",
              "          await google.colab.output.renderOutput(dataTable, element);\n",
              "          const docLink = document.createElement('div');\n",
              "          docLink.innerHTML = docLinkHtml;\n",
              "          element.appendChild(docLink);\n",
              "        }\n",
              "      </script>\n",
              "    </div>\n",
              "  </div>\n",
              "  "
            ]
          },
          "metadata": {},
          "execution_count": 51
        }
      ],
      "source": [
        "Model=['Logistic_regression',\n",
        "     'Decision Tree',\n",
        "     'Random Forest',\n",
        "     'KNN',\n",
        "     'SVM',\n",
        "     'Naive Bayes',\n",
        "     'Gradiant Boost Classifier']\n",
        "Accuracy_Score=[metrics.accuracy_score(ytest,lgr_predict)*100,\n",
        "     metrics.accuracy_score(ytest,dt_predict)*100,\n",
        "     metrics.accuracy_score(ytest,rf_predict)*100,\n",
        "     metrics.accuracy_score(ytest,kn_predict)*100,\n",
        "     metrics.accuracy_score(ytest,svc_predict)*100,\n",
        "     metrics.accuracy_score(ytest,gnb_predict)*100,\n",
        "     metrics.accuracy_score(ytest,gbc_predict)*100,]\n",
        "\n",
        "accuracy_score=pd.DataFrame({'Model':Model,'Accuracy_Score (in %)':Accuracy_Score})\n",
        "accuracy_score\n"
      ]
    },
    {
      "cell_type": "code",
      "source": [
        "plt.figure(figsize=(15,6))\n",
        "plt.barh(accuracy_score['Model'],accuracy_score['Accuracy_Score (in %)'],color=['red','blue','green','orange','cyan','indigo','purple'])\n",
        "plt.ylabel('ML_Model')\n",
        "plt.xlabel('Accuracy_Score (in %)')\n",
        "plt.title('Accuracy_score')\n",
        "plt.grid()\n",
        "plt.show()"
      ],
      "metadata": {
        "colab": {
          "base_uri": "https://localhost:8080/",
          "height": 405
        },
        "id": "3a-DYwU0-_v9",
        "outputId": "9c036668-963d-4dc8-ab97-e949c3bab514"
      },
      "id": "3a-DYwU0-_v9",
      "execution_count": 130,
      "outputs": [
        {
          "output_type": "display_data",
          "data": {
            "text/plain": [
              "<Figure size 1080x432 with 1 Axes>"
            ],
            "image/png": "[encoded data removed]"
          },
          "metadata": {
            "needs_background": "light"
          }
        }
      ]
    },
    {
      "cell_type": "markdown",
      "source": [],
      "metadata": {
        "id": "nSecXojRtzYJ"
      },
      "id": "nSecXojRtzYJ"
    },
    {
      "cell_type": "code",
      "source": [
        "#Combining All ML_Model"
      ],
      "metadata": {
        "id": "ouyAL9G7mku3"
      },
      "id": "ouyAL9G7mku3",
      "execution_count": 180,
      "outputs": []
    },
    {
      "cell_type": "code",
      "source": [
        "Ml_Model={\n",
        "    'Logistic_regression':lgr,\n",
        "    'Decision Tree':dt,\n",
        "    'Random Forest':rf,\n",
        "    'KNN':kn,\n",
        "    'SVM':svc,\n",
        "    'Naive Bayes':gnb,\n",
        "    'Gradiant Boost Classifier':gbc,\n",
        "    }"
      ],
      "metadata": {
        "id": "C5p7gjXWmsRJ"
      },
      "id": "C5p7gjXWmsRJ",
      "execution_count": 165,
      "outputs": []
    },
    {
      "cell_type": "code",
      "source": [
        "for key in Ml_Model:\n",
        "  classifier=Ml_Model[key]\n",
        "  clf_fit=classifier.fit(xtrain,ytrain)\n",
        "  clf_predict=clf_fit.predict(xtest)"
      ],
      "metadata": {
        "id": "MiEZii3iqbkx"
      },
      "id": "MiEZii3iqbkx",
      "execution_count": 175,
      "outputs": []
    },
    {
      "cell_type": "code",
      "source": [
        "print('f1_score:',metrics.f1_score(ytest,clf_predict,average=None))\n",
        "print('confusion_matrix:','\\n',metrics.confusion_matrix(ytest,clf_predict))\n",
        "print('Classification Report:','\\n',metrics.classification_report(ytest,clf_predict))"
      ],
      "metadata": {
        "colab": {
          "base_uri": "https://localhost:8080/"
        },
        "id": "pPl6-T_ZtLfL",
        "outputId": "a41308f1-f60c-4705-98f2-a7c54dc8bb1a"
      },
      "id": "pPl6-T_ZtLfL",
      "execution_count": 170,
      "outputs": [
        {
          "output_type": "stream",
          "name": "stdout",
          "text": [
            "f1_score: [0.97560976 0.97805643]\n",
            "confusion_matrix: \n",
            " [[140   6]\n",
            " [  1 156]]\n",
            "Classification Report: \n",
            "               precision    recall  f1-score   support\n",
            "\n",
            "           0       0.99      0.96      0.98       146\n",
            "           1       0.96      0.99      0.98       157\n",
            "\n",
            "    accuracy                           0.98       303\n",
            "   macro avg       0.98      0.98      0.98       303\n",
            "weighted avg       0.98      0.98      0.98       303\n",
            "\n"
          ]
        }
      ]
    },
    {
      "cell_type": "code",
      "source": [
        "print('accuracy score:',metrics.accuracy_score(ytest,clf_predict)*100)"
      ],
      "metadata": {
        "colab": {
          "base_uri": "https://localhost:8080/"
        },
        "id": "5sQLdEt9uNr6",
        "outputId": "8ef71c13-1868-4b33-b5bc-635dba090fae"
      },
      "id": "5sQLdEt9uNr6",
      "execution_count": 181,
      "outputs": [
        {
          "output_type": "stream",
          "name": "stdout",
          "text": [
            "accuracy score: 97.6897689768977\n"
          ]
        }
      ]
    }
  ],
  "metadata": {
    "kernelspec": {
      "display_name": "Python 3 (ipykernel)",
      "language": "python",
      "name": "python3"
    },
    "language_info": {
      "codemirror_mode": {
        "name": "ipython",
        "version": 3
      },
      "file_extension": ".py",
      "mimetype": "text/x-python",
      "name": "python",
      "nbconvert_exporter": "python",
      "pygments_lexer": "ipython3",
      "version": "3.9.12"
    },
    "colab": {
      "provenance": [],
      "include_colab_link": true
    }
  },
  "nbformat": 4,
  "nbformat_minor": 5
}